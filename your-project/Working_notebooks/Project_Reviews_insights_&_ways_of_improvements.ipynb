{
 "cells": [
  {
   "cell_type": "markdown",
   "metadata": {},
   "source": [
    "# Goals of the project"
   ]
  },
  {
   "cell_type": "markdown",
   "metadata": {},
   "source": [
    "The project aimed at collecting data from several AirBnB datasets in order to analyze the impact of several important events in Barcelona (mainly the Mobile World Congress) over the prices in AirBnB hosts over all main neighbourhoods of Barcelona.\n",
    "\n",
    "With the extraction of several datasets of the city, we created ad hoc tables, centralizing informations over the evolution of prices of over 20K AirBnB locations (on 2018 & 2019) and the key informations of those 20K AirBnB hosts (number of appartments rented, locations etc.).\n",
    "\n",
    "With Tableau & Pandas visualizations, we created an ad hoc study summarizing key informations over the . The study clearly highlights the strong impact of MWC  as a key event on the important rises of prices of AirBnB."
   ]
  },
  {
   "cell_type": "markdown",
   "metadata": {},
   "source": [
    "# Data Collection"
   ]
  },
  {
   "cell_type": "markdown",
   "metadata": {},
   "source": [
    "#### 4 step data pipeline scheme"
   ]
  },
  {
   "cell_type": "markdown",
   "metadata": {},
   "source": [
    "# cf. Data_pipeline file for details on the collection process. Here after a simplified version of the pipeline\n",
    "\n",
    "Following the 4 steps process of collecting data with Acquisition, Wrangling, Analysis & Reporting, the data pipeline acquires the data, mainly from insideairbnb.com, and merges automatically different tables (calendar, host listings) over a single host_id key, and keep only key columns needed for the study, in order to create a new table suited to the study's needs.\n",
    "\n",
    "The main challenge consisted in collecting & mixing up several datasets, cleaning the data and outputing an exploitable dataset.\n",
    "\n",
    "Moreover, as the AirBnB API is a closed API, reserved exclusively to hosts (host authorization required), which outputs only own host's data, and not overall data of the studied city, we gathered our data from CSV available online.\n",
    "We completed our data collection with several web scrapping operations, aiming at collecting key data over Barcelona's general touristic occupation.\n",
    "\n",
    "def acquire_calendar(url_calendar):\n",
    "    \"\"\"\n",
    "    Input : give url for calendar & host listings\n",
    "    Output : return raw data frame for calendar & host listings to be cleansed\n",
    "    \"\"\"\n",
    "    airbnb_calendar = pd.read_csv(url_calendar)\n",
    "    return airbnb_calendar\n",
    "\n",
    "def acquire_listing(url_listing):\n",
    "    \"\"\"\n",
    "    Input : give url for calendar & host listings\n",
    "    Output : return raw data frame for calendar & host listings to be cleansed\n",
    "    \"\"\"\n",
    "    airbnb_listing = pd.read_csv(url_listing)\n",
    "    return airbnb_listing\n",
    "\n",
    "def wrangle(airbnb_calendar, airbnb_listing):\n",
    "    \"\"\"\n",
    "    Input : give two df airbnb_listing & airbnb_calendar\n",
    "    Output : return cleansed merged data frame\n",
    "    \"\"\"\n",
    "    #merging tables together\n",
    "    table_neighborhood_raw = pd.DataFrame.merge(airbnb_calendar, airbnb_listing, left_on = 'listing_id', right_on = 'id')\n",
    "def analyze(table_neighborhoods):\n",
    "    \"\"\"\n",
    "    Input : give table to analyze\n",
    "    Output : return light version of the table with only 'Entire home' room type\n",
    "    \"\"\"   \n",
    "    #droping useless column room_type\n",
    "    table_neighborhoods.drop(columns=['room_type'], inplace = True)\n",
    "    table_neighborhoods_3000 = table_neighborhoods.loc[table_neighborhoods[\"price_x\"] < 3000]\n",
    "    return table_neighborhoods_3000\n",
    "\n",
    "def save_report(table_neighborhoods_3000, file_name):\n",
    "    print('the merged & cleansed table has been created, now we need to save it in a .csv')\n",
    "    \n",
    "    table_neighborhoods_3000.to_csv('r' + file_name +'.csv')\n",
    "\n",
    "\n",
    "if __name__ == '__main__':\n",
    "    print('today we are going to extract one year of BCN AirBnb data !')\n",
    "    print('hello mates')\n",
    "\n",
    "    airbnb_calendar = acquire_calendar(url_calendar)\n",
    "    airbnb_listing = acquire_listing(url_listing)\n",
    "    #Wrangling\n",
    "    table_neighborhood_filtered = wrangle(airbnb_calendar, airbnb_listing)\n",
    "\n",
    "    #Analysis\n",
    "    table_neighborhood_clean = analyze(table_neighborhood_filtered)\n",
    "\n",
    "    #reporting\n",
    "    save_report(table_neighborhood_clean, file_name)\n",
    "    \n",
    "    print('Data pipeline completed, have a nice day.')\n"
   ]
  },
  {
   "cell_type": "markdown",
   "metadata": {},
   "source": [
    "## Key findings"
   ]
  },
  {
   "cell_type": "markdown",
   "metadata": {},
   "source": [
    "The study put forward how, in February, a month usually not the most touristic, AirBnB prices rise greatly.\n",
    "What may seems to be an outlier in the overall AirBnB price data, which presents important - and logic - price spikes during summer, highlights in reality the important impact of the MWC as the single event of the year where prices rise the most."
   ]
  },
  {
   "cell_type": "markdown",
   "metadata": {},
   "source": [
    "## Tableau Realisation"
   ]
  },
  {
   "cell_type": "markdown",
   "metadata": {},
   "source": [
    "Tableau Presentation dashboards & slides entirely available on [AirBnB Tableau presentation on Anna Riera Tableau Public Account](https://public.tableau.com/profile/arierap#!/vizhome/AirBnBAnalysis-MWC/AIRBNB-MWC-Anlaysis?publish=yes)"
   ]
  },
  {
   "cell_type": "markdown",
   "metadata": {},
   "source": [
    "As all Tableau dashboards presented in that study, all dashboards are dynamic (hover your mouse or click on one bar to focus on the price on a particular day). \n",
    "\n",
    "Let us walk you through our analysis developed over the following Tableau dashboards."
   ]
  },
  {
   "cell_type": "markdown",
   "metadata": {},
   "source": [
    "#### Evolution trends of average room renting prices & average tourism activity in Barcelona in 2018 & 2019"
   ]
  },
  {
   "cell_type": "markdown",
   "metadata": {},
   "source": [
    "First Tableau dashboard illustrates, with dynamic bar charts, the evolution of price on a daily basis for 2018 & 2019. \n",
    "\n",
    "One’s intuition is to suppose that tourism activity & AirBnB prices reach peaks during summer months and, indeed, prices are the highest from May to September.\n",
    "\n",
    "Looking at the graph, though, February seems to be an outlier in the prices, with important average monthly rate, way more important than other winter months.\n",
    "We will developed on later graphs how several events influences greatly the overal prices of renting in BCN.\n",
    "\n",
    "The finale graph shows the average evolution trend of touristic activity in Barcelona, in order to put in perspectives the evolution of prices of AirBnB prices versus tourism."
   ]
  },
  {
   "cell_type": "markdown",
   "metadata": {},
   "source": [
    "### Dash#1 - average room occupation rate & touristic activities in 2018"
   ]
  },
  {
   "cell_type": "markdown",
   "metadata": {},
   "source": [
    "<img src=https://raw.githubusercontent.com/Binardino/Project-Week-3-Data-Thieves/master/your-project/Tableau_Screenshots/BCN_avg_renting_price_2018_Tableau_1.png>"
   ]
  },
  {
   "cell_type": "markdown",
   "metadata": {},
   "source": [
    "### Dash#2 - average room occupation rate & touristic activities in 2019"
   ]
  },
  {
   "cell_type": "markdown",
   "metadata": {},
   "source": [
    "<img src=\"https://raw.githubusercontent.com/Binardino/Project-Week-3-Data-Thieves/master/your-project/Tableau_Screenshots/BCN_avg_renting_price_2019_Tableau_2.png\">"
   ]
  },
  {
   "cell_type": "markdown",
   "metadata": {},
   "source": [
    "The following interactive dashboard illustrates the evolution of prices on a daily basis of AirBnB rentals in BCN, \n",
    "\n",
    "For both years 2018 & 2019, the Mobile World Congress impact, held in February, is clearly highlighted and one may immediately see how the MWC event greatly impacts AirBnB prices and is, by far, the highest price spike of the year.\n",
    "\n",
    "When analysing the graph, other smaller spikes may be highlight, notably the Sonar festival in July, or even every single weekends along the year which generate small 2-day price spikes.\n",
    "\n",
    "This graph illustrate clearly how MWC impact the overall AirBnB prices."
   ]
  },
  {
   "cell_type": "markdown",
   "metadata": {},
   "source": [
    "### Dash#3 - average daily AirBnB price rate in 2018"
   ]
  },
  {
   "cell_type": "markdown",
   "metadata": {},
   "source": [
    "<img src=\"https://raw.githubusercontent.com/Binardino/Project-Week-3-Data-Thieves/master/your-project/Tableau_Screenshots/annual_rent_2018_Tableau_3.png\">"
   ]
  },
  {
   "cell_type": "markdown",
   "metadata": {},
   "source": [
    "### Dash#4 - average daily AirBnB price rate in 2019"
   ]
  },
  {
   "cell_type": "markdown",
   "metadata": {},
   "source": [
    "<img src=\"https://raw.githubusercontent.com/Binardino/Project-Week-3-Data-Thieves/master/your-project/Tableau_Screenshots/annual_rent_2019_Tableau_3.png\">"
   ]
  },
  {
   "cell_type": "markdown",
   "metadata": {},
   "source": [
    "The following Tableau dashboard plots all AirBnB hosts on Barcelona map. \n",
    "The cartography part is made of two maps : one plotting every single hosts selected, and presented in a dynamic way (each spot on the map is clickable and presents you the evolution of price over the studied period).\n",
    "\n",
    "The second map is dividing Barcelona among its 10 main districts to illustrate which districts have the most hosts. Unsurprisingly, central neighbourhoods (Ciutat Vella, Eixample) have the most guests using Barcelona to visit the city.\n",
    "\n",
    "A key element to take away from those maps is that, during the MWC, neighbourhoods next to Fira where the MWC take place, have a spike in prices. Which highlights how MWC impact greatly AirBnB prices & occupation rate as a whole.\n"
   ]
  },
  {
   "cell_type": "markdown",
   "metadata": {},
   "source": [
    "### Dash#5 - average yearly AirBnB prices by neighbourhood distribution"
   ]
  },
  {
   "cell_type": "markdown",
   "metadata": {},
   "source": [
    "<img src=\"https://raw.githubusercontent.com/Binardino/Project-Week-3-Data-Thieves/master/your-project/Tableau_Screenshots/Neighbourhood_mapping_Tableau_4.png\">"
   ]
  },
  {
   "cell_type": "markdown",
   "metadata": {},
   "source": [
    "### Dash#6 - profiling of key hosts in AirBnB in terms of properties & income"
   ]
  },
  {
   "cell_type": "markdown",
   "metadata": {},
   "source": [
    "Our last dashboard illustrates several key profiles of hosts in AirBnB.\n",
    "-With a division by bins method, we we were able to focus on AirBnB hosts possessing the most locations in Barcelona and acting as de facto professional hosts.\n",
    "- Whereas Barcelona's law has become stricter over the past few years regarding hosting economics in Barcelona, we wanted to analyse the profile of ideal hosts isolated through dataframe manipulation.\n",
    "- With Pandas, we could have easily isolated key profiles by grouping by hosts through unique host_id to identify the key players. By using pandas.DataFrame.nlargest, we chose to get the top 200 hosts in terms of number of properties, to then be able to map their incomes made by AirBnB renting.\n",
    "\n",
    "The Tableau dashboard below illustrates our classification of hosts :\n",
    "-Whereas 78% of hosts only have 1 flat to rent, above 16.4% possess between 3 & 9 properties, and a minority of about 5.5% generates massive income by possessing multiple flats all over the city."
   ]
  },
  {
   "cell_type": "markdown",
   "metadata": {},
   "source": [
    "<img src=\"https://raw.githubusercontent.com/Binardino/Project-Week-3-Data-Thieves/master/your-project/Tableau_Screenshots/host_profiling_Tableau_5.png\">"
   ]
  },
  {
   "cell_type": "markdown",
   "metadata": {},
   "source": [
    "### Possible futures improvements"
   ]
  },
  {
   "cell_type": "markdown",
   "metadata": {},
   "source": [
    "- Analysing tourism & AirBnB activities through massive datasets and web scraping has been an interesting study to produce.\n",
    "This methodolgy, applied here as a proposal viable product, could be reproduced on other types of AirBnB rentals (single room, partly shared etc.), and expended over several years of data, to better understand price evolutions since the arrival of AirBnB.\n",
    "\n",
    "- Moreover, crossing the data with other sources, such as social media data, would enrich the data used and diversify points of view over of te analysis."
   ]
  },
  {
   "cell_type": "code",
   "execution_count": null,
   "metadata": {},
   "outputs": [],
   "source": []
  }
 ],
 "metadata": {
  "kernelspec": {
   "display_name": "Python 3",
   "language": "python",
   "name": "python3"
  },
  "language_info": {
   "codemirror_mode": {
    "name": "ipython",
    "version": 3
   },
   "file_extension": ".py",
   "mimetype": "text/x-python",
   "name": "python",
   "nbconvert_exporter": "python",
   "pygments_lexer": "ipython3",
   "version": "3.8.0"
  }
 },
 "nbformat": 4,
 "nbformat_minor": 4
}
