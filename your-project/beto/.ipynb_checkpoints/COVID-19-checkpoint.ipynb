{
 "cells": [
  {
   "cell_type": "code",
   "execution_count": 2,
   "metadata": {},
   "outputs": [
    {
     "name": "stderr",
     "output_type": "stream",
     "text": [
      "C:\\Users\\beto\\anaconda3\\lib\\site-packages\\pandas_datareader\\compat\\__init__.py:7: FutureWarning: pandas.util.testing is deprecated. Use the functions in the public API at pandas.testing instead.\n",
      "  from pandas.util.testing import assert_frame_equal\n"
     ]
    }
   ],
   "source": [
    "import numpy as np\n",
    "import pandas as pd\n",
    "import matplotlib.pyplot as plt\n",
    "import matplotlib.animation as animation\n",
    "import seaborn as sns\n",
    "import requests\n",
    "from pandas_datareader import data"
   ]
  },
  {
   "cell_type": "code",
   "execution_count": 5,
   "metadata": {},
   "outputs": [],
   "source": [
    "csv = '../Gareth Hughes/owid-covid-data.csv'"
   ]
  },
  {
   "cell_type": "code",
   "execution_count": 6,
   "metadata": {},
   "outputs": [],
   "source": [
    "df = pd.read_csv(csv)"
   ]
  },
  {
   "cell_type": "markdown",
   "metadata": {},
   "source": [
    "## PANDAS DataAnalysis with WHO COVID19 Data"
   ]
  },
  {
   "cell_type": "code",
   "execution_count": null,
   "metadata": {},
   "outputs": [],
   "source": [
    "df.head()"
   ]
  },
  {
   "cell_type": "code",
   "execution_count": null,
   "metadata": {},
   "outputs": [],
   "source": [
    "df.describe()"
   ]
  },
  {
   "cell_type": "code",
   "execution_count": null,
   "metadata": {},
   "outputs": [],
   "source": [
    "df.shape"
   ]
  },
  {
   "cell_type": "code",
   "execution_count": null,
   "metadata": {},
   "outputs": [],
   "source": [
    "df.dtypes"
   ]
  },
  {
   "cell_type": "code",
   "execution_count": null,
   "metadata": {},
   "outputs": [],
   "source": [
    "pd.to_datetime(df['date'])"
   ]
  },
  {
   "cell_type": "code",
   "execution_count": null,
   "metadata": {},
   "outputs": [],
   "source": [
    "df['iso_code'].unique()"
   ]
  },
  {
   "cell_type": "code",
   "execution_count": null,
   "metadata": {},
   "outputs": [],
   "source": [
    "df['iso_code'].unique().size"
   ]
  },
  {
   "cell_type": "code",
   "execution_count": null,
   "metadata": {},
   "outputs": [],
   "source": [
    "df['location'].unique()"
   ]
  },
  {
   "cell_type": "code",
   "execution_count": null,
   "metadata": {},
   "outputs": [],
   "source": [
    "# Earliest reported date in the database.\n",
    "first_reported = df[df['date'] == df['date'].min()]\n",
    "\n",
    "first_reported[first_reported['total_cases'] > 0]"
   ]
  },
  {
   "cell_type": "code",
   "execution_count": null,
   "metadata": {},
   "outputs": [],
   "source": [
    "first_reported.location.unique().size"
   ]
  },
  {
   "cell_type": "code",
   "execution_count": null,
   "metadata": {},
   "outputs": [],
   "source": [
    "latest_report = df[df['date'] == df['date'].max()]\n",
    "print(latest_report.location.unique().size)\n",
    "print(df['date'].min())\n",
    "print(df['date'].max())"
   ]
  },
  {
   "cell_type": "code",
   "execution_count": null,
   "metadata": {},
   "outputs": [],
   "source": [
    "#df.isna\n",
    "#df = df.fillna(0)"
   ]
  },
  {
   "cell_type": "code",
   "execution_count": null,
   "metadata": {},
   "outputs": [],
   "source": [
    "df['total_tests_per_thousand'].mode()"
   ]
  },
  {
   "cell_type": "markdown",
   "metadata": {},
   "source": [
    "### Tests per thousand, best country."
   ]
  },
  {
   "cell_type": "code",
   "execution_count": 10,
   "metadata": {},
   "outputs": [
    {
     "data": {
      "text/html": [
       "<div>\n",
       "<style scoped>\n",
       "    .dataframe tbody tr th:only-of-type {\n",
       "        vertical-align: middle;\n",
       "    }\n",
       "\n",
       "    .dataframe tbody tr th {\n",
       "        vertical-align: top;\n",
       "    }\n",
       "\n",
       "    .dataframe thead th {\n",
       "        text-align: right;\n",
       "    }\n",
       "</style>\n",
       "<table border=\"1\" class=\"dataframe\">\n",
       "  <thead>\n",
       "    <tr style=\"text-align: right;\">\n",
       "      <th></th>\n",
       "      <th>location</th>\n",
       "      <th>total_tests_per_thousand</th>\n",
       "    </tr>\n",
       "  </thead>\n",
       "  <tbody>\n",
       "    <tr>\n",
       "      <th>5470</th>\n",
       "      <td>Iceland</td>\n",
       "      <td>111.308</td>\n",
       "    </tr>\n",
       "  </tbody>\n",
       "</table>\n",
       "</div>"
      ],
      "text/plain": [
       "     location  total_tests_per_thousand\n",
       "5470  Iceland                   111.308"
      ]
     },
     "execution_count": 10,
     "metadata": {},
     "output_type": "execute_result"
    }
   ],
   "source": [
    "idx = df['total_tests_per_thousand'] == df['total_tests_per_thousand'].max()\n",
    "df[['location','total_tests_per_thousand']][idx]"
   ]
  },
  {
   "cell_type": "markdown",
   "metadata": {},
   "source": [
    "### Highest new deaths."
   ]
  },
  {
   "cell_type": "code",
   "execution_count": 11,
   "metadata": {},
   "outputs": [
    {
     "data": {
      "text/html": [
       "<div>\n",
       "<style scoped>\n",
       "    .dataframe tbody tr th:only-of-type {\n",
       "        vertical-align: middle;\n",
       "    }\n",
       "\n",
       "    .dataframe tbody tr th {\n",
       "        vertical-align: top;\n",
       "    }\n",
       "\n",
       "    .dataframe thead th {\n",
       "        text-align: right;\n",
       "    }\n",
       "</style>\n",
       "<table border=\"1\" class=\"dataframe\">\n",
       "  <thead>\n",
       "    <tr style=\"text-align: right;\">\n",
       "      <th></th>\n",
       "      <th>location</th>\n",
       "      <th>new_deaths</th>\n",
       "    </tr>\n",
       "  </thead>\n",
       "  <tbody>\n",
       "    <tr>\n",
       "      <th>11001</th>\n",
       "      <td>United States</td>\n",
       "      <td>4928</td>\n",
       "    </tr>\n",
       "  </tbody>\n",
       "</table>\n",
       "</div>"
      ],
      "text/plain": [
       "            location  new_deaths\n",
       "11001  United States        4928"
      ]
     },
     "execution_count": 11,
     "metadata": {},
     "output_type": "execute_result"
    }
   ],
   "source": [
    "idx = df['new_deaths'] == df['new_deaths'].max()\n",
    "df[['location','new_deaths']][idx]"
   ]
  },
  {
   "cell_type": "markdown",
   "metadata": {},
   "source": [
    "### Highest total deaths."
   ]
  },
  {
   "cell_type": "code",
   "execution_count": 12,
   "metadata": {},
   "outputs": [
    {
     "data": {
      "text/html": [
       "<div>\n",
       "<style scoped>\n",
       "    .dataframe tbody tr th:only-of-type {\n",
       "        vertical-align: middle;\n",
       "    }\n",
       "\n",
       "    .dataframe tbody tr th {\n",
       "        vertical-align: top;\n",
       "    }\n",
       "\n",
       "    .dataframe thead th {\n",
       "        text-align: right;\n",
       "    }\n",
       "</style>\n",
       "<table border=\"1\" class=\"dataframe\">\n",
       "  <thead>\n",
       "    <tr style=\"text-align: right;\">\n",
       "      <th></th>\n",
       "      <th>location</th>\n",
       "      <th>total_deaths</th>\n",
       "    </tr>\n",
       "  </thead>\n",
       "  <tbody>\n",
       "    <tr>\n",
       "      <th>11002</th>\n",
       "      <td>United States</td>\n",
       "      <td>33284</td>\n",
       "    </tr>\n",
       "  </tbody>\n",
       "</table>\n",
       "</div>"
      ],
      "text/plain": [
       "            location  total_deaths\n",
       "11002  United States         33284"
      ]
     },
     "execution_count": 12,
     "metadata": {},
     "output_type": "execute_result"
    }
   ],
   "source": [
    "idx = df['total_deaths'] == df['total_deaths'].max()\n",
    "df[['location','total_deaths']][idx]"
   ]
  },
  {
   "cell_type": "markdown",
   "metadata": {},
   "source": [
    "### Highest total cases."
   ]
  },
  {
   "cell_type": "code",
   "execution_count": 13,
   "metadata": {},
   "outputs": [
    {
     "data": {
      "text/html": [
       "<div>\n",
       "<style scoped>\n",
       "    .dataframe tbody tr th:only-of-type {\n",
       "        vertical-align: middle;\n",
       "    }\n",
       "\n",
       "    .dataframe tbody tr th {\n",
       "        vertical-align: top;\n",
       "    }\n",
       "\n",
       "    .dataframe thead th {\n",
       "        text-align: right;\n",
       "    }\n",
       "</style>\n",
       "<table border=\"1\" class=\"dataframe\">\n",
       "  <thead>\n",
       "    <tr style=\"text-align: right;\">\n",
       "      <th></th>\n",
       "      <th>location</th>\n",
       "      <th>total_cases</th>\n",
       "    </tr>\n",
       "  </thead>\n",
       "  <tbody>\n",
       "    <tr>\n",
       "      <th>11002</th>\n",
       "      <td>United States</td>\n",
       "      <td>671331</td>\n",
       "    </tr>\n",
       "  </tbody>\n",
       "</table>\n",
       "</div>"
      ],
      "text/plain": [
       "            location  total_cases\n",
       "11002  United States       671331"
      ]
     },
     "execution_count": 13,
     "metadata": {},
     "output_type": "execute_result"
    }
   ],
   "source": [
    "idx = df['total_cases'] == df['total_cases'].max()\n",
    "df[['location','total_cases']][idx]"
   ]
  },
  {
   "cell_type": "markdown",
   "metadata": {},
   "source": [
    "## Subsetting based on a specific date to get monthly updates."
   ]
  },
  {
   "cell_type": "code",
   "execution_count": null,
   "metadata": {},
   "outputs": [],
   "source": [
    "april = df[df.date == '2020-04-17']"
   ]
  },
  {
   "cell_type": "code",
   "execution_count": null,
   "metadata": {},
   "outputs": [],
   "source": [
    "april_tc = april[['date','location','total_cases','total_deaths','total_tests']]\n",
    "april_tc\n",
    "april_tc.columns"
   ]
  },
  {
   "cell_type": "code",
   "execution_count": null,
   "metadata": {},
   "outputs": [],
   "source": [
    "march = df[df.date == '2020-03-31']"
   ]
  },
  {
   "cell_type": "code",
   "execution_count": null,
   "metadata": {},
   "outputs": [],
   "source": [
    "feb = df[df.date == '2020-02-29']"
   ]
  },
  {
   "cell_type": "code",
   "execution_count": null,
   "metadata": {},
   "outputs": [],
   "source": [
    "jan = df[df.date == '2020-01-31']"
   ]
  },
  {
   "cell_type": "code",
   "execution_count": null,
   "metadata": {},
   "outputs": [],
   "source": [
    "first_reported = df[df.date == '2019-12-31']"
   ]
  },
  {
   "cell_type": "code",
   "execution_count": null,
   "metadata": {},
   "outputs": [],
   "source": [
    "march_tc = march[['date','location','total_cases','total_deaths','total_tests']]"
   ]
  },
  {
   "cell_type": "markdown",
   "metadata": {},
   "source": [
    "### Month_tc = Dataframes whereby Total_Cases, Total_Deaths and Total_Tests are subset based from a specific date."
   ]
  },
  {
   "cell_type": "code",
   "execution_count": null,
   "metadata": {},
   "outputs": [],
   "source": [
    "# here are the total number of cases as March 31st 2020.\n",
    "march_tc"
   ]
  },
  {
   "cell_type": "code",
   "execution_count": null,
   "metadata": {},
   "outputs": [],
   "source": [
    "# here are the total number of cases as Feb 29th 2020.\n",
    "feb_tc = feb[['date','location','total_cases','total_deaths','total_tests']]"
   ]
  },
  {
   "cell_type": "code",
   "execution_count": null,
   "metadata": {},
   "outputs": [],
   "source": [
    "feb_tc"
   ]
  },
  {
   "cell_type": "code",
   "execution_count": null,
   "metadata": {},
   "outputs": [],
   "source": [
    "jan_tc = jan[['date','location','total_cases','total_deaths','total_tests']]\n",
    "jan_tc"
   ]
  },
  {
   "cell_type": "code",
   "execution_count": null,
   "metadata": {},
   "outputs": [],
   "source": [
    "first_reported_tc = first_reported[['date','location','total_cases','total_deaths','total_tests']]\n",
    "first_reported_tc"
   ]
  },
  {
   "cell_type": "code",
   "execution_count": null,
   "metadata": {},
   "outputs": [],
   "source": [
    "first_reported_tc[first_reported_tc['total_cases'] > 0 ]"
   ]
  },
  {
   "cell_type": "markdown",
   "metadata": {},
   "source": [
    "### Subsetting of Spain from overall Dataframe, useful for specific market analysis?"
   ]
  },
  {
   "cell_type": "code",
   "execution_count": null,
   "metadata": {
    "scrolled": true
   },
   "outputs": [],
   "source": [
    "spain = df[df['location'] == 'Spain']"
   ]
  },
  {
   "cell_type": "code",
   "execution_count": null,
   "metadata": {},
   "outputs": [],
   "source": [
    "spain"
   ]
  },
  {
   "cell_type": "markdown",
   "metadata": {},
   "source": [
    "## Subsetting Spain dates into one DataFrame"
   ]
  },
  {
   "cell_type": "code",
   "execution_count": null,
   "metadata": {},
   "outputs": [],
   "source": [
    "spain_jan = spain[spain['date'] == '2020-01-31']\n",
    "spain_feb = spain[spain['date'] == '2020-02-29']\n",
    "spain_march = spain[spain['date'] == '2020-03-31']\n",
    "spain_april = spain[spain['date'] == '2020-04-15']"
   ]
  },
  {
   "cell_type": "code",
   "execution_count": null,
   "metadata": {},
   "outputs": [],
   "source": [
    "spain_sets = spain[(spain['date'] == '2020-01-31')\n",
    "                   & (spain['date'] == '2020-02-28')\n",
    "                  & (spain['date'] == '2020-03-31')\n",
    "                   & (spain['date'] == '2020-04-15')]\n",
    "            "
   ]
  },
  {
   "cell_type": "code",
   "execution_count": null,
   "metadata": {},
   "outputs": [],
   "source": [
    "spain_sets"
   ]
  },
  {
   "cell_type": "code",
   "execution_count": null,
   "metadata": {},
   "outputs": [],
   "source": [
    "sort = df.sort_values(by = 'total_cases', ascending = False)"
   ]
  },
  {
   "cell_type": "code",
   "execution_count": null,
   "metadata": {},
   "outputs": [],
   "source": [
    "april_top10 = sort[sort['date'] == '2020-04-17'].head(10)"
   ]
  },
  {
   "cell_type": "markdown",
   "metadata": {},
   "source": [
    "## COVID19 Plots with Time"
   ]
  },
  {
   "cell_type": "code",
   "execution_count": null,
   "metadata": {},
   "outputs": [],
   "source": [
    "april_top10.plot(x = 'location', y = 'total_cases', kind = 'bar', legend = None)\n",
    "plt.gca().invert_xaxis()\n",
    "plt.title(\"Total Coronavirus Cases as of 2020-04-17\")\n",
    "plt.xlabel(\"Location\")\n",
    "plt.ylabel(\"Cases\")\n",
    "plt.gcf().set_size_inches(20,10)\n",
    "plt.savefig('2020-04-17.png', bbox_inches='tight')\n",
    "plt.show()"
   ]
  },
  {
   "cell_type": "code",
   "execution_count": null,
   "metadata": {},
   "outputs": [],
   "source": [
    "earlyapril_top10 = sort[sort['date'] == '2020-04-08'].head(10)"
   ]
  },
  {
   "cell_type": "code",
   "execution_count": null,
   "metadata": {},
   "outputs": [],
   "source": [
    "earlyapril_top10.plot(x = 'location', y = 'total_cases', kind = 'bar', legend = None)\n",
    "plt.gca().invert_xaxis()\n",
    "plt.title(\"Total Coronavirus Cases as of 2020-04-08\")\n",
    "plt.xlabel(\"Location\")\n",
    "plt.ylabel(\"Cases\")\n",
    "plt.gcf().set_size_inches(20,10)\n",
    "plt.savefig('2020-04-08.png', bbox_inches='tight')\n",
    "plt.show()"
   ]
  },
  {
   "cell_type": "code",
   "execution_count": null,
   "metadata": {},
   "outputs": [],
   "source": [
    "endmarch_top10 = sort[sort['date'] == '2020-03-31'].head(10)"
   ]
  },
  {
   "cell_type": "code",
   "execution_count": null,
   "metadata": {},
   "outputs": [],
   "source": [
    "endmarch_top10.plot(x = 'location', y = 'total_cases', kind = 'bar', legend = None)\n",
    "plt.gca().invert_xaxis()\n",
    "plt.title(\"Total Coronavirus Cases as of 2020-03-31\")\n",
    "plt.xlabel(\"Location\")\n",
    "plt.ylabel(\"Cases\")\n",
    "plt.gcf().set_size_inches(20,10)\n",
    "plt.savefig('2020-03-31.png', bbox_inches='tight')\n",
    "plt.show()"
   ]
  },
  {
   "cell_type": "code",
   "execution_count": null,
   "metadata": {},
   "outputs": [],
   "source": [
    "midmarch_top10 = sort[sort['date'] == '2020-03-16'].head(10)"
   ]
  },
  {
   "cell_type": "code",
   "execution_count": null,
   "metadata": {},
   "outputs": [],
   "source": [
    "midmarch_top10.plot(x = 'location', y = 'total_cases', kind = 'bar', legend = None)\n",
    "plt.gca().invert_xaxis()\n",
    "plt.title(\"Total Coronavirus Cases as of 2020-03-16\")\n",
    "plt.xlabel(\"Location\")\n",
    "plt.ylabel(\"Cases\")\n",
    "plt.gcf().set_size_inches(20,10)\n",
    "plt.savefig('2020-03-16.png', bbox_inches='tight')\n",
    "plt.show()"
   ]
  },
  {
   "cell_type": "code",
   "execution_count": null,
   "metadata": {},
   "outputs": [],
   "source": [
    "startmarch_top10 = sort[sort['date'] == '2020-03-08'].head(10)"
   ]
  },
  {
   "cell_type": "code",
   "execution_count": null,
   "metadata": {},
   "outputs": [],
   "source": [
    "startmarch_top10.plot(x = 'location', y = 'total_cases', kind = 'bar', legend = None)\n",
    "plt.gca().invert_xaxis()\n",
    "plt.title(\"Total Coronavirus Cases as of 2020-03-08\")\n",
    "plt.xlabel(\"Location\")\n",
    "plt.ylabel(\"Cases\")\n",
    "plt.gcf().set_size_inches(20,10)\n",
    "plt.savefig('2020-03-08.png', bbox_inches='tight')\n",
    "plt.show()"
   ]
  },
  {
   "cell_type": "code",
   "execution_count": null,
   "metadata": {},
   "outputs": [],
   "source": [
    "feb_top10 = sort[sort['date'] == '2020-02-29'].head(10)"
   ]
  },
  {
   "cell_type": "code",
   "execution_count": null,
   "metadata": {},
   "outputs": [],
   "source": [
    "feb_top10.plot(x = 'location', y = 'total_cases', kind = 'bar', legend = None)\n",
    "plt.gca().invert_xaxis()\n",
    "plt.title(\"Total Coronavirus Cases as of 2020-02-29\")\n",
    "plt.xlabel(\"Location\")\n",
    "plt.ylabel(\"Cases\")\n",
    "plt.gcf().set_size_inches(20,10)\n",
    "plt.savefig('2020-02-29.png', bbox_inches='tight')\n",
    "plt.show()"
   ]
  },
  {
   "cell_type": "code",
   "execution_count": null,
   "metadata": {},
   "outputs": [],
   "source": [
    "jan_top10 = sort[sort['date'] == '2020-01-30'].head(3)\n",
    "jan_top10.plot(x = 'location', y = 'total_cases', kind = 'bar', legend = None)\n",
    "plt.gca().invert_xaxis()\n",
    "plt.title(\"Total Coronavirus Cases as of 2020-01-30\")\n",
    "plt.ylabel(\"Cases\")\n",
    "plt.gcf().set_size_inches(10,5)\n",
    "plt.show()"
   ]
  },
  {
   "cell_type": "markdown",
   "metadata": {},
   "source": [
    "### Testing of Stockmarket Module of Pandas"
   ]
  },
  {
   "cell_type": "code",
   "execution_count": null,
   "metadata": {},
   "outputs": [],
   "source": [
    "start_date = '2020-02-01'\n",
    "end_date = '2020-04-17'\n",
    "panel_data = data.DataReader('^IBEX', 'yahoo', start_date, end_date)\n",
    "panel_data.shape"
   ]
  },
  {
   "cell_type": "code",
   "execution_count": null,
   "metadata": {},
   "outputs": [],
   "source": [
    "panel_data.head(10)"
   ]
  },
  {
   "cell_type": "code",
   "execution_count": null,
   "metadata": {},
   "outputs": [],
   "source": [
    "panel_data.tail(10)"
   ]
  },
  {
   "cell_type": "code",
   "execution_count": null,
   "metadata": {},
   "outputs": [],
   "source": [
    "# subset Spain total cases against market!\n",
    "spaTotCases = df[['date','total_cases']][df['location'] == 'Spain']\n",
    "spaTotCases = spaTotCases[spaTotCases.total_cases > 0].reset_index()\n",
    "print(spaTotCases.shape)\n",
    "spaTotCases.head()"
   ]
  },
  {
   "cell_type": "code",
   "execution_count": null,
   "metadata": {},
   "outputs": [],
   "source": [
    "# stock prices doesn't have w-ends!\n",
    "#pd.to_datetime(spaTotCases.date[2]) == panel_data.index[0]\n",
    "boolDate  = pd.to_datetime(spaTotCases.date) == panel_data.index[0]\n",
    "for date in panel_data.index:\n",
    "    boolDate = boolDate | (pd.to_datetime(spaTotCases.date) == date)"
   ]
  },
  {
   "cell_type": "code",
   "execution_count": null,
   "metadata": {},
   "outputs": [],
   "source": [
    "# initialize stock column with NaN\n",
    "stockMean = (panel_data.High + panel_data.Low)/2\n",
    "spaTotCases['stock'] = stockMean\n",
    "# then point properly\n",
    "spaTotCases['stock'].loc[boolDate] = stockMean.values"
   ]
  },
  {
   "cell_type": "code",
   "execution_count": null,
   "metadata": {},
   "outputs": [],
   "source": [
    "spaTotCases.head(10)"
   ]
  },
  {
   "cell_type": "code",
   "execution_count": null,
   "metadata": {},
   "outputs": [],
   "source": [
    "spaTotCases.tail(10)"
   ]
  },
  {
   "cell_type": "code",
   "execution_count": null,
   "metadata": {},
   "outputs": [],
   "source": [
    "spaTotCases.to_csv('spainTotCaseStock.csv')"
   ]
  },
  {
   "cell_type": "markdown",
   "metadata": {},
   "source": [
    "## Italy and its market (FTSE MIB)"
   ]
  },
  {
   "cell_type": "code",
   "execution_count": 6,
   "metadata": {},
   "outputs": [
    {
     "name": "stdout",
     "output_type": "stream",
     "text": [
      "(78, 3)\n"
     ]
    },
    {
     "data": {
      "text/html": [
       "<div>\n",
       "<style scoped>\n",
       "    .dataframe tbody tr th:only-of-type {\n",
       "        vertical-align: middle;\n",
       "    }\n",
       "\n",
       "    .dataframe tbody tr th {\n",
       "        vertical-align: top;\n",
       "    }\n",
       "\n",
       "    .dataframe thead th {\n",
       "        text-align: right;\n",
       "    }\n",
       "</style>\n",
       "<table border=\"1\" class=\"dataframe\">\n",
       "  <thead>\n",
       "    <tr style=\"text-align: right;\">\n",
       "      <th></th>\n",
       "      <th>index</th>\n",
       "      <th>date</th>\n",
       "      <th>total_cases</th>\n",
       "    </tr>\n",
       "  </thead>\n",
       "  <tbody>\n",
       "    <tr>\n",
       "      <th>0</th>\n",
       "      <td>5612</td>\n",
       "      <td>2020-01-31</td>\n",
       "      <td>3</td>\n",
       "    </tr>\n",
       "    <tr>\n",
       "      <th>1</th>\n",
       "      <td>5613</td>\n",
       "      <td>2020-02-01</td>\n",
       "      <td>3</td>\n",
       "    </tr>\n",
       "    <tr>\n",
       "      <th>2</th>\n",
       "      <td>5614</td>\n",
       "      <td>2020-02-02</td>\n",
       "      <td>3</td>\n",
       "    </tr>\n",
       "    <tr>\n",
       "      <th>3</th>\n",
       "      <td>5615</td>\n",
       "      <td>2020-02-03</td>\n",
       "      <td>3</td>\n",
       "    </tr>\n",
       "    <tr>\n",
       "      <th>4</th>\n",
       "      <td>5616</td>\n",
       "      <td>2020-02-04</td>\n",
       "      <td>3</td>\n",
       "    </tr>\n",
       "  </tbody>\n",
       "</table>\n",
       "</div>"
      ],
      "text/plain": [
       "   index        date  total_cases\n",
       "0   5612  2020-01-31            3\n",
       "1   5613  2020-02-01            3\n",
       "2   5614  2020-02-02            3\n",
       "3   5615  2020-02-03            3\n",
       "4   5616  2020-02-04            3"
      ]
     },
     "execution_count": 6,
     "metadata": {},
     "output_type": "execute_result"
    }
   ],
   "source": [
    "# subset Italy total cases against market!\n",
    "itaTotCases = df[['date','total_cases']][df['location'] == 'Italy']\n",
    "itaTotCases = itaTotCases[itaTotCases.total_cases > 0].reset_index()\n",
    "print(itaTotCases.shape)\n",
    "itaTotCases.head()"
   ]
  },
  {
   "cell_type": "code",
   "execution_count": 31,
   "metadata": {},
   "outputs": [
    {
     "data": {
      "text/plain": [
       "(47, 6)"
      ]
     },
     "execution_count": 31,
     "metadata": {},
     "output_type": "execute_result"
    }
   ],
   "source": [
    "start_date = '2020-01-31'\n",
    "end_date = '2020-04-17'\n",
    "panel_data = data.DataReader('IMIB.MI', 'yahoo', start_date, end_date)\n",
    "panel_data.shape\n",
    "#ETFMIB.MI\n",
    "# CSMIB.MI\n",
    "# LEVMIB.MI\n",
    "# IMIB.MI\n",
    "#FTSEMIB.MI\n",
    "#ITLMS.MI\n",
    "#FTSEMIBN.MI"
   ]
  },
  {
   "cell_type": "code",
   "execution_count": 37,
   "metadata": {},
   "outputs": [
    {
     "data": {
      "text/html": [
       "<div>\n",
       "<style scoped>\n",
       "    .dataframe tbody tr th:only-of-type {\n",
       "        vertical-align: middle;\n",
       "    }\n",
       "\n",
       "    .dataframe tbody tr th {\n",
       "        vertical-align: top;\n",
       "    }\n",
       "\n",
       "    .dataframe thead th {\n",
       "        text-align: right;\n",
       "    }\n",
       "</style>\n",
       "<table border=\"1\" class=\"dataframe\">\n",
       "  <thead>\n",
       "    <tr style=\"text-align: right;\">\n",
       "      <th></th>\n",
       "      <th>High</th>\n",
       "      <th>Low</th>\n",
       "      <th>Open</th>\n",
       "      <th>Close</th>\n",
       "      <th>Volume</th>\n",
       "      <th>Adj Close</th>\n",
       "    </tr>\n",
       "    <tr>\n",
       "      <th>Date</th>\n",
       "      <th></th>\n",
       "      <th></th>\n",
       "      <th></th>\n",
       "      <th></th>\n",
       "      <th></th>\n",
       "      <th></th>\n",
       "    </tr>\n",
       "  </thead>\n",
       "  <tbody>\n",
       "    <tr>\n",
       "      <th>2020-03-24</th>\n",
       "      <td>10.264</td>\n",
       "      <td>9.743</td>\n",
       "      <td>9.865</td>\n",
       "      <td>10.264</td>\n",
       "      <td>164563.0</td>\n",
       "      <td>10.264</td>\n",
       "    </tr>\n",
       "    <tr>\n",
       "      <th>2020-03-25</th>\n",
       "      <td>10.662</td>\n",
       "      <td>9.958</td>\n",
       "      <td>10.406</td>\n",
       "      <td>10.276</td>\n",
       "      <td>173912.0</td>\n",
       "      <td>10.276</td>\n",
       "    </tr>\n",
       "    <tr>\n",
       "      <th>2020-03-26</th>\n",
       "      <td>10.440</td>\n",
       "      <td>10.076</td>\n",
       "      <td>10.170</td>\n",
       "      <td>10.440</td>\n",
       "      <td>101973.0</td>\n",
       "      <td>10.440</td>\n",
       "    </tr>\n",
       "    <tr>\n",
       "      <th>2020-03-27</th>\n",
       "      <td>10.296</td>\n",
       "      <td>9.990</td>\n",
       "      <td>10.244</td>\n",
       "      <td>10.092</td>\n",
       "      <td>125078.0</td>\n",
       "      <td>10.092</td>\n",
       "    </tr>\n",
       "    <tr>\n",
       "      <th>2020-03-30</th>\n",
       "      <td>10.112</td>\n",
       "      <td>9.798</td>\n",
       "      <td>10.092</td>\n",
       "      <td>10.110</td>\n",
       "      <td>168518.0</td>\n",
       "      <td>10.110</td>\n",
       "    </tr>\n",
       "    <tr>\n",
       "      <th>2020-03-31</th>\n",
       "      <td>10.358</td>\n",
       "      <td>10.000</td>\n",
       "      <td>10.210</td>\n",
       "      <td>10.196</td>\n",
       "      <td>224916.0</td>\n",
       "      <td>10.196</td>\n",
       "    </tr>\n",
       "    <tr>\n",
       "      <th>2020-04-01</th>\n",
       "      <td>10.060</td>\n",
       "      <td>9.914</td>\n",
       "      <td>9.998</td>\n",
       "      <td>9.914</td>\n",
       "      <td>93261.0</td>\n",
       "      <td>9.914</td>\n",
       "    </tr>\n",
       "    <tr>\n",
       "      <th>2020-04-02</th>\n",
       "      <td>10.064</td>\n",
       "      <td>9.880</td>\n",
       "      <td>10.056</td>\n",
       "      <td>10.038</td>\n",
       "      <td>45493.0</td>\n",
       "      <td>10.038</td>\n",
       "    </tr>\n",
       "    <tr>\n",
       "      <th>2020-04-03</th>\n",
       "      <td>10.030</td>\n",
       "      <td>9.870</td>\n",
       "      <td>10.030</td>\n",
       "      <td>9.878</td>\n",
       "      <td>73858.0</td>\n",
       "      <td>9.878</td>\n",
       "    </tr>\n",
       "    <tr>\n",
       "      <th>2020-04-06</th>\n",
       "      <td>10.214</td>\n",
       "      <td>10.080</td>\n",
       "      <td>10.146</td>\n",
       "      <td>10.208</td>\n",
       "      <td>50438.0</td>\n",
       "      <td>10.208</td>\n",
       "    </tr>\n",
       "  </tbody>\n",
       "</table>\n",
       "</div>"
      ],
      "text/plain": [
       "              High     Low    Open   Close    Volume  Adj Close\n",
       "Date                                                           \n",
       "2020-03-24  10.264   9.743   9.865  10.264  164563.0     10.264\n",
       "2020-03-25  10.662   9.958  10.406  10.276  173912.0     10.276\n",
       "2020-03-26  10.440  10.076  10.170  10.440  101973.0     10.440\n",
       "2020-03-27  10.296   9.990  10.244  10.092  125078.0     10.092\n",
       "2020-03-30  10.112   9.798  10.092  10.110  168518.0     10.110\n",
       "2020-03-31  10.358  10.000  10.210  10.196  224916.0     10.196\n",
       "2020-04-01  10.060   9.914   9.998   9.914   93261.0      9.914\n",
       "2020-04-02  10.064   9.880  10.056  10.038   45493.0     10.038\n",
       "2020-04-03  10.030   9.870  10.030   9.878   73858.0      9.878\n",
       "2020-04-06  10.214  10.080  10.146  10.208   50438.0     10.208"
      ]
     },
     "execution_count": 37,
     "metadata": {},
     "output_type": "execute_result"
    }
   ],
   "source": [
    "panel_data.tail(10)"
   ]
  },
  {
   "cell_type": "code",
   "execution_count": 33,
   "metadata": {},
   "outputs": [],
   "source": [
    "# stock prices doesn't have w-ends!\n",
    "#pd.to_datetime(itaTotCases.date[2]) == panel_data.index[0]\n",
    "boolDate  = pd.to_datetime(itaTotCases.date) == panel_data.index[0]\n",
    "for date in panel_data.index:\n",
    "    boolDate = boolDate | (pd.to_datetime(itaTotCases.date) == date)"
   ]
  },
  {
   "cell_type": "code",
   "execution_count": 34,
   "metadata": {},
   "outputs": [
    {
     "name": "stderr",
     "output_type": "stream",
     "text": [
      "C:\\Users\\beto\\anaconda3\\lib\\site-packages\\pandas\\core\\indexing.py:670: SettingWithCopyWarning: \n",
      "A value is trying to be set on a copy of a slice from a DataFrame\n",
      "\n",
      "See the caveats in the documentation: https://pandas.pydata.org/pandas-docs/stable/user_guide/indexing.html#returning-a-view-versus-a-copy\n",
      "  self._setitem_with_indexer(indexer, value)\n"
     ]
    }
   ],
   "source": [
    "# initialize stock column with NaN\n",
    "stockMean = (panel_data.High + panel_data.Low)/2\n",
    "itaTotCases['stock'] = stockMean\n",
    "# then point properly\n",
    "itaTotCases['stock'].loc[boolDate] = stockMean.values"
   ]
  },
  {
   "cell_type": "code",
   "execution_count": 39,
   "metadata": {},
   "outputs": [
    {
     "data": {
      "text/html": [
       "<div>\n",
       "<style scoped>\n",
       "    .dataframe tbody tr th:only-of-type {\n",
       "        vertical-align: middle;\n",
       "    }\n",
       "\n",
       "    .dataframe tbody tr th {\n",
       "        vertical-align: top;\n",
       "    }\n",
       "\n",
       "    .dataframe thead th {\n",
       "        text-align: right;\n",
       "    }\n",
       "</style>\n",
       "<table border=\"1\" class=\"dataframe\">\n",
       "  <thead>\n",
       "    <tr style=\"text-align: right;\">\n",
       "      <th></th>\n",
       "      <th>index</th>\n",
       "      <th>date</th>\n",
       "      <th>total_cases</th>\n",
       "      <th>stock</th>\n",
       "    </tr>\n",
       "  </thead>\n",
       "  <tbody>\n",
       "    <tr>\n",
       "      <th>58</th>\n",
       "      <td>5670</td>\n",
       "      <td>2020-03-29</td>\n",
       "      <td>92472</td>\n",
       "      <td>NaN</td>\n",
       "    </tr>\n",
       "    <tr>\n",
       "      <th>59</th>\n",
       "      <td>5671</td>\n",
       "      <td>2020-03-30</td>\n",
       "      <td>97689</td>\n",
       "      <td>9.955</td>\n",
       "    </tr>\n",
       "    <tr>\n",
       "      <th>60</th>\n",
       "      <td>5672</td>\n",
       "      <td>2020-03-31</td>\n",
       "      <td>101739</td>\n",
       "      <td>10.179</td>\n",
       "    </tr>\n",
       "    <tr>\n",
       "      <th>61</th>\n",
       "      <td>5673</td>\n",
       "      <td>2020-04-01</td>\n",
       "      <td>105792</td>\n",
       "      <td>9.987</td>\n",
       "    </tr>\n",
       "    <tr>\n",
       "      <th>62</th>\n",
       "      <td>5674</td>\n",
       "      <td>2020-04-02</td>\n",
       "      <td>110574</td>\n",
       "      <td>9.972</td>\n",
       "    </tr>\n",
       "    <tr>\n",
       "      <th>63</th>\n",
       "      <td>5675</td>\n",
       "      <td>2020-04-03</td>\n",
       "      <td>115242</td>\n",
       "      <td>9.950</td>\n",
       "    </tr>\n",
       "    <tr>\n",
       "      <th>64</th>\n",
       "      <td>5676</td>\n",
       "      <td>2020-04-04</td>\n",
       "      <td>119827</td>\n",
       "      <td>NaN</td>\n",
       "    </tr>\n",
       "    <tr>\n",
       "      <th>65</th>\n",
       "      <td>5677</td>\n",
       "      <td>2020-04-05</td>\n",
       "      <td>124632</td>\n",
       "      <td>NaN</td>\n",
       "    </tr>\n",
       "    <tr>\n",
       "      <th>66</th>\n",
       "      <td>5678</td>\n",
       "      <td>2020-04-06</td>\n",
       "      <td>128948</td>\n",
       "      <td>10.147</td>\n",
       "    </tr>\n",
       "    <tr>\n",
       "      <th>67</th>\n",
       "      <td>5679</td>\n",
       "      <td>2020-04-07</td>\n",
       "      <td>132547</td>\n",
       "      <td>NaN</td>\n",
       "    </tr>\n",
       "    <tr>\n",
       "      <th>68</th>\n",
       "      <td>5680</td>\n",
       "      <td>2020-04-08</td>\n",
       "      <td>135586</td>\n",
       "      <td>NaN</td>\n",
       "    </tr>\n",
       "    <tr>\n",
       "      <th>69</th>\n",
       "      <td>5681</td>\n",
       "      <td>2020-04-09</td>\n",
       "      <td>139422</td>\n",
       "      <td>NaN</td>\n",
       "    </tr>\n",
       "    <tr>\n",
       "      <th>70</th>\n",
       "      <td>5682</td>\n",
       "      <td>2020-04-10</td>\n",
       "      <td>143626</td>\n",
       "      <td>NaN</td>\n",
       "    </tr>\n",
       "    <tr>\n",
       "      <th>71</th>\n",
       "      <td>5683</td>\n",
       "      <td>2020-04-11</td>\n",
       "      <td>147577</td>\n",
       "      <td>NaN</td>\n",
       "    </tr>\n",
       "    <tr>\n",
       "      <th>72</th>\n",
       "      <td>5684</td>\n",
       "      <td>2020-04-12</td>\n",
       "      <td>152271</td>\n",
       "      <td>NaN</td>\n",
       "    </tr>\n",
       "    <tr>\n",
       "      <th>73</th>\n",
       "      <td>5685</td>\n",
       "      <td>2020-04-13</td>\n",
       "      <td>156363</td>\n",
       "      <td>NaN</td>\n",
       "    </tr>\n",
       "    <tr>\n",
       "      <th>74</th>\n",
       "      <td>5686</td>\n",
       "      <td>2020-04-14</td>\n",
       "      <td>159516</td>\n",
       "      <td>NaN</td>\n",
       "    </tr>\n",
       "    <tr>\n",
       "      <th>75</th>\n",
       "      <td>5687</td>\n",
       "      <td>2020-04-15</td>\n",
       "      <td>162488</td>\n",
       "      <td>NaN</td>\n",
       "    </tr>\n",
       "    <tr>\n",
       "      <th>76</th>\n",
       "      <td>5688</td>\n",
       "      <td>2020-04-16</td>\n",
       "      <td>165155</td>\n",
       "      <td>NaN</td>\n",
       "    </tr>\n",
       "    <tr>\n",
       "      <th>77</th>\n",
       "      <td>5689</td>\n",
       "      <td>2020-04-17</td>\n",
       "      <td>168941</td>\n",
       "      <td>NaN</td>\n",
       "    </tr>\n",
       "  </tbody>\n",
       "</table>\n",
       "</div>"
      ],
      "text/plain": [
       "    index        date  total_cases   stock\n",
       "58   5670  2020-03-29        92472     NaN\n",
       "59   5671  2020-03-30        97689   9.955\n",
       "60   5672  2020-03-31       101739  10.179\n",
       "61   5673  2020-04-01       105792   9.987\n",
       "62   5674  2020-04-02       110574   9.972\n",
       "63   5675  2020-04-03       115242   9.950\n",
       "64   5676  2020-04-04       119827     NaN\n",
       "65   5677  2020-04-05       124632     NaN\n",
       "66   5678  2020-04-06       128948  10.147\n",
       "67   5679  2020-04-07       132547     NaN\n",
       "68   5680  2020-04-08       135586     NaN\n",
       "69   5681  2020-04-09       139422     NaN\n",
       "70   5682  2020-04-10       143626     NaN\n",
       "71   5683  2020-04-11       147577     NaN\n",
       "72   5684  2020-04-12       152271     NaN\n",
       "73   5685  2020-04-13       156363     NaN\n",
       "74   5686  2020-04-14       159516     NaN\n",
       "75   5687  2020-04-15       162488     NaN\n",
       "76   5688  2020-04-16       165155     NaN\n",
       "77   5689  2020-04-17       168941     NaN"
      ]
     },
     "execution_count": 39,
     "metadata": {},
     "output_type": "execute_result"
    }
   ],
   "source": [
    "itaTotCases.tail(20)"
   ]
  },
  {
   "cell_type": "code",
   "execution_count": 40,
   "metadata": {},
   "outputs": [],
   "source": [
    "itaTotCases.to_csv('italyTotCaseStock.csv')"
   ]
  },
  {
   "cell_type": "markdown",
   "metadata": {},
   "source": [
    "## Germany and its market (DAX 30)"
   ]
  },
  {
   "cell_type": "code",
   "execution_count": 43,
   "metadata": {},
   "outputs": [
    {
     "name": "stdout",
     "output_type": "stream",
     "text": [
      "(81, 3)\n"
     ]
    },
    {
     "data": {
      "text/html": [
       "<div>\n",
       "<style scoped>\n",
       "    .dataframe tbody tr th:only-of-type {\n",
       "        vertical-align: middle;\n",
       "    }\n",
       "\n",
       "    .dataframe tbody tr th {\n",
       "        vertical-align: top;\n",
       "    }\n",
       "\n",
       "    .dataframe thead th {\n",
       "        text-align: right;\n",
       "    }\n",
       "</style>\n",
       "<table border=\"1\" class=\"dataframe\">\n",
       "  <thead>\n",
       "    <tr style=\"text-align: right;\">\n",
       "      <th></th>\n",
       "      <th>index</th>\n",
       "      <th>date</th>\n",
       "      <th>total_cases</th>\n",
       "    </tr>\n",
       "  </thead>\n",
       "  <tbody>\n",
       "    <tr>\n",
       "      <th>0</th>\n",
       "      <td>2634</td>\n",
       "      <td>2020-01-28</td>\n",
       "      <td>1</td>\n",
       "    </tr>\n",
       "    <tr>\n",
       "      <th>1</th>\n",
       "      <td>2635</td>\n",
       "      <td>2020-01-29</td>\n",
       "      <td>4</td>\n",
       "    </tr>\n",
       "    <tr>\n",
       "      <th>2</th>\n",
       "      <td>2636</td>\n",
       "      <td>2020-01-30</td>\n",
       "      <td>4</td>\n",
       "    </tr>\n",
       "    <tr>\n",
       "      <th>3</th>\n",
       "      <td>2637</td>\n",
       "      <td>2020-01-31</td>\n",
       "      <td>5</td>\n",
       "    </tr>\n",
       "    <tr>\n",
       "      <th>4</th>\n",
       "      <td>2638</td>\n",
       "      <td>2020-02-01</td>\n",
       "      <td>7</td>\n",
       "    </tr>\n",
       "  </tbody>\n",
       "</table>\n",
       "</div>"
      ],
      "text/plain": [
       "   index        date  total_cases\n",
       "0   2634  2020-01-28            1\n",
       "1   2635  2020-01-29            4\n",
       "2   2636  2020-01-30            4\n",
       "3   2637  2020-01-31            5\n",
       "4   2638  2020-02-01            7"
      ]
     },
     "execution_count": 43,
     "metadata": {},
     "output_type": "execute_result"
    }
   ],
   "source": [
    "# subset Germany total cases against market!\n",
    "gerTotCases = df[['date','total_cases']][df['location'] == 'Germany']\n",
    "gerTotCases = gerTotCases[gerTotCases.total_cases > 0].reset_index()\n",
    "print(gerTotCases.shape)\n",
    "gerTotCases.head()"
   ]
  },
  {
   "cell_type": "code",
   "execution_count": 45,
   "metadata": {},
   "outputs": [
    {
     "data": {
      "text/plain": [
       "(57, 6)"
      ]
     },
     "execution_count": 45,
     "metadata": {},
     "output_type": "execute_result"
    }
   ],
   "source": [
    "start_date = '2020-01-28'\n",
    "end_date = '2020-04-17'\n",
    "panel_data = data.DataReader('^GDAXI', 'yahoo', start_date, end_date)\n",
    "panel_data.shape\n",
    "# 3DEL.DE"
   ]
  },
  {
   "cell_type": "code",
   "execution_count": 51,
   "metadata": {},
   "outputs": [
    {
     "data": {
      "text/html": [
       "<div>\n",
       "<style scoped>\n",
       "    .dataframe tbody tr th:only-of-type {\n",
       "        vertical-align: middle;\n",
       "    }\n",
       "\n",
       "    .dataframe tbody tr th {\n",
       "        vertical-align: top;\n",
       "    }\n",
       "\n",
       "    .dataframe thead th {\n",
       "        text-align: right;\n",
       "    }\n",
       "</style>\n",
       "<table border=\"1\" class=\"dataframe\">\n",
       "  <thead>\n",
       "    <tr style=\"text-align: right;\">\n",
       "      <th></th>\n",
       "      <th>High</th>\n",
       "      <th>Low</th>\n",
       "      <th>Open</th>\n",
       "      <th>Close</th>\n",
       "      <th>Volume</th>\n",
       "      <th>Adj Close</th>\n",
       "    </tr>\n",
       "    <tr>\n",
       "      <th>Date</th>\n",
       "      <th></th>\n",
       "      <th></th>\n",
       "      <th></th>\n",
       "      <th></th>\n",
       "      <th></th>\n",
       "      <th></th>\n",
       "    </tr>\n",
       "  </thead>\n",
       "  <tbody>\n",
       "    <tr>\n",
       "      <th>2020-04-02</th>\n",
       "      <td>9650.269531</td>\n",
       "      <td>9337.019531</td>\n",
       "      <td>9587.450195</td>\n",
       "      <td>9570.820312</td>\n",
       "      <td>144225800</td>\n",
       "      <td>9570.820312</td>\n",
       "    </tr>\n",
       "    <tr>\n",
       "      <th>2020-04-03</th>\n",
       "      <td>9626.719727</td>\n",
       "      <td>9470.200195</td>\n",
       "      <td>9535.269531</td>\n",
       "      <td>9525.769531</td>\n",
       "      <td>116245300</td>\n",
       "      <td>9525.769531</td>\n",
       "    </tr>\n",
       "    <tr>\n",
       "      <th>2020-04-06</th>\n",
       "      <td>10097.309570</td>\n",
       "      <td>9841.490234</td>\n",
       "      <td>9889.030273</td>\n",
       "      <td>10075.169922</td>\n",
       "      <td>126692200</td>\n",
       "      <td>10075.169922</td>\n",
       "    </tr>\n",
       "    <tr>\n",
       "      <th>2020-04-07</th>\n",
       "      <td>10590.410156</td>\n",
       "      <td>10225.019531</td>\n",
       "      <td>10464.110352</td>\n",
       "      <td>10356.700195</td>\n",
       "      <td>149513100</td>\n",
       "      <td>10356.700195</td>\n",
       "    </tr>\n",
       "    <tr>\n",
       "      <th>2020-04-08</th>\n",
       "      <td>10340.790039</td>\n",
       "      <td>10198.219727</td>\n",
       "      <td>10301.559570</td>\n",
       "      <td>10332.889648</td>\n",
       "      <td>102430700</td>\n",
       "      <td>10332.889648</td>\n",
       "    </tr>\n",
       "    <tr>\n",
       "      <th>2020-04-09</th>\n",
       "      <td>10649.790039</td>\n",
       "      <td>10311.700195</td>\n",
       "      <td>10490.650391</td>\n",
       "      <td>10564.740234</td>\n",
       "      <td>134477100</td>\n",
       "      <td>10564.740234</td>\n",
       "    </tr>\n",
       "    <tr>\n",
       "      <th>2020-04-14</th>\n",
       "      <td>10820.169922</td>\n",
       "      <td>10658.959961</td>\n",
       "      <td>10733.969727</td>\n",
       "      <td>10696.559570</td>\n",
       "      <td>106043700</td>\n",
       "      <td>10696.559570</td>\n",
       "    </tr>\n",
       "    <tr>\n",
       "      <th>2020-04-15</th>\n",
       "      <td>10678.190430</td>\n",
       "      <td>10243.110352</td>\n",
       "      <td>10678.190430</td>\n",
       "      <td>10279.759766</td>\n",
       "      <td>133088500</td>\n",
       "      <td>10279.759766</td>\n",
       "    </tr>\n",
       "    <tr>\n",
       "      <th>2020-04-16</th>\n",
       "      <td>10438.370117</td>\n",
       "      <td>10236.240234</td>\n",
       "      <td>10420.259766</td>\n",
       "      <td>10301.540039</td>\n",
       "      <td>106131500</td>\n",
       "      <td>10301.540039</td>\n",
       "    </tr>\n",
       "    <tr>\n",
       "      <th>2020-04-17</th>\n",
       "      <td>10756.780273</td>\n",
       "      <td>10542.709961</td>\n",
       "      <td>10607.349609</td>\n",
       "      <td>10625.780273</td>\n",
       "      <td>143341400</td>\n",
       "      <td>10625.780273</td>\n",
       "    </tr>\n",
       "  </tbody>\n",
       "</table>\n",
       "</div>"
      ],
      "text/plain": [
       "                    High           Low          Open         Close     Volume  \\\n",
       "Date                                                                            \n",
       "2020-04-02   9650.269531   9337.019531   9587.450195   9570.820312  144225800   \n",
       "2020-04-03   9626.719727   9470.200195   9535.269531   9525.769531  116245300   \n",
       "2020-04-06  10097.309570   9841.490234   9889.030273  10075.169922  126692200   \n",
       "2020-04-07  10590.410156  10225.019531  10464.110352  10356.700195  149513100   \n",
       "2020-04-08  10340.790039  10198.219727  10301.559570  10332.889648  102430700   \n",
       "2020-04-09  10649.790039  10311.700195  10490.650391  10564.740234  134477100   \n",
       "2020-04-14  10820.169922  10658.959961  10733.969727  10696.559570  106043700   \n",
       "2020-04-15  10678.190430  10243.110352  10678.190430  10279.759766  133088500   \n",
       "2020-04-16  10438.370117  10236.240234  10420.259766  10301.540039  106131500   \n",
       "2020-04-17  10756.780273  10542.709961  10607.349609  10625.780273  143341400   \n",
       "\n",
       "               Adj Close  \n",
       "Date                      \n",
       "2020-04-02   9570.820312  \n",
       "2020-04-03   9525.769531  \n",
       "2020-04-06  10075.169922  \n",
       "2020-04-07  10356.700195  \n",
       "2020-04-08  10332.889648  \n",
       "2020-04-09  10564.740234  \n",
       "2020-04-14  10696.559570  \n",
       "2020-04-15  10279.759766  \n",
       "2020-04-16  10301.540039  \n",
       "2020-04-17  10625.780273  "
      ]
     },
     "execution_count": 51,
     "metadata": {},
     "output_type": "execute_result"
    }
   ],
   "source": [
    "panel_data.tail(10)"
   ]
  },
  {
   "cell_type": "code",
   "execution_count": 47,
   "metadata": {},
   "outputs": [],
   "source": [
    "# stock prices doesn't have w-ends!\n",
    "#pd.to_datetime(gerTotCases.date[2]) == panel_data.index[0]\n",
    "boolDate  = pd.to_datetime(gerTotCases.date) == panel_data.index[0]\n",
    "for date in panel_data.index:\n",
    "    boolDate = boolDate | (pd.to_datetime(gerTotCases.date) == date)"
   ]
  },
  {
   "cell_type": "code",
   "execution_count": 48,
   "metadata": {},
   "outputs": [
    {
     "name": "stderr",
     "output_type": "stream",
     "text": [
      "C:\\Users\\beto\\anaconda3\\lib\\site-packages\\pandas\\core\\indexing.py:670: SettingWithCopyWarning: \n",
      "A value is trying to be set on a copy of a slice from a DataFrame\n",
      "\n",
      "See the caveats in the documentation: https://pandas.pydata.org/pandas-docs/stable/user_guide/indexing.html#returning-a-view-versus-a-copy\n",
      "  self._setitem_with_indexer(indexer, value)\n"
     ]
    }
   ],
   "source": [
    "# initialize stock column with NaN\n",
    "stockMean = (panel_data.High + panel_data.Low)/2\n",
    "gerTotCases['stock'] = stockMean\n",
    "# then point properly\n",
    "gerTotCases['stock'].loc[boolDate] = stockMean.values"
   ]
  },
  {
   "cell_type": "code",
   "execution_count": 52,
   "metadata": {},
   "outputs": [
    {
     "data": {
      "text/html": [
       "<div>\n",
       "<style scoped>\n",
       "    .dataframe tbody tr th:only-of-type {\n",
       "        vertical-align: middle;\n",
       "    }\n",
       "\n",
       "    .dataframe tbody tr th {\n",
       "        vertical-align: top;\n",
       "    }\n",
       "\n",
       "    .dataframe thead th {\n",
       "        text-align: right;\n",
       "    }\n",
       "</style>\n",
       "<table border=\"1\" class=\"dataframe\">\n",
       "  <thead>\n",
       "    <tr style=\"text-align: right;\">\n",
       "      <th></th>\n",
       "      <th>index</th>\n",
       "      <th>date</th>\n",
       "      <th>total_cases</th>\n",
       "      <th>stock</th>\n",
       "    </tr>\n",
       "  </thead>\n",
       "  <tbody>\n",
       "    <tr>\n",
       "      <th>61</th>\n",
       "      <td>2695</td>\n",
       "      <td>2020-03-29</td>\n",
       "      <td>52547</td>\n",
       "      <td>NaN</td>\n",
       "    </tr>\n",
       "    <tr>\n",
       "      <th>62</th>\n",
       "      <td>2696</td>\n",
       "      <td>2020-03-30</td>\n",
       "      <td>57298</td>\n",
       "      <td>9635.649902</td>\n",
       "    </tr>\n",
       "    <tr>\n",
       "      <th>63</th>\n",
       "      <td>2697</td>\n",
       "      <td>2020-03-31</td>\n",
       "      <td>61913</td>\n",
       "      <td>9900.149902</td>\n",
       "    </tr>\n",
       "    <tr>\n",
       "      <th>64</th>\n",
       "      <td>2698</td>\n",
       "      <td>2020-04-01</td>\n",
       "      <td>67366</td>\n",
       "      <td>9592.254883</td>\n",
       "    </tr>\n",
       "    <tr>\n",
       "      <th>65</th>\n",
       "      <td>2699</td>\n",
       "      <td>2020-04-02</td>\n",
       "      <td>73522</td>\n",
       "      <td>9493.644531</td>\n",
       "    </tr>\n",
       "    <tr>\n",
       "      <th>66</th>\n",
       "      <td>2700</td>\n",
       "      <td>2020-04-03</td>\n",
       "      <td>79696</td>\n",
       "      <td>9548.459961</td>\n",
       "    </tr>\n",
       "    <tr>\n",
       "      <th>67</th>\n",
       "      <td>2701</td>\n",
       "      <td>2020-04-04</td>\n",
       "      <td>85778</td>\n",
       "      <td>NaN</td>\n",
       "    </tr>\n",
       "    <tr>\n",
       "      <th>68</th>\n",
       "      <td>2702</td>\n",
       "      <td>2020-04-05</td>\n",
       "      <td>91714</td>\n",
       "      <td>NaN</td>\n",
       "    </tr>\n",
       "    <tr>\n",
       "      <th>69</th>\n",
       "      <td>2703</td>\n",
       "      <td>2020-04-06</td>\n",
       "      <td>95391</td>\n",
       "      <td>9969.399902</td>\n",
       "    </tr>\n",
       "    <tr>\n",
       "      <th>70</th>\n",
       "      <td>2704</td>\n",
       "      <td>2020-04-07</td>\n",
       "      <td>99225</td>\n",
       "      <td>10407.714844</td>\n",
       "    </tr>\n",
       "    <tr>\n",
       "      <th>71</th>\n",
       "      <td>2705</td>\n",
       "      <td>2020-04-08</td>\n",
       "      <td>103228</td>\n",
       "      <td>10269.504883</td>\n",
       "    </tr>\n",
       "    <tr>\n",
       "      <th>72</th>\n",
       "      <td>2706</td>\n",
       "      <td>2020-04-09</td>\n",
       "      <td>108202</td>\n",
       "      <td>10480.745117</td>\n",
       "    </tr>\n",
       "    <tr>\n",
       "      <th>73</th>\n",
       "      <td>2707</td>\n",
       "      <td>2020-04-10</td>\n",
       "      <td>113525</td>\n",
       "      <td>NaN</td>\n",
       "    </tr>\n",
       "    <tr>\n",
       "      <th>74</th>\n",
       "      <td>2708</td>\n",
       "      <td>2020-04-11</td>\n",
       "      <td>117658</td>\n",
       "      <td>NaN</td>\n",
       "    </tr>\n",
       "    <tr>\n",
       "      <th>75</th>\n",
       "      <td>2709</td>\n",
       "      <td>2020-04-12</td>\n",
       "      <td>120479</td>\n",
       "      <td>NaN</td>\n",
       "    </tr>\n",
       "    <tr>\n",
       "      <th>76</th>\n",
       "      <td>2710</td>\n",
       "      <td>2020-04-13</td>\n",
       "      <td>123016</td>\n",
       "      <td>NaN</td>\n",
       "    </tr>\n",
       "    <tr>\n",
       "      <th>77</th>\n",
       "      <td>2711</td>\n",
       "      <td>2020-04-14</td>\n",
       "      <td>125098</td>\n",
       "      <td>10739.564941</td>\n",
       "    </tr>\n",
       "    <tr>\n",
       "      <th>78</th>\n",
       "      <td>2712</td>\n",
       "      <td>2020-04-15</td>\n",
       "      <td>127584</td>\n",
       "      <td>10460.650391</td>\n",
       "    </tr>\n",
       "    <tr>\n",
       "      <th>79</th>\n",
       "      <td>2713</td>\n",
       "      <td>2020-04-16</td>\n",
       "      <td>130450</td>\n",
       "      <td>10337.305176</td>\n",
       "    </tr>\n",
       "    <tr>\n",
       "      <th>80</th>\n",
       "      <td>2714</td>\n",
       "      <td>2020-04-17</td>\n",
       "      <td>133830</td>\n",
       "      <td>10649.745117</td>\n",
       "    </tr>\n",
       "  </tbody>\n",
       "</table>\n",
       "</div>"
      ],
      "text/plain": [
       "    index        date  total_cases         stock\n",
       "61   2695  2020-03-29        52547           NaN\n",
       "62   2696  2020-03-30        57298   9635.649902\n",
       "63   2697  2020-03-31        61913   9900.149902\n",
       "64   2698  2020-04-01        67366   9592.254883\n",
       "65   2699  2020-04-02        73522   9493.644531\n",
       "66   2700  2020-04-03        79696   9548.459961\n",
       "67   2701  2020-04-04        85778           NaN\n",
       "68   2702  2020-04-05        91714           NaN\n",
       "69   2703  2020-04-06        95391   9969.399902\n",
       "70   2704  2020-04-07        99225  10407.714844\n",
       "71   2705  2020-04-08       103228  10269.504883\n",
       "72   2706  2020-04-09       108202  10480.745117\n",
       "73   2707  2020-04-10       113525           NaN\n",
       "74   2708  2020-04-11       117658           NaN\n",
       "75   2709  2020-04-12       120479           NaN\n",
       "76   2710  2020-04-13       123016           NaN\n",
       "77   2711  2020-04-14       125098  10739.564941\n",
       "78   2712  2020-04-15       127584  10460.650391\n",
       "79   2713  2020-04-16       130450  10337.305176\n",
       "80   2714  2020-04-17       133830  10649.745117"
      ]
     },
     "execution_count": 52,
     "metadata": {},
     "output_type": "execute_result"
    }
   ],
   "source": [
    "gerTotCases.tail(20)"
   ]
  },
  {
   "cell_type": "code",
   "execution_count": 53,
   "metadata": {},
   "outputs": [],
   "source": [
    "gerTotCases.to_csv('germanyTotCaseStock.csv')"
   ]
  },
  {
   "cell_type": "markdown",
   "metadata": {},
   "source": [
    "## US covid and stock market"
   ]
  },
  {
   "cell_type": "code",
   "execution_count": 56,
   "metadata": {},
   "outputs": [
    {
     "name": "stdout",
     "output_type": "stream",
     "text": [
      "(88, 3)\n"
     ]
    },
    {
     "data": {
      "text/html": [
       "<div>\n",
       "<style scoped>\n",
       "    .dataframe tbody tr th:only-of-type {\n",
       "        vertical-align: middle;\n",
       "    }\n",
       "\n",
       "    .dataframe tbody tr th {\n",
       "        vertical-align: top;\n",
       "    }\n",
       "\n",
       "    .dataframe thead th {\n",
       "        text-align: right;\n",
       "    }\n",
       "</style>\n",
       "<table border=\"1\" class=\"dataframe\">\n",
       "  <thead>\n",
       "    <tr style=\"text-align: right;\">\n",
       "      <th></th>\n",
       "      <th>index</th>\n",
       "      <th>date</th>\n",
       "      <th>total_cases</th>\n",
       "    </tr>\n",
       "  </thead>\n",
       "  <tbody>\n",
       "    <tr>\n",
       "      <th>83</th>\n",
       "      <td>10998</td>\n",
       "      <td>2020-04-13</td>\n",
       "      <td>557571</td>\n",
       "    </tr>\n",
       "    <tr>\n",
       "      <th>84</th>\n",
       "      <td>10999</td>\n",
       "      <td>2020-04-14</td>\n",
       "      <td>582594</td>\n",
       "    </tr>\n",
       "    <tr>\n",
       "      <th>85</th>\n",
       "      <td>11000</td>\n",
       "      <td>2020-04-15</td>\n",
       "      <td>609516</td>\n",
       "    </tr>\n",
       "    <tr>\n",
       "      <th>86</th>\n",
       "      <td>11001</td>\n",
       "      <td>2020-04-16</td>\n",
       "      <td>639664</td>\n",
       "    </tr>\n",
       "    <tr>\n",
       "      <th>87</th>\n",
       "      <td>11002</td>\n",
       "      <td>2020-04-17</td>\n",
       "      <td>671331</td>\n",
       "    </tr>\n",
       "  </tbody>\n",
       "</table>\n",
       "</div>"
      ],
      "text/plain": [
       "    index        date  total_cases\n",
       "83  10998  2020-04-13       557571\n",
       "84  10999  2020-04-14       582594\n",
       "85  11000  2020-04-15       609516\n",
       "86  11001  2020-04-16       639664\n",
       "87  11002  2020-04-17       671331"
      ]
     },
     "execution_count": 56,
     "metadata": {},
     "output_type": "execute_result"
    }
   ],
   "source": [
    "# subset US total cases against market!\n",
    "usTotCases = df[['date','total_cases']][df['location'] == 'United States']\n",
    "usTotCases = usTotCases[usTotCases.total_cases > 0].reset_index()\n",
    "print(usTotCases.shape)\n",
    "usTotCases.tail()"
   ]
  },
  {
   "cell_type": "code",
   "execution_count": 3,
   "metadata": {},
   "outputs": [
    {
     "data": {
      "text/html": [
       "<div>\n",
       "<style scoped>\n",
       "    .dataframe tbody tr th:only-of-type {\n",
       "        vertical-align: middle;\n",
       "    }\n",
       "\n",
       "    .dataframe tbody tr th {\n",
       "        vertical-align: top;\n",
       "    }\n",
       "\n",
       "    .dataframe thead th {\n",
       "        text-align: right;\n",
       "    }\n",
       "</style>\n",
       "<table border=\"1\" class=\"dataframe\">\n",
       "  <thead>\n",
       "    <tr style=\"text-align: right;\">\n",
       "      <th></th>\n",
       "      <th>High</th>\n",
       "      <th>Low</th>\n",
       "      <th>Open</th>\n",
       "      <th>Close</th>\n",
       "      <th>Volume</th>\n",
       "      <th>Adj Close</th>\n",
       "    </tr>\n",
       "    <tr>\n",
       "      <th>Date</th>\n",
       "      <th></th>\n",
       "      <th></th>\n",
       "      <th></th>\n",
       "      <th></th>\n",
       "      <th></th>\n",
       "      <th></th>\n",
       "    </tr>\n",
       "  </thead>\n",
       "  <tbody>\n",
       "    <tr>\n",
       "      <th>2020-01-21</th>\n",
       "      <td>29341.210938</td>\n",
       "      <td>29146.470703</td>\n",
       "      <td>29269.050781</td>\n",
       "      <td>29196.039062</td>\n",
       "      <td>320640000</td>\n",
       "      <td>29196.039062</td>\n",
       "    </tr>\n",
       "    <tr>\n",
       "      <th>2020-01-22</th>\n",
       "      <td>29320.199219</td>\n",
       "      <td>29172.259766</td>\n",
       "      <td>29263.630859</td>\n",
       "      <td>29186.269531</td>\n",
       "      <td>283440000</td>\n",
       "      <td>29186.269531</td>\n",
       "    </tr>\n",
       "    <tr>\n",
       "      <th>2020-01-23</th>\n",
       "      <td>29190.470703</td>\n",
       "      <td>28966.980469</td>\n",
       "      <td>29111.019531</td>\n",
       "      <td>29160.089844</td>\n",
       "      <td>307060000</td>\n",
       "      <td>29160.089844</td>\n",
       "    </tr>\n",
       "    <tr>\n",
       "      <th>2020-01-24</th>\n",
       "      <td>29288.789062</td>\n",
       "      <td>28843.310547</td>\n",
       "      <td>29230.390625</td>\n",
       "      <td>28989.730469</td>\n",
       "      <td>380010000</td>\n",
       "      <td>28989.730469</td>\n",
       "    </tr>\n",
       "    <tr>\n",
       "      <th>2020-01-27</th>\n",
       "      <td>28671.789062</td>\n",
       "      <td>28440.470703</td>\n",
       "      <td>28542.490234</td>\n",
       "      <td>28535.800781</td>\n",
       "      <td>337270000</td>\n",
       "      <td>28535.800781</td>\n",
       "    </tr>\n",
       "  </tbody>\n",
       "</table>\n",
       "</div>"
      ],
      "text/plain": [
       "                    High           Low          Open         Close     Volume  \\\n",
       "Date                                                                            \n",
       "2020-01-21  29341.210938  29146.470703  29269.050781  29196.039062  320640000   \n",
       "2020-01-22  29320.199219  29172.259766  29263.630859  29186.269531  283440000   \n",
       "2020-01-23  29190.470703  28966.980469  29111.019531  29160.089844  307060000   \n",
       "2020-01-24  29288.789062  28843.310547  29230.390625  28989.730469  380010000   \n",
       "2020-01-27  28671.789062  28440.470703  28542.490234  28535.800781  337270000   \n",
       "\n",
       "               Adj Close  \n",
       "Date                      \n",
       "2020-01-21  29196.039062  \n",
       "2020-01-22  29186.269531  \n",
       "2020-01-23  29160.089844  \n",
       "2020-01-24  28989.730469  \n",
       "2020-01-27  28535.800781  "
      ]
     },
     "execution_count": 3,
     "metadata": {},
     "output_type": "execute_result"
    }
   ],
   "source": [
    "start_date = '2020-01-21'\n",
    "end_date = '2020-04-17'\n",
    "panel_data = data.DataReader('^DJI', 'yahoo', start_date, end_date)\n",
    "panel_data.head()"
   ]
  },
  {
   "cell_type": "code",
   "execution_count": 62,
   "metadata": {},
   "outputs": [
    {
     "data": {
      "text/html": [
       "<div>\n",
       "<style scoped>\n",
       "    .dataframe tbody tr th:only-of-type {\n",
       "        vertical-align: middle;\n",
       "    }\n",
       "\n",
       "    .dataframe tbody tr th {\n",
       "        vertical-align: top;\n",
       "    }\n",
       "\n",
       "    .dataframe thead th {\n",
       "        text-align: right;\n",
       "    }\n",
       "</style>\n",
       "<table border=\"1\" class=\"dataframe\">\n",
       "  <thead>\n",
       "    <tr style=\"text-align: right;\">\n",
       "      <th></th>\n",
       "      <th>High</th>\n",
       "      <th>Low</th>\n",
       "      <th>Open</th>\n",
       "      <th>Close</th>\n",
       "      <th>Volume</th>\n",
       "      <th>Adj Close</th>\n",
       "    </tr>\n",
       "    <tr>\n",
       "      <th>Date</th>\n",
       "      <th></th>\n",
       "      <th></th>\n",
       "      <th></th>\n",
       "      <th></th>\n",
       "      <th></th>\n",
       "      <th></th>\n",
       "    </tr>\n",
       "  </thead>\n",
       "  <tbody>\n",
       "    <tr>\n",
       "      <th>2020-04-03</th>\n",
       "      <td>21447.810547</td>\n",
       "      <td>20863.089844</td>\n",
       "      <td>21285.929688</td>\n",
       "      <td>21052.529297</td>\n",
       "      <td>450010000</td>\n",
       "      <td>21052.529297</td>\n",
       "    </tr>\n",
       "    <tr>\n",
       "      <th>2020-04-06</th>\n",
       "      <td>22783.449219</td>\n",
       "      <td>21693.630859</td>\n",
       "      <td>21693.630859</td>\n",
       "      <td>22679.990234</td>\n",
       "      <td>610760000</td>\n",
       "      <td>22679.990234</td>\n",
       "    </tr>\n",
       "    <tr>\n",
       "      <th>2020-04-07</th>\n",
       "      <td>23617.240234</td>\n",
       "      <td>22634.449219</td>\n",
       "      <td>23537.439453</td>\n",
       "      <td>22653.859375</td>\n",
       "      <td>594660000</td>\n",
       "      <td>22653.859375</td>\n",
       "    </tr>\n",
       "    <tr>\n",
       "      <th>2020-04-08</th>\n",
       "      <td>23513.400391</td>\n",
       "      <td>22682.990234</td>\n",
       "      <td>22893.470703</td>\n",
       "      <td>23433.570312</td>\n",
       "      <td>472740000</td>\n",
       "      <td>23433.570312</td>\n",
       "    </tr>\n",
       "    <tr>\n",
       "      <th>2020-04-09</th>\n",
       "      <td>24008.990234</td>\n",
       "      <td>23504.089844</td>\n",
       "      <td>23690.660156</td>\n",
       "      <td>23719.369141</td>\n",
       "      <td>566400000</td>\n",
       "      <td>23719.369141</td>\n",
       "    </tr>\n",
       "    <tr>\n",
       "      <th>2020-04-13</th>\n",
       "      <td>23698.929688</td>\n",
       "      <td>23095.349609</td>\n",
       "      <td>23698.929688</td>\n",
       "      <td>23390.769531</td>\n",
       "      <td>394320000</td>\n",
       "      <td>23390.769531</td>\n",
       "    </tr>\n",
       "    <tr>\n",
       "      <th>2020-04-14</th>\n",
       "      <td>24040.580078</td>\n",
       "      <td>23683.439453</td>\n",
       "      <td>23690.570312</td>\n",
       "      <td>23949.759766</td>\n",
       "      <td>485910000</td>\n",
       "      <td>23949.759766</td>\n",
       "    </tr>\n",
       "    <tr>\n",
       "      <th>2020-04-15</th>\n",
       "      <td>23649.720703</td>\n",
       "      <td>23233.320312</td>\n",
       "      <td>23600.720703</td>\n",
       "      <td>23504.349609</td>\n",
       "      <td>437630000</td>\n",
       "      <td>23504.349609</td>\n",
       "    </tr>\n",
       "    <tr>\n",
       "      <th>2020-04-16</th>\n",
       "      <td>23598.080078</td>\n",
       "      <td>23211.380859</td>\n",
       "      <td>23543.660156</td>\n",
       "      <td>23537.679688</td>\n",
       "      <td>471050000</td>\n",
       "      <td>23537.679688</td>\n",
       "    </tr>\n",
       "    <tr>\n",
       "      <th>2020-04-17</th>\n",
       "      <td>24264.210938</td>\n",
       "      <td>23817.150391</td>\n",
       "      <td>23817.150391</td>\n",
       "      <td>24242.490234</td>\n",
       "      <td>525950000</td>\n",
       "      <td>24242.490234</td>\n",
       "    </tr>\n",
       "  </tbody>\n",
       "</table>\n",
       "</div>"
      ],
      "text/plain": [
       "                    High           Low          Open         Close     Volume  \\\n",
       "Date                                                                            \n",
       "2020-04-03  21447.810547  20863.089844  21285.929688  21052.529297  450010000   \n",
       "2020-04-06  22783.449219  21693.630859  21693.630859  22679.990234  610760000   \n",
       "2020-04-07  23617.240234  22634.449219  23537.439453  22653.859375  594660000   \n",
       "2020-04-08  23513.400391  22682.990234  22893.470703  23433.570312  472740000   \n",
       "2020-04-09  24008.990234  23504.089844  23690.660156  23719.369141  566400000   \n",
       "2020-04-13  23698.929688  23095.349609  23698.929688  23390.769531  394320000   \n",
       "2020-04-14  24040.580078  23683.439453  23690.570312  23949.759766  485910000   \n",
       "2020-04-15  23649.720703  23233.320312  23600.720703  23504.349609  437630000   \n",
       "2020-04-16  23598.080078  23211.380859  23543.660156  23537.679688  471050000   \n",
       "2020-04-17  24264.210938  23817.150391  23817.150391  24242.490234  525950000   \n",
       "\n",
       "               Adj Close  \n",
       "Date                      \n",
       "2020-04-03  21052.529297  \n",
       "2020-04-06  22679.990234  \n",
       "2020-04-07  22653.859375  \n",
       "2020-04-08  23433.570312  \n",
       "2020-04-09  23719.369141  \n",
       "2020-04-13  23390.769531  \n",
       "2020-04-14  23949.759766  \n",
       "2020-04-15  23504.349609  \n",
       "2020-04-16  23537.679688  \n",
       "2020-04-17  24242.490234  "
      ]
     },
     "execution_count": 62,
     "metadata": {},
     "output_type": "execute_result"
    }
   ],
   "source": [
    "panel_data.tail(10)"
   ]
  },
  {
   "cell_type": "code",
   "execution_count": 59,
   "metadata": {},
   "outputs": [],
   "source": [
    "# stock prices doesn't have w-ends!\n",
    "#pd.to_datetime(usTotCases.date[2]) == panel_data.index[0]\n",
    "boolDate  = pd.to_datetime(usTotCases.date) == panel_data.index[0]\n",
    "for date in panel_data.index:\n",
    "    boolDate = boolDate | (pd.to_datetime(usTotCases.date) == date)"
   ]
  },
  {
   "cell_type": "code",
   "execution_count": 60,
   "metadata": {},
   "outputs": [
    {
     "name": "stderr",
     "output_type": "stream",
     "text": [
      "C:\\Users\\beto\\anaconda3\\lib\\site-packages\\pandas\\core\\indexing.py:670: SettingWithCopyWarning: \n",
      "A value is trying to be set on a copy of a slice from a DataFrame\n",
      "\n",
      "See the caveats in the documentation: https://pandas.pydata.org/pandas-docs/stable/user_guide/indexing.html#returning-a-view-versus-a-copy\n",
      "  self._setitem_with_indexer(indexer, value)\n"
     ]
    }
   ],
   "source": [
    "# initialize stock column with NaN\n",
    "stockMean = (panel_data.High + panel_data.Low)/2\n",
    "usTotCases['stock'] = stockMean\n",
    "# then point properly\n",
    "usTotCases['stock'].loc[boolDate] = stockMean.values"
   ]
  },
  {
   "cell_type": "code",
   "execution_count": 63,
   "metadata": {},
   "outputs": [
    {
     "data": {
      "text/html": [
       "<div>\n",
       "<style scoped>\n",
       "    .dataframe tbody tr th:only-of-type {\n",
       "        vertical-align: middle;\n",
       "    }\n",
       "\n",
       "    .dataframe tbody tr th {\n",
       "        vertical-align: top;\n",
       "    }\n",
       "\n",
       "    .dataframe thead th {\n",
       "        text-align: right;\n",
       "    }\n",
       "</style>\n",
       "<table border=\"1\" class=\"dataframe\">\n",
       "  <thead>\n",
       "    <tr style=\"text-align: right;\">\n",
       "      <th></th>\n",
       "      <th>index</th>\n",
       "      <th>date</th>\n",
       "      <th>total_cases</th>\n",
       "      <th>stock</th>\n",
       "    </tr>\n",
       "  </thead>\n",
       "  <tbody>\n",
       "    <tr>\n",
       "      <th>68</th>\n",
       "      <td>10983</td>\n",
       "      <td>2020-03-29</td>\n",
       "      <td>124665</td>\n",
       "      <td>NaN</td>\n",
       "    </tr>\n",
       "    <tr>\n",
       "      <th>69</th>\n",
       "      <td>10984</td>\n",
       "      <td>2020-03-30</td>\n",
       "      <td>143025</td>\n",
       "      <td>21950.084961</td>\n",
       "    </tr>\n",
       "    <tr>\n",
       "      <th>70</th>\n",
       "      <td>10985</td>\n",
       "      <td>2020-03-31</td>\n",
       "      <td>164620</td>\n",
       "      <td>22166.224609</td>\n",
       "    </tr>\n",
       "    <tr>\n",
       "      <th>71</th>\n",
       "      <td>10986</td>\n",
       "      <td>2020-04-01</td>\n",
       "      <td>189618</td>\n",
       "      <td>21135.834961</td>\n",
       "    </tr>\n",
       "    <tr>\n",
       "      <th>72</th>\n",
       "      <td>10987</td>\n",
       "      <td>2020-04-02</td>\n",
       "      <td>216721</td>\n",
       "      <td>21106.394531</td>\n",
       "    </tr>\n",
       "    <tr>\n",
       "      <th>73</th>\n",
       "      <td>10988</td>\n",
       "      <td>2020-04-03</td>\n",
       "      <td>245540</td>\n",
       "      <td>21155.450195</td>\n",
       "    </tr>\n",
       "    <tr>\n",
       "      <th>74</th>\n",
       "      <td>10989</td>\n",
       "      <td>2020-04-04</td>\n",
       "      <td>277965</td>\n",
       "      <td>NaN</td>\n",
       "    </tr>\n",
       "    <tr>\n",
       "      <th>75</th>\n",
       "      <td>10990</td>\n",
       "      <td>2020-04-05</td>\n",
       "      <td>312237</td>\n",
       "      <td>NaN</td>\n",
       "    </tr>\n",
       "    <tr>\n",
       "      <th>76</th>\n",
       "      <td>10991</td>\n",
       "      <td>2020-04-06</td>\n",
       "      <td>337635</td>\n",
       "      <td>22238.540039</td>\n",
       "    </tr>\n",
       "    <tr>\n",
       "      <th>77</th>\n",
       "      <td>10992</td>\n",
       "      <td>2020-04-07</td>\n",
       "      <td>368196</td>\n",
       "      <td>23125.844727</td>\n",
       "    </tr>\n",
       "    <tr>\n",
       "      <th>78</th>\n",
       "      <td>10993</td>\n",
       "      <td>2020-04-08</td>\n",
       "      <td>398809</td>\n",
       "      <td>23098.195312</td>\n",
       "    </tr>\n",
       "    <tr>\n",
       "      <th>79</th>\n",
       "      <td>10994</td>\n",
       "      <td>2020-04-09</td>\n",
       "      <td>432132</td>\n",
       "      <td>23756.540039</td>\n",
       "    </tr>\n",
       "    <tr>\n",
       "      <th>80</th>\n",
       "      <td>10995</td>\n",
       "      <td>2020-04-10</td>\n",
       "      <td>466033</td>\n",
       "      <td>NaN</td>\n",
       "    </tr>\n",
       "    <tr>\n",
       "      <th>81</th>\n",
       "      <td>10996</td>\n",
       "      <td>2020-04-11</td>\n",
       "      <td>501560</td>\n",
       "      <td>NaN</td>\n",
       "    </tr>\n",
       "    <tr>\n",
       "      <th>82</th>\n",
       "      <td>10997</td>\n",
       "      <td>2020-04-12</td>\n",
       "      <td>529951</td>\n",
       "      <td>NaN</td>\n",
       "    </tr>\n",
       "    <tr>\n",
       "      <th>83</th>\n",
       "      <td>10998</td>\n",
       "      <td>2020-04-13</td>\n",
       "      <td>557571</td>\n",
       "      <td>23397.139648</td>\n",
       "    </tr>\n",
       "    <tr>\n",
       "      <th>84</th>\n",
       "      <td>10999</td>\n",
       "      <td>2020-04-14</td>\n",
       "      <td>582594</td>\n",
       "      <td>23862.009766</td>\n",
       "    </tr>\n",
       "    <tr>\n",
       "      <th>85</th>\n",
       "      <td>11000</td>\n",
       "      <td>2020-04-15</td>\n",
       "      <td>609516</td>\n",
       "      <td>23441.520508</td>\n",
       "    </tr>\n",
       "    <tr>\n",
       "      <th>86</th>\n",
       "      <td>11001</td>\n",
       "      <td>2020-04-16</td>\n",
       "      <td>639664</td>\n",
       "      <td>23404.730469</td>\n",
       "    </tr>\n",
       "    <tr>\n",
       "      <th>87</th>\n",
       "      <td>11002</td>\n",
       "      <td>2020-04-17</td>\n",
       "      <td>671331</td>\n",
       "      <td>24040.680664</td>\n",
       "    </tr>\n",
       "  </tbody>\n",
       "</table>\n",
       "</div>"
      ],
      "text/plain": [
       "    index        date  total_cases         stock\n",
       "68  10983  2020-03-29       124665           NaN\n",
       "69  10984  2020-03-30       143025  21950.084961\n",
       "70  10985  2020-03-31       164620  22166.224609\n",
       "71  10986  2020-04-01       189618  21135.834961\n",
       "72  10987  2020-04-02       216721  21106.394531\n",
       "73  10988  2020-04-03       245540  21155.450195\n",
       "74  10989  2020-04-04       277965           NaN\n",
       "75  10990  2020-04-05       312237           NaN\n",
       "76  10991  2020-04-06       337635  22238.540039\n",
       "77  10992  2020-04-07       368196  23125.844727\n",
       "78  10993  2020-04-08       398809  23098.195312\n",
       "79  10994  2020-04-09       432132  23756.540039\n",
       "80  10995  2020-04-10       466033           NaN\n",
       "81  10996  2020-04-11       501560           NaN\n",
       "82  10997  2020-04-12       529951           NaN\n",
       "83  10998  2020-04-13       557571  23397.139648\n",
       "84  10999  2020-04-14       582594  23862.009766\n",
       "85  11000  2020-04-15       609516  23441.520508\n",
       "86  11001  2020-04-16       639664  23404.730469\n",
       "87  11002  2020-04-17       671331  24040.680664"
      ]
     },
     "execution_count": 63,
     "metadata": {},
     "output_type": "execute_result"
    }
   ],
   "source": [
    "usTotCases.tail(20)"
   ]
  },
  {
   "cell_type": "code",
   "execution_count": 64,
   "metadata": {},
   "outputs": [],
   "source": [
    "usTotCases.to_csv('usTotCaseStock.csv')"
   ]
  },
  {
   "cell_type": "markdown",
   "metadata": {},
   "source": [
    "## china covid and market"
   ]
  },
  {
   "cell_type": "code",
   "execution_count": 67,
   "metadata": {},
   "outputs": [
    {
     "name": "stdout",
     "output_type": "stream",
     "text": [
      "(109, 3)\n"
     ]
    },
    {
     "data": {
      "text/html": [
       "<div>\n",
       "<style scoped>\n",
       "    .dataframe tbody tr th:only-of-type {\n",
       "        vertical-align: middle;\n",
       "    }\n",
       "\n",
       "    .dataframe tbody tr th {\n",
       "        vertical-align: top;\n",
       "    }\n",
       "\n",
       "    .dataframe thead th {\n",
       "        text-align: right;\n",
       "    }\n",
       "</style>\n",
       "<table border=\"1\" class=\"dataframe\">\n",
       "  <thead>\n",
       "    <tr style=\"text-align: right;\">\n",
       "      <th></th>\n",
       "      <th>index</th>\n",
       "      <th>date</th>\n",
       "      <th>total_cases</th>\n",
       "    </tr>\n",
       "  </thead>\n",
       "  <tbody>\n",
       "    <tr>\n",
       "      <th>0</th>\n",
       "      <td>2014</td>\n",
       "      <td>2019-12-31</td>\n",
       "      <td>27</td>\n",
       "    </tr>\n",
       "    <tr>\n",
       "      <th>1</th>\n",
       "      <td>2015</td>\n",
       "      <td>2020-01-01</td>\n",
       "      <td>27</td>\n",
       "    </tr>\n",
       "    <tr>\n",
       "      <th>2</th>\n",
       "      <td>2016</td>\n",
       "      <td>2020-01-02</td>\n",
       "      <td>27</td>\n",
       "    </tr>\n",
       "    <tr>\n",
       "      <th>3</th>\n",
       "      <td>2017</td>\n",
       "      <td>2020-01-03</td>\n",
       "      <td>44</td>\n",
       "    </tr>\n",
       "    <tr>\n",
       "      <th>4</th>\n",
       "      <td>2018</td>\n",
       "      <td>2020-01-04</td>\n",
       "      <td>44</td>\n",
       "    </tr>\n",
       "  </tbody>\n",
       "</table>\n",
       "</div>"
      ],
      "text/plain": [
       "   index        date  total_cases\n",
       "0   2014  2019-12-31           27\n",
       "1   2015  2020-01-01           27\n",
       "2   2016  2020-01-02           27\n",
       "3   2017  2020-01-03           44\n",
       "4   2018  2020-01-04           44"
      ]
     },
     "execution_count": 67,
     "metadata": {},
     "output_type": "execute_result"
    }
   ],
   "source": [
    "# subset china total cases against market!\n",
    "chinaTotCases = df[['date','total_cases']][df['location'] == 'China']\n",
    "chinaTotCases = chinaTotCases[chinaTotCases.total_cases > 0].reset_index()\n",
    "print(chinaTotCases.shape)\n",
    "chinaTotCases.head()"
   ]
  },
  {
   "cell_type": "code",
   "execution_count": 76,
   "metadata": {},
   "outputs": [
    {
     "data": {
      "text/plain": [
       "(71, 6)"
      ]
     },
     "execution_count": 76,
     "metadata": {},
     "output_type": "execute_result"
    }
   ],
   "source": [
    "start_date = '2019-12-31'\n",
    "end_date = '2020-04-17'\n",
    "panel_data = data.DataReader('000001.SS', 'yahoo', start_date, end_date)\n",
    "panel_data.shape\n",
    "# ^SSEC"
   ]
  },
  {
   "cell_type": "code",
   "execution_count": 83,
   "metadata": {},
   "outputs": [
    {
     "data": {
      "text/html": [
       "<div>\n",
       "<style scoped>\n",
       "    .dataframe tbody tr th:only-of-type {\n",
       "        vertical-align: middle;\n",
       "    }\n",
       "\n",
       "    .dataframe tbody tr th {\n",
       "        vertical-align: top;\n",
       "    }\n",
       "\n",
       "    .dataframe thead th {\n",
       "        text-align: right;\n",
       "    }\n",
       "</style>\n",
       "<table border=\"1\" class=\"dataframe\">\n",
       "  <thead>\n",
       "    <tr style=\"text-align: right;\">\n",
       "      <th></th>\n",
       "      <th>High</th>\n",
       "      <th>Low</th>\n",
       "      <th>Open</th>\n",
       "      <th>Close</th>\n",
       "      <th>Volume</th>\n",
       "      <th>Adj Close</th>\n",
       "    </tr>\n",
       "    <tr>\n",
       "      <th>Date</th>\n",
       "      <th></th>\n",
       "      <th></th>\n",
       "      <th></th>\n",
       "      <th></th>\n",
       "      <th></th>\n",
       "      <th></th>\n",
       "    </tr>\n",
       "  </thead>\n",
       "  <tbody>\n",
       "    <tr>\n",
       "      <th>2019-12-31</th>\n",
       "      <td>3051.677002</td>\n",
       "      <td>3030.511963</td>\n",
       "      <td>3036.385986</td>\n",
       "      <td>3050.124023</td>\n",
       "      <td>217400</td>\n",
       "      <td>3050.124023</td>\n",
       "    </tr>\n",
       "    <tr>\n",
       "      <th>2020-01-02</th>\n",
       "      <td>3098.100098</td>\n",
       "      <td>3066.335938</td>\n",
       "      <td>3066.335938</td>\n",
       "      <td>3085.197998</td>\n",
       "      <td>292500</td>\n",
       "      <td>3085.197998</td>\n",
       "    </tr>\n",
       "    <tr>\n",
       "      <th>2020-01-03</th>\n",
       "      <td>3093.819092</td>\n",
       "      <td>3074.518066</td>\n",
       "      <td>3089.021973</td>\n",
       "      <td>3083.785889</td>\n",
       "      <td>261500</td>\n",
       "      <td>3083.785889</td>\n",
       "    </tr>\n",
       "    <tr>\n",
       "      <th>2020-01-06</th>\n",
       "      <td>3107.202881</td>\n",
       "      <td>3065.309082</td>\n",
       "      <td>3070.908936</td>\n",
       "      <td>3083.407959</td>\n",
       "      <td>312600</td>\n",
       "      <td>3083.407959</td>\n",
       "    </tr>\n",
       "    <tr>\n",
       "      <th>2020-01-07</th>\n",
       "      <td>3105.450928</td>\n",
       "      <td>3084.329102</td>\n",
       "      <td>3085.488037</td>\n",
       "      <td>3104.802002</td>\n",
       "      <td>276600</td>\n",
       "      <td>3104.802002</td>\n",
       "    </tr>\n",
       "    <tr>\n",
       "      <th>2020-01-08</th>\n",
       "      <td>3094.239014</td>\n",
       "      <td>3059.131104</td>\n",
       "      <td>3094.239014</td>\n",
       "      <td>3066.893066</td>\n",
       "      <td>297900</td>\n",
       "      <td>3066.893066</td>\n",
       "    </tr>\n",
       "    <tr>\n",
       "      <th>2020-01-09</th>\n",
       "      <td>3097.329102</td>\n",
       "      <td>3080.131104</td>\n",
       "      <td>3082.639893</td>\n",
       "      <td>3094.882080</td>\n",
       "      <td>243400</td>\n",
       "      <td>3094.882080</td>\n",
       "    </tr>\n",
       "    <tr>\n",
       "      <th>2020-01-10</th>\n",
       "      <td>3105.225098</td>\n",
       "      <td>3081.395996</td>\n",
       "      <td>3102.293945</td>\n",
       "      <td>3092.291016</td>\n",
       "      <td>210400</td>\n",
       "      <td>3092.291016</td>\n",
       "    </tr>\n",
       "    <tr>\n",
       "      <th>2020-01-13</th>\n",
       "      <td>3115.570068</td>\n",
       "      <td>3075.384033</td>\n",
       "      <td>3091.492920</td>\n",
       "      <td>3115.570068</td>\n",
       "      <td>210600</td>\n",
       "      <td>3115.570068</td>\n",
       "    </tr>\n",
       "    <tr>\n",
       "      <th>2020-01-14</th>\n",
       "      <td>3127.168945</td>\n",
       "      <td>3105.604980</td>\n",
       "      <td>3120.666992</td>\n",
       "      <td>3106.820068</td>\n",
       "      <td>230000</td>\n",
       "      <td>3106.820068</td>\n",
       "    </tr>\n",
       "  </tbody>\n",
       "</table>\n",
       "</div>"
      ],
      "text/plain": [
       "                   High          Low         Open        Close  Volume  \\\n",
       "Date                                                                     \n",
       "2019-12-31  3051.677002  3030.511963  3036.385986  3050.124023  217400   \n",
       "2020-01-02  3098.100098  3066.335938  3066.335938  3085.197998  292500   \n",
       "2020-01-03  3093.819092  3074.518066  3089.021973  3083.785889  261500   \n",
       "2020-01-06  3107.202881  3065.309082  3070.908936  3083.407959  312600   \n",
       "2020-01-07  3105.450928  3084.329102  3085.488037  3104.802002  276600   \n",
       "2020-01-08  3094.239014  3059.131104  3094.239014  3066.893066  297900   \n",
       "2020-01-09  3097.329102  3080.131104  3082.639893  3094.882080  243400   \n",
       "2020-01-10  3105.225098  3081.395996  3102.293945  3092.291016  210400   \n",
       "2020-01-13  3115.570068  3075.384033  3091.492920  3115.570068  210600   \n",
       "2020-01-14  3127.168945  3105.604980  3120.666992  3106.820068  230000   \n",
       "\n",
       "              Adj Close  \n",
       "Date                     \n",
       "2019-12-31  3050.124023  \n",
       "2020-01-02  3085.197998  \n",
       "2020-01-03  3083.785889  \n",
       "2020-01-06  3083.407959  \n",
       "2020-01-07  3104.802002  \n",
       "2020-01-08  3066.893066  \n",
       "2020-01-09  3094.882080  \n",
       "2020-01-10  3092.291016  \n",
       "2020-01-13  3115.570068  \n",
       "2020-01-14  3106.820068  "
      ]
     },
     "execution_count": 83,
     "metadata": {},
     "output_type": "execute_result"
    }
   ],
   "source": [
    "panel_data.head(10)"
   ]
  },
  {
   "cell_type": "code",
   "execution_count": 78,
   "metadata": {},
   "outputs": [],
   "source": [
    "# stock prices doesn't have w-ends!\n",
    "#pd.to_datetime(chinaTotCases.date[2]) == panel_data.index[0]\n",
    "boolDate  = pd.to_datetime(chinaTotCases.date) == panel_data.index[0]\n",
    "for date in panel_data.index:\n",
    "    boolDate = boolDate | (pd.to_datetime(chinaTotCases.date) == date)"
   ]
  },
  {
   "cell_type": "code",
   "execution_count": 79,
   "metadata": {},
   "outputs": [
    {
     "name": "stderr",
     "output_type": "stream",
     "text": [
      "C:\\Users\\beto\\anaconda3\\lib\\site-packages\\pandas\\core\\indexing.py:670: SettingWithCopyWarning: \n",
      "A value is trying to be set on a copy of a slice from a DataFrame\n",
      "\n",
      "See the caveats in the documentation: https://pandas.pydata.org/pandas-docs/stable/user_guide/indexing.html#returning-a-view-versus-a-copy\n",
      "  self._setitem_with_indexer(indexer, value)\n"
     ]
    }
   ],
   "source": [
    "# initialize stock column with NaN\n",
    "stockMean = (panel_data.High + panel_data.Low)/2\n",
    "chinaTotCases['stock'] = stockMean\n",
    "# then point properly\n",
    "chinaTotCases['stock'].loc[boolDate] = stockMean.values"
   ]
  },
  {
   "cell_type": "code",
   "execution_count": 82,
   "metadata": {},
   "outputs": [
    {
     "data": {
      "text/html": [
       "<div>\n",
       "<style scoped>\n",
       "    .dataframe tbody tr th:only-of-type {\n",
       "        vertical-align: middle;\n",
       "    }\n",
       "\n",
       "    .dataframe tbody tr th {\n",
       "        vertical-align: top;\n",
       "    }\n",
       "\n",
       "    .dataframe thead th {\n",
       "        text-align: right;\n",
       "    }\n",
       "</style>\n",
       "<table border=\"1\" class=\"dataframe\">\n",
       "  <thead>\n",
       "    <tr style=\"text-align: right;\">\n",
       "      <th></th>\n",
       "      <th>index</th>\n",
       "      <th>date</th>\n",
       "      <th>total_cases</th>\n",
       "      <th>stock</th>\n",
       "    </tr>\n",
       "  </thead>\n",
       "  <tbody>\n",
       "    <tr>\n",
       "      <th>0</th>\n",
       "      <td>2014</td>\n",
       "      <td>2019-12-31</td>\n",
       "      <td>27</td>\n",
       "      <td>3041.094482</td>\n",
       "    </tr>\n",
       "    <tr>\n",
       "      <th>1</th>\n",
       "      <td>2015</td>\n",
       "      <td>2020-01-01</td>\n",
       "      <td>27</td>\n",
       "      <td>NaN</td>\n",
       "    </tr>\n",
       "    <tr>\n",
       "      <th>2</th>\n",
       "      <td>2016</td>\n",
       "      <td>2020-01-02</td>\n",
       "      <td>27</td>\n",
       "      <td>3082.218018</td>\n",
       "    </tr>\n",
       "    <tr>\n",
       "      <th>3</th>\n",
       "      <td>2017</td>\n",
       "      <td>2020-01-03</td>\n",
       "      <td>44</td>\n",
       "      <td>3084.168579</td>\n",
       "    </tr>\n",
       "    <tr>\n",
       "      <th>4</th>\n",
       "      <td>2018</td>\n",
       "      <td>2020-01-04</td>\n",
       "      <td>44</td>\n",
       "      <td>NaN</td>\n",
       "    </tr>\n",
       "    <tr>\n",
       "      <th>5</th>\n",
       "      <td>2019</td>\n",
       "      <td>2020-01-05</td>\n",
       "      <td>59</td>\n",
       "      <td>NaN</td>\n",
       "    </tr>\n",
       "    <tr>\n",
       "      <th>6</th>\n",
       "      <td>2020</td>\n",
       "      <td>2020-01-06</td>\n",
       "      <td>59</td>\n",
       "      <td>3086.255981</td>\n",
       "    </tr>\n",
       "    <tr>\n",
       "      <th>7</th>\n",
       "      <td>2021</td>\n",
       "      <td>2020-01-07</td>\n",
       "      <td>59</td>\n",
       "      <td>3094.890015</td>\n",
       "    </tr>\n",
       "    <tr>\n",
       "      <th>8</th>\n",
       "      <td>2022</td>\n",
       "      <td>2020-01-08</td>\n",
       "      <td>59</td>\n",
       "      <td>3076.685059</td>\n",
       "    </tr>\n",
       "    <tr>\n",
       "      <th>9</th>\n",
       "      <td>2023</td>\n",
       "      <td>2020-01-09</td>\n",
       "      <td>59</td>\n",
       "      <td>3088.730103</td>\n",
       "    </tr>\n",
       "    <tr>\n",
       "      <th>10</th>\n",
       "      <td>2024</td>\n",
       "      <td>2020-01-10</td>\n",
       "      <td>59</td>\n",
       "      <td>3093.310547</td>\n",
       "    </tr>\n",
       "    <tr>\n",
       "      <th>11</th>\n",
       "      <td>2025</td>\n",
       "      <td>2020-01-11</td>\n",
       "      <td>59</td>\n",
       "      <td>NaN</td>\n",
       "    </tr>\n",
       "    <tr>\n",
       "      <th>12</th>\n",
       "      <td>2026</td>\n",
       "      <td>2020-01-12</td>\n",
       "      <td>59</td>\n",
       "      <td>NaN</td>\n",
       "    </tr>\n",
       "    <tr>\n",
       "      <th>13</th>\n",
       "      <td>2027</td>\n",
       "      <td>2020-01-13</td>\n",
       "      <td>59</td>\n",
       "      <td>3095.477051</td>\n",
       "    </tr>\n",
       "    <tr>\n",
       "      <th>14</th>\n",
       "      <td>2028</td>\n",
       "      <td>2020-01-14</td>\n",
       "      <td>59</td>\n",
       "      <td>3116.386963</td>\n",
       "    </tr>\n",
       "    <tr>\n",
       "      <th>15</th>\n",
       "      <td>2029</td>\n",
       "      <td>2020-01-15</td>\n",
       "      <td>59</td>\n",
       "      <td>3094.989990</td>\n",
       "    </tr>\n",
       "    <tr>\n",
       "      <th>16</th>\n",
       "      <td>2030</td>\n",
       "      <td>2020-01-16</td>\n",
       "      <td>59</td>\n",
       "      <td>3083.628052</td>\n",
       "    </tr>\n",
       "    <tr>\n",
       "      <th>17</th>\n",
       "      <td>2031</td>\n",
       "      <td>2020-01-17</td>\n",
       "      <td>63</td>\n",
       "      <td>3079.602417</td>\n",
       "    </tr>\n",
       "    <tr>\n",
       "      <th>18</th>\n",
       "      <td>2032</td>\n",
       "      <td>2020-01-18</td>\n",
       "      <td>80</td>\n",
       "      <td>NaN</td>\n",
       "    </tr>\n",
       "    <tr>\n",
       "      <th>19</th>\n",
       "      <td>2033</td>\n",
       "      <td>2020-01-19</td>\n",
       "      <td>216</td>\n",
       "      <td>NaN</td>\n",
       "    </tr>\n",
       "  </tbody>\n",
       "</table>\n",
       "</div>"
      ],
      "text/plain": [
       "    index        date  total_cases        stock\n",
       "0    2014  2019-12-31           27  3041.094482\n",
       "1    2015  2020-01-01           27          NaN\n",
       "2    2016  2020-01-02           27  3082.218018\n",
       "3    2017  2020-01-03           44  3084.168579\n",
       "4    2018  2020-01-04           44          NaN\n",
       "5    2019  2020-01-05           59          NaN\n",
       "6    2020  2020-01-06           59  3086.255981\n",
       "7    2021  2020-01-07           59  3094.890015\n",
       "8    2022  2020-01-08           59  3076.685059\n",
       "9    2023  2020-01-09           59  3088.730103\n",
       "10   2024  2020-01-10           59  3093.310547\n",
       "11   2025  2020-01-11           59          NaN\n",
       "12   2026  2020-01-12           59          NaN\n",
       "13   2027  2020-01-13           59  3095.477051\n",
       "14   2028  2020-01-14           59  3116.386963\n",
       "15   2029  2020-01-15           59  3094.989990\n",
       "16   2030  2020-01-16           59  3083.628052\n",
       "17   2031  2020-01-17           63  3079.602417\n",
       "18   2032  2020-01-18           80          NaN\n",
       "19   2033  2020-01-19          216          NaN"
      ]
     },
     "execution_count": 82,
     "metadata": {},
     "output_type": "execute_result"
    }
   ],
   "source": [
    "chinaTotCases.head(20)"
   ]
  },
  {
   "cell_type": "code",
   "execution_count": 84,
   "metadata": {},
   "outputs": [],
   "source": [
    "chinaTotCases.to_csv('chinaTotCaseStock.csv')"
   ]
  },
  {
   "cell_type": "code",
   "execution_count": null,
   "metadata": {},
   "outputs": [],
   "source": []
  }
 ],
 "metadata": {
  "kernelspec": {
   "display_name": "Python 3",
   "language": "python",
   "name": "python3"
  },
  "language_info": {
   "codemirror_mode": {
    "name": "ipython",
    "version": 3
   },
   "file_extension": ".py",
   "mimetype": "text/x-python",
   "name": "python",
   "nbconvert_exporter": "python",
   "pygments_lexer": "ipython3",
   "version": "3.7.6"
  }
 },
 "nbformat": 4,
 "nbformat_minor": 2
}
