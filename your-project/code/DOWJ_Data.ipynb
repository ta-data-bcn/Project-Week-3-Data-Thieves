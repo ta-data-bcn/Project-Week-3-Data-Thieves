{
 "cells": [
  {
   "cell_type": "markdown",
   "metadata": {},
   "source": [
    "# DOW JONES DATASET\n",
    "## Jan 2010 to Jul 2020"
   ]
  },
  {
   "cell_type": "code",
   "execution_count": 2,
   "metadata": {},
   "outputs": [],
   "source": [
    "import pandas as pd\n",
    "import numpy as np"
   ]
  },
  {
   "cell_type": "code",
   "execution_count": 3,
   "metadata": {},
   "outputs": [],
   "source": [
    "dow = pd.read_csv('data/^DJI-2.csv')\n",
    "dow_original = dow.copy()"
   ]
  },
  {
   "cell_type": "code",
   "execution_count": 4,
   "metadata": {},
   "outputs": [
    {
     "data": {
      "text/html": [
       "<div>\n",
       "<style scoped>\n",
       "    .dataframe tbody tr th:only-of-type {\n",
       "        vertical-align: middle;\n",
       "    }\n",
       "\n",
       "    .dataframe tbody tr th {\n",
       "        vertical-align: top;\n",
       "    }\n",
       "\n",
       "    .dataframe thead th {\n",
       "        text-align: right;\n",
       "    }\n",
       "</style>\n",
       "<table border=\"1\" class=\"dataframe\">\n",
       "  <thead>\n",
       "    <tr style=\"text-align: right;\">\n",
       "      <th></th>\n",
       "      <th>Date</th>\n",
       "      <th>Open</th>\n",
       "      <th>High</th>\n",
       "      <th>Low</th>\n",
       "      <th>Close</th>\n",
       "      <th>Adj Close</th>\n",
       "      <th>Volume</th>\n",
       "    </tr>\n",
       "  </thead>\n",
       "  <tbody>\n",
       "    <tr>\n",
       "      <th>0</th>\n",
       "      <td>2010-01-04</td>\n",
       "      <td>10430.690430</td>\n",
       "      <td>10604.969727</td>\n",
       "      <td>10430.690430</td>\n",
       "      <td>10583.959961</td>\n",
       "      <td>10583.959961</td>\n",
       "      <td>179780000</td>\n",
       "    </tr>\n",
       "    <tr>\n",
       "      <th>1</th>\n",
       "      <td>2010-01-05</td>\n",
       "      <td>10584.559570</td>\n",
       "      <td>10584.559570</td>\n",
       "      <td>10522.519531</td>\n",
       "      <td>10572.019531</td>\n",
       "      <td>10572.019531</td>\n",
       "      <td>188540000</td>\n",
       "    </tr>\n",
       "    <tr>\n",
       "      <th>2</th>\n",
       "      <td>2010-01-06</td>\n",
       "      <td>10564.719727</td>\n",
       "      <td>10594.990234</td>\n",
       "      <td>10546.549805</td>\n",
       "      <td>10573.679688</td>\n",
       "      <td>10573.679688</td>\n",
       "      <td>186040000</td>\n",
       "    </tr>\n",
       "    <tr>\n",
       "      <th>3</th>\n",
       "      <td>2010-01-07</td>\n",
       "      <td>10571.110352</td>\n",
       "      <td>10612.370117</td>\n",
       "      <td>10505.209961</td>\n",
       "      <td>10606.860352</td>\n",
       "      <td>10606.860352</td>\n",
       "      <td>217390000</td>\n",
       "    </tr>\n",
       "    <tr>\n",
       "      <th>4</th>\n",
       "      <td>2010-01-08</td>\n",
       "      <td>10606.400391</td>\n",
       "      <td>10619.400391</td>\n",
       "      <td>10554.330078</td>\n",
       "      <td>10618.190430</td>\n",
       "      <td>10618.190430</td>\n",
       "      <td>172710000</td>\n",
       "    </tr>\n",
       "  </tbody>\n",
       "</table>\n",
       "</div>"
      ],
      "text/plain": [
       "         Date          Open          High           Low         Close  \\\n",
       "0  2010-01-04  10430.690430  10604.969727  10430.690430  10583.959961   \n",
       "1  2010-01-05  10584.559570  10584.559570  10522.519531  10572.019531   \n",
       "2  2010-01-06  10564.719727  10594.990234  10546.549805  10573.679688   \n",
       "3  2010-01-07  10571.110352  10612.370117  10505.209961  10606.860352   \n",
       "4  2010-01-08  10606.400391  10619.400391  10554.330078  10618.190430   \n",
       "\n",
       "      Adj Close     Volume  \n",
       "0  10583.959961  179780000  \n",
       "1  10572.019531  188540000  \n",
       "2  10573.679688  186040000  \n",
       "3  10606.860352  217390000  \n",
       "4  10618.190430  172710000  "
      ]
     },
     "execution_count": 4,
     "metadata": {},
     "output_type": "execute_result"
    }
   ],
   "source": [
    "dow.head()"
   ]
  },
  {
   "cell_type": "code",
   "execution_count": 5,
   "metadata": {},
   "outputs": [
    {
     "data": {
      "text/html": [
       "<div>\n",
       "<style scoped>\n",
       "    .dataframe tbody tr th:only-of-type {\n",
       "        vertical-align: middle;\n",
       "    }\n",
       "\n",
       "    .dataframe tbody tr th {\n",
       "        vertical-align: top;\n",
       "    }\n",
       "\n",
       "    .dataframe thead th {\n",
       "        text-align: right;\n",
       "    }\n",
       "</style>\n",
       "<table border=\"1\" class=\"dataframe\">\n",
       "  <thead>\n",
       "    <tr style=\"text-align: right;\">\n",
       "      <th></th>\n",
       "      <th>Date</th>\n",
       "      <th>Open</th>\n",
       "      <th>High</th>\n",
       "      <th>Low</th>\n",
       "      <th>Close</th>\n",
       "      <th>Adj Close</th>\n",
       "      <th>Volume</th>\n",
       "    </tr>\n",
       "  </thead>\n",
       "  <tbody>\n",
       "    <tr>\n",
       "      <th>2643</th>\n",
       "      <td>2020-07-06</td>\n",
       "      <td>25996.080078</td>\n",
       "      <td>26297.529297</td>\n",
       "      <td>25996.080078</td>\n",
       "      <td>26287.029297</td>\n",
       "      <td>26287.029297</td>\n",
       "      <td>340690000</td>\n",
       "    </tr>\n",
       "    <tr>\n",
       "      <th>2644</th>\n",
       "      <td>2020-07-07</td>\n",
       "      <td>26172.009766</td>\n",
       "      <td>26174.929688</td>\n",
       "      <td>25866.580078</td>\n",
       "      <td>25890.179688</td>\n",
       "      <td>25890.179688</td>\n",
       "      <td>346820000</td>\n",
       "    </tr>\n",
       "    <tr>\n",
       "      <th>2645</th>\n",
       "      <td>2020-07-08</td>\n",
       "      <td>25950.060547</td>\n",
       "      <td>26109.490234</td>\n",
       "      <td>25816.250000</td>\n",
       "      <td>26067.279297</td>\n",
       "      <td>26067.279297</td>\n",
       "      <td>337300000</td>\n",
       "    </tr>\n",
       "    <tr>\n",
       "      <th>2646</th>\n",
       "      <td>2020-07-09</td>\n",
       "      <td>26094.919922</td>\n",
       "      <td>26103.279297</td>\n",
       "      <td>25523.509766</td>\n",
       "      <td>25706.089844</td>\n",
       "      <td>25706.089844</td>\n",
       "      <td>387610000</td>\n",
       "    </tr>\n",
       "    <tr>\n",
       "      <th>2647</th>\n",
       "      <td>2020-07-10</td>\n",
       "      <td>25690.349609</td>\n",
       "      <td>26101.320313</td>\n",
       "      <td>25637.500000</td>\n",
       "      <td>26075.300781</td>\n",
       "      <td>26075.300781</td>\n",
       "      <td>338170000</td>\n",
       "    </tr>\n",
       "  </tbody>\n",
       "</table>\n",
       "</div>"
      ],
      "text/plain": [
       "            Date          Open          High           Low         Close  \\\n",
       "2643  2020-07-06  25996.080078  26297.529297  25996.080078  26287.029297   \n",
       "2644  2020-07-07  26172.009766  26174.929688  25866.580078  25890.179688   \n",
       "2645  2020-07-08  25950.060547  26109.490234  25816.250000  26067.279297   \n",
       "2646  2020-07-09  26094.919922  26103.279297  25523.509766  25706.089844   \n",
       "2647  2020-07-10  25690.349609  26101.320313  25637.500000  26075.300781   \n",
       "\n",
       "         Adj Close     Volume  \n",
       "2643  26287.029297  340690000  \n",
       "2644  25890.179688  346820000  \n",
       "2645  26067.279297  337300000  \n",
       "2646  25706.089844  387610000  \n",
       "2647  26075.300781  338170000  "
      ]
     },
     "execution_count": 5,
     "metadata": {},
     "output_type": "execute_result"
    }
   ],
   "source": [
    "dow.tail()"
   ]
  },
  {
   "cell_type": "code",
   "execution_count": 6,
   "metadata": {},
   "outputs": [
    {
     "data": {
      "text/plain": [
       "Date          object\n",
       "Open         float64\n",
       "High         float64\n",
       "Low          float64\n",
       "Close        float64\n",
       "Adj Close    float64\n",
       "Volume         int64\n",
       "dtype: object"
      ]
     },
     "execution_count": 6,
     "metadata": {},
     "output_type": "execute_result"
    }
   ],
   "source": [
    "dow.dtypes"
   ]
  },
  {
   "cell_type": "code",
   "execution_count": 8,
   "metadata": {},
   "outputs": [],
   "source": [
    "dow.to_csv(\"data/dowjones.csv\", decimal = \",\")"
   ]
  },
  {
   "cell_type": "code",
   "execution_count": null,
   "metadata": {},
   "outputs": [],
   "source": []
  }
 ],
 "metadata": {
  "kernelspec": {
   "display_name": "Python 3",
   "language": "python",
   "name": "python3"
  },
  "language_info": {
   "codemirror_mode": {
    "name": "ipython",
    "version": 3
   },
   "file_extension": ".py",
   "mimetype": "text/x-python",
   "name": "python",
   "nbconvert_exporter": "python",
   "pygments_lexer": "ipython3",
   "version": "3.8.3"
  }
 },
 "nbformat": 4,
 "nbformat_minor": 4
}
