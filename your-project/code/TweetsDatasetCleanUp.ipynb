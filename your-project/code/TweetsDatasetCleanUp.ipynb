{
 "cells": [
  {
   "cell_type": "code",
   "execution_count": 2,
   "metadata": {},
   "outputs": [],
   "source": [
    "import pandas as pd\n",
    "import re"
   ]
  },
  {
   "cell_type": "code",
   "execution_count": 3,
   "metadata": {},
   "outputs": [],
   "source": [
    "tweets = pd.read_csv(\"data/realdonaldtrump.csv\")"
   ]
  },
  {
   "cell_type": "code",
   "execution_count": 4,
   "metadata": {},
   "outputs": [
    {
     "data": {
      "text/plain": [
       "'2009-05-04 13:54:25'"
      ]
     },
     "execution_count": 4,
     "metadata": {},
     "output_type": "execute_result"
    }
   ],
   "source": [
    "tweets.date[0]"
   ]
  },
  {
   "cell_type": "code",
   "execution_count": 5,
   "metadata": {},
   "outputs": [
    {
     "data": {
      "text/plain": [
       "'13:54:25'"
      ]
     },
     "execution_count": 5,
     "metadata": {},
     "output_type": "execute_result"
    }
   ],
   "source": [
    "re.findall(r\"\\d{2}:\\d{2}:\\d{2}\", tweets.date[0])[0]"
   ]
  },
  {
   "cell_type": "code",
   "execution_count": 6,
   "metadata": {},
   "outputs": [],
   "source": [
    "# Reshaping the date column into two columns : YYYY-MM-DD & HH:MM:SS\n",
    "    # To do it, I define two functions that take date and time\n",
    "    \n",
    "def date(row):\n",
    "    return re.findall(r\"\\d{4}-\\d{2}-\\d{2}\", row[\"date\"])[0]\n",
    "\n",
    "def time(row):\n",
    "    return re.findall(r\"\\d{2}:\\d{2}:\\d{2}\", row[\"date\"])[0]\n",
    "\n",
    "    # Once the functions are defined, I create the columns YYYY-MM-DD and \n",
    "    # HH:MM:SS and apply the function on the original date column to \n",
    "    # populate the new two columns\n",
    "    \n",
    "tweets['YYYY-MM-DD'] = tweets.apply(date, axis=1)\n",
    "tweets[\"HH:MM:SS\"] = tweets.apply(time, axis = 1)\n",
    "\n",
    "    # We will also calculate the engagement of each tweet has\n",
    "\n",
    "tweets[\"engagement\"] = tweets[\"retweets\"] + tweets[\"favorites\"]"
   ]
  },
  {
   "cell_type": "code",
   "execution_count": 7,
   "metadata": {},
   "outputs": [
    {
     "data": {
      "text/html": [
       "<div>\n",
       "<style scoped>\n",
       "    .dataframe tbody tr th:only-of-type {\n",
       "        vertical-align: middle;\n",
       "    }\n",
       "\n",
       "    .dataframe tbody tr th {\n",
       "        vertical-align: top;\n",
       "    }\n",
       "\n",
       "    .dataframe thead th {\n",
       "        text-align: right;\n",
       "    }\n",
       "</style>\n",
       "<table border=\"1\" class=\"dataframe\">\n",
       "  <thead>\n",
       "    <tr style=\"text-align: right;\">\n",
       "      <th></th>\n",
       "      <th>id</th>\n",
       "      <th>link</th>\n",
       "      <th>content</th>\n",
       "      <th>date</th>\n",
       "      <th>retweets</th>\n",
       "      <th>favorites</th>\n",
       "      <th>mentions</th>\n",
       "      <th>hashtags</th>\n",
       "      <th>YYYY-MM-DD</th>\n",
       "      <th>HH:MM:SS</th>\n",
       "      <th>engagement</th>\n",
       "    </tr>\n",
       "  </thead>\n",
       "  <tbody>\n",
       "    <tr>\n",
       "      <th>0</th>\n",
       "      <td>1698308935</td>\n",
       "      <td>https://twitter.com/realDonaldTrump/status/169...</td>\n",
       "      <td>Be sure to tune in and watch Donald Trump on L...</td>\n",
       "      <td>2009-05-04 13:54:25</td>\n",
       "      <td>510</td>\n",
       "      <td>917</td>\n",
       "      <td>NaN</td>\n",
       "      <td>NaN</td>\n",
       "      <td>2009-05-04</td>\n",
       "      <td>13:54:25</td>\n",
       "      <td>1427</td>\n",
       "    </tr>\n",
       "    <tr>\n",
       "      <th>1</th>\n",
       "      <td>1701461182</td>\n",
       "      <td>https://twitter.com/realDonaldTrump/status/170...</td>\n",
       "      <td>Donald Trump will be appearing on The View tom...</td>\n",
       "      <td>2009-05-04 20:00:10</td>\n",
       "      <td>34</td>\n",
       "      <td>267</td>\n",
       "      <td>NaN</td>\n",
       "      <td>NaN</td>\n",
       "      <td>2009-05-04</td>\n",
       "      <td>20:00:10</td>\n",
       "      <td>301</td>\n",
       "    </tr>\n",
       "    <tr>\n",
       "      <th>2</th>\n",
       "      <td>1737479987</td>\n",
       "      <td>https://twitter.com/realDonaldTrump/status/173...</td>\n",
       "      <td>Donald Trump reads Top Ten Financial Tips on L...</td>\n",
       "      <td>2009-05-08 08:38:08</td>\n",
       "      <td>13</td>\n",
       "      <td>19</td>\n",
       "      <td>NaN</td>\n",
       "      <td>NaN</td>\n",
       "      <td>2009-05-08</td>\n",
       "      <td>08:38:08</td>\n",
       "      <td>32</td>\n",
       "    </tr>\n",
       "    <tr>\n",
       "      <th>3</th>\n",
       "      <td>1741160716</td>\n",
       "      <td>https://twitter.com/realDonaldTrump/status/174...</td>\n",
       "      <td>New Blog Post: Celebrity Apprentice Finale and...</td>\n",
       "      <td>2009-05-08 15:40:15</td>\n",
       "      <td>11</td>\n",
       "      <td>26</td>\n",
       "      <td>NaN</td>\n",
       "      <td>NaN</td>\n",
       "      <td>2009-05-08</td>\n",
       "      <td>15:40:15</td>\n",
       "      <td>37</td>\n",
       "    </tr>\n",
       "    <tr>\n",
       "      <th>4</th>\n",
       "      <td>1773561338</td>\n",
       "      <td>https://twitter.com/realDonaldTrump/status/177...</td>\n",
       "      <td>\"My persona will never be that of a wallflower...</td>\n",
       "      <td>2009-05-12 09:07:28</td>\n",
       "      <td>1375</td>\n",
       "      <td>1945</td>\n",
       "      <td>NaN</td>\n",
       "      <td>NaN</td>\n",
       "      <td>2009-05-12</td>\n",
       "      <td>09:07:28</td>\n",
       "      <td>3320</td>\n",
       "    </tr>\n",
       "  </tbody>\n",
       "</table>\n",
       "</div>"
      ],
      "text/plain": [
       "           id                                               link  \\\n",
       "0  1698308935  https://twitter.com/realDonaldTrump/status/169...   \n",
       "1  1701461182  https://twitter.com/realDonaldTrump/status/170...   \n",
       "2  1737479987  https://twitter.com/realDonaldTrump/status/173...   \n",
       "3  1741160716  https://twitter.com/realDonaldTrump/status/174...   \n",
       "4  1773561338  https://twitter.com/realDonaldTrump/status/177...   \n",
       "\n",
       "                                             content                 date  \\\n",
       "0  Be sure to tune in and watch Donald Trump on L...  2009-05-04 13:54:25   \n",
       "1  Donald Trump will be appearing on The View tom...  2009-05-04 20:00:10   \n",
       "2  Donald Trump reads Top Ten Financial Tips on L...  2009-05-08 08:38:08   \n",
       "3  New Blog Post: Celebrity Apprentice Finale and...  2009-05-08 15:40:15   \n",
       "4  \"My persona will never be that of a wallflower...  2009-05-12 09:07:28   \n",
       "\n",
       "   retweets  favorites mentions hashtags  YYYY-MM-DD  HH:MM:SS  engagement  \n",
       "0       510        917      NaN      NaN  2009-05-04  13:54:25        1427  \n",
       "1        34        267      NaN      NaN  2009-05-04  20:00:10         301  \n",
       "2        13         19      NaN      NaN  2009-05-08  08:38:08          32  \n",
       "3        11         26      NaN      NaN  2009-05-08  15:40:15          37  \n",
       "4      1375       1945      NaN      NaN  2009-05-12  09:07:28        3320  "
      ]
     },
     "execution_count": 7,
     "metadata": {},
     "output_type": "execute_result"
    }
   ],
   "source": [
    "tweets.head()"
   ]
  },
  {
   "cell_type": "code",
   "execution_count": 8,
   "metadata": {},
   "outputs": [],
   "source": [
    "# Once date has been separated into date and time,\n",
    "    # we have to reorder the columns\n",
    "\n",
    "tweets.columns\n",
    "\n",
    "# We will place first date, YYYY-MM-DD, HH:MM:SS, then the tweet content and\n",
    "# its engagement and finally the id and link\n",
    "\n",
    "tweets = tweets[[\"date\", \"YYYY-MM-DD\", \"HH:MM:SS\", \"content\", \n",
    "                 \"engagement\", \"retweets\", \"favorites\", \n",
    "                 \"mentions\", \"hashtags\", \"link\", \"id\"]]\n",
    "tweets.head()\n",
    "tweets.to_csv('data/tweets_clean.csv', sep = ';', decimal = ',')"
   ]
  },
  {
   "cell_type": "code",
   "execution_count": 9,
   "metadata": {},
   "outputs": [
    {
     "name": "stdout",
     "output_type": "stream",
     "text": [
      "<class 'pandas.core.frame.DataFrame'>\n",
      "RangeIndex: 43352 entries, 0 to 43351\n",
      "Data columns (total 11 columns):\n",
      " #   Column      Non-Null Count  Dtype \n",
      "---  ------      --------------  ----- \n",
      " 0   date        43352 non-null  object\n",
      " 1   YYYY-MM-DD  43352 non-null  object\n",
      " 2   HH:MM:SS    43352 non-null  object\n",
      " 3   content     43352 non-null  object\n",
      " 4   engagement  43352 non-null  int64 \n",
      " 5   retweets    43352 non-null  int64 \n",
      " 6   favorites   43352 non-null  int64 \n",
      " 7   mentions    20386 non-null  object\n",
      " 8   hashtags    5583 non-null   object\n",
      " 9   link        43352 non-null  object\n",
      " 10  id          43352 non-null  int64 \n",
      "dtypes: int64(4), object(7)\n",
      "memory usage: 2.5+ MB\n"
     ]
    }
   ],
   "source": [
    "# We check how many NaNs are there in each category\n",
    "\n",
    "tweets.info()\n",
    "\n",
    "# We can see that, the only two columns with lots of NaNs are\n",
    "# mentions and hashtags, which can be due to the lack of use of \n",
    "# these functions rather than a gap in our data"
   ]
  },
  {
   "cell_type": "code",
   "execution_count": 10,
   "metadata": {},
   "outputs": [],
   "source": [
    "daily_tweets = pd.DataFrame(tweets.groupby(\"YYYY-MM-DD\", as_index = False).aggregate({\"content\":\"count\", \"engagement\":\"sum\"}))\n",
    "daily_tweets[\"engagement/tweet\"] = daily_tweets[\"engagement\"] / daily_tweets[\"content\"]\n",
    "daily_tweets.to_csv('data/daily_tweets.csv', sep = ';', decimal = ',')"
   ]
  },
  {
   "cell_type": "code",
   "execution_count": 86,
   "metadata": {},
   "outputs": [
    {
     "data": {
      "text/plain": [
       "'https://twitter.com/realDonaldTrump/status/1153290669424807936'"
      ]
     },
     "execution_count": 86,
     "metadata": {},
     "output_type": "execute_result"
    }
   ],
   "source": [
    "tweets.loc[tweets[\"YYYY-MM-DD\"]==\"2019-07-22\"].index\n",
    "tweets[\"link\"][38415]"
   ]
  },
  {
   "cell_type": "code",
   "execution_count": 21,
   "metadata": {},
   "outputs": [
    {
     "data": {
      "text/plain": [
       "Int64Index([30887, 30888, 30889, 30890, 30891, 30892, 30893, 30894, 30895,\n",
       "            30896],\n",
       "           dtype='int64')"
      ]
     },
     "execution_count": 21,
     "metadata": {},
     "output_type": "execute_result"
    }
   ],
   "source": [
    "presidential_tweets = tweets[30887:]\n",
    "tweets_words = []\n",
    "presidential_tweets[\"separated_content\"]=\"\"\n",
    "for i in range(len(presidential_tweets)):\n",
    "    presidential_tweets[\"separa\"]"
   ]
  }
 ],
 "metadata": {
  "kernelspec": {
   "display_name": "Python 3",
   "language": "python",
   "name": "python3"
  },
  "language_info": {
   "codemirror_mode": {
    "name": "ipython",
    "version": 3
   },
   "file_extension": ".py",
   "mimetype": "text/x-python",
   "name": "python",
   "nbconvert_exporter": "python",
   "pygments_lexer": "ipython3",
   "version": "3.8.3"
  }
 },
 "nbformat": 4,
 "nbformat_minor": 4
}
