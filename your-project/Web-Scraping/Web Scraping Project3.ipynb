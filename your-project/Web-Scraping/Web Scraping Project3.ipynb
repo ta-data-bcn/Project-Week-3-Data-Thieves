{
 "cells": [
  {
   "cell_type": "code",
   "execution_count": null,
   "metadata": {},
   "outputs": [],
   "source": [
    "#Import required libraries\n",
    "import pandas as pd\n",
    "import requests\n",
    "import re\n",
    "from bs4 import BeautifulSoup #don't forget to pip install BS\n",
    "\n",
    "def cleantags(x):\n",
    "    '''\n",
    "    The purpose of this function is to clean the HTML tags off the text scraped from the website\n",
    "    '''\n",
    "    s1 = re.sub(\"<h2>\", \"\", x)\n",
    "    s2 = re.sub(\"</h2>\", \"\", s1)\n",
    "    s3 = re.sub(\"<strong>\", \"\", s2)\n",
    "    s4 = re.sub(\"</strong>\", \"\", s3)\n",
    "    return s4\n",
    "def cleantagsdigits(x):\n",
    "    '''\n",
    "    The purpose of this function is to clean the HTML tags and digits that preceed the \n",
    "    YouTube channel name off the text scraped from the website\n",
    "    '''\n",
    "    s1 = re.sub(\"<h2>\\d*\\.\\s\", \"\", x)\n",
    "    s2 = re.sub(\"</h2>\", \"\", s1)\n",
    "    s3 = re.sub(\"<strong>\", \"\", s2)\n",
    "    s4 = re.sub(\"</strong>\", \"\", s3)\n",
    "    return s4"
   ]
  },
  {
   "cell_type": "code",
   "execution_count": null,
   "metadata": {},
   "outputs": [],
   "source": [
    "# Load thd page and get it into so yummy Beautiful Soup\n",
    "html_doc = 'https://marketing4ecommerce.net/youtubers-mas-seguidos-de-espana-2019-50/'\n",
    "page = requests.get(\"https://marketing4ecommerce.net/youtubers-mas-seguidos-de-espana-2019-50/\")\n",
    "soup = BeautifulSoup(html_doc, 'html.parser')\n",
    "soup = BeautifulSoup(page.content, 'html.parser')\n",
    "soup.find_all('h2')"
   ]
  },
  {
   "cell_type": "code",
   "execution_count": null,
   "metadata": {},
   "outputs": [],
   "source": [
    "#Get the data into a dataframe to start working some magic\n",
    "df = pd.DataFrame(soup.find_all('h2'))\n",
    "df = df.iloc[5:] #removed the first 5 rows as garbage\n",
    "df.columns = ['raw_name'] #rename the column\n",
    "df = df.drop([39,53], axis=0) #drop some more garbage rows\n"
   ]
  },
  {
   "cell_type": "code",
   "execution_count": null,
   "metadata": {},
   "outputs": [],
   "source": [
    "df"
   ]
  },
  {
   "cell_type": "code",
   "execution_count": null,
   "metadata": {},
   "outputs": [],
   "source": [
    "df['raw2'] = df['raw_name'] \n",
    "df.dtypes\n",
    "df['raw_name'] = df['raw_name'].astype('str')  #convert dtype to string\n",
    "df['raw2'] = df['raw2'].astype('str')  #convert dtype to string\n",
    "df_bup = df #create backup\n",
    "df[\"interim_name\"] = df[\"raw_name\"].apply(cleantags)\n",
    "df['rank'] = df['interim_name'].apply(lambda s:s.split('.')[0])\n",
    "df[\"interim_nameb\"] = df[\"raw2\"].apply(cleantagsdigits)\n",
    "df['rankb'] = df['interim_nameb'].apply(lambda s:s.split('.')[0])"
   ]
  },
  {
   "cell_type": "code",
   "execution_count": null,
   "metadata": {},
   "outputs": [],
   "source": [
    "df"
   ]
  },
  {
   "cell_type": "code",
   "execution_count": null,
   "metadata": {},
   "outputs": [],
   "source": [
    "df_clean = df[['rank', 'rankb']]\n",
    "df_clean = df_clean.rename({'rankb': 'Channel'}, axis=1) \n",
    "df_clean\n"
   ]
  },
  {
   "cell_type": "code",
   "execution_count": null,
   "metadata": {},
   "outputs": [],
   "source": [
    "df_clean_bup = df_clean\n",
    "\n",
    "df_clean.loc[7,'Channel'] = 'WillyRex'\n",
    "df_clean.loc[10,'Channel']  = 'iTownGamePlay'\n",
    "df_clean.loc[18,'Channel']  = 'DaniRep'\n",
    "df_clean.loc[34,'Channel']  = 'MangelRogel'\n",
    "df_clean.loc[35,'Channel']  = 'ElChurches'\n",
    "df_clean.loc[22,'Channel']  =  'Adexe Nau'\n",
    "df_clean.loc[7,'rank']  = ' 3'\n",
    "\n",
    "df_clean"
   ]
  },
  {
   "cell_type": "code",
   "execution_count": null,
   "metadata": {},
   "outputs": [],
   "source": [
    "df_clean['rank'] = df_clean.apply(lambda x: x.str.strip())\n",
    "\n",
    "df_clean"
   ]
  },
  {
   "cell_type": "code",
   "execution_count": null,
   "metadata": {},
   "outputs": [],
   "source": [
    "#Connection to DB\n",
    "from sqlalchemy import create_engine\n",
    "driver = 'mysql+pymysql'\n",
    "ip = 'barcelona-db.cyxhqbnhiohl.eu-west-3.rds.amazonaws.com'\n",
    "username = 'admin'\n",
    "password = 'PercyA2019!'\n",
    "db = 'project3'\n",
    "connection_string  = f'{driver}://{username}:{password}@{ip}/{db}'\n",
    "# Engine & Query\n",
    "engine = create_engine(connection_string)"
   ]
  },
  {
   "cell_type": "code",
   "execution_count": null,
   "metadata": {},
   "outputs": [],
   "source": [
    "df_clean = df_clean.reset_index(drop=True)\n",
    "df_clean"
   ]
  },
  {
   "cell_type": "code",
   "execution_count": null,
   "metadata": {},
   "outputs": [],
   "source": [
    "from sqlalchemy import exc\n",
    "num_rows = len(df_clean)\n",
    "#Iterate one row at a time\n",
    "for i in range(num_rows):\n",
    "    try:\n",
    "        #Try inserting the row\n",
    "        df_clean.iloc[i:i+1].to_sql(name=\"content_creator\",con = engine,if_exists = 'append',index=False)\n",
    "    except exc.IntegrityError:\n",
    "        #Ignore duplicates\n",
    "        pass"
   ]
  }
 ],
 "metadata": {
  "kernelspec": {
   "display_name": "Python 3",
   "language": "python",
   "name": "python3"
  },
  "language_info": {
   "codemirror_mode": {
    "name": "ipython",
    "version": 3
   },
   "file_extension": ".py",
   "mimetype": "text/x-python",
   "name": "python",
   "nbconvert_exporter": "python",
   "pygments_lexer": "ipython3",
   "version": "3.7.3"
  }
 },
 "nbformat": 4,
 "nbformat_minor": 2
}
