{
 "cells": [
  {
   "cell_type": "markdown",
   "metadata": {},
   "source": [
    "# COVID19 & the Stock Market\n",
    "\n",
    "## Gareth Hughes - Beto Sibileau\n",
    "\n",
    "### Project Goals:\n",
    "- Gather two different data-sources\n",
    "- Show the evolution of the pandemic\n",
    "- Compare pandemic evolution against stock market\n",
    "- Quantify the COVID impact on different countries economies\n",
    "- Provide a quick workflow review of the technical data analysis\n",
    "\n"
   ]
  },
  {
   "cell_type": "markdown",
   "metadata": {},
   "source": [
    "### What is Coronavirus?"
   ]
  },
  {
   "cell_type": "markdown",
   "metadata": {},
   "source": [
    "- Coronavirus, also called COVID-19, is a previously unreported pneumonia detected in Wuhan, China and reported to the WHO Country Office in China on 31 December 2019. \n",
    "- 210 Countries and Territories have been affected globally. \n",
    "- The outbreak was declared a Public Health Emergency of International Concern on 30 January 2020.\n"
   ]
  },
  {
   "cell_type": "markdown",
   "metadata": {},
   "source": [
    "## Our databases: WHO COVID19 Data & Yahoo Finance Data."
   ]
  },
  {
   "cell_type": "markdown",
   "metadata": {},
   "source": [
    "### Importing all libraries. COVID-19 data source: World Health Organization (WHO)."
   ]
  },
  {
   "cell_type": "code",
   "execution_count": 1,
   "metadata": {},
   "outputs": [
    {
     "name": "stderr",
     "output_type": "stream",
     "text": [
      "C:\\Users\\beto\\anaconda3\\lib\\site-packages\\pandas_datareader\\compat\\__init__.py:7: FutureWarning: pandas.util.testing is deprecated. Use the functions in the public API at pandas.testing instead.\n",
      "  from pandas.util.testing import assert_frame_equal\n"
     ]
    }
   ],
   "source": [
    "import datetime\n",
    "import numpy as np\n",
    "import pandas as pd\n",
    "from matplotlib.dates import DateFormatter, MonthLocator, DayLocator\n",
    "import matplotlib.pyplot as plt\n",
    "import requests\n",
    "from pandas_datareader import data\n"
   ]
  },
  {
   "cell_type": "code",
   "execution_count": 2,
   "metadata": {},
   "outputs": [],
   "source": [
    "csv = '../Gareth Hughes/owid-covid-data.csv'"
   ]
  },
  {
   "cell_type": "code",
   "execution_count": 3,
   "metadata": {},
   "outputs": [],
   "source": [
    "df = pd.read_csv(csv)"
   ]
  },
  {
   "cell_type": "markdown",
   "metadata": {},
   "source": [
    "### Here's our COVID-19 Data inside of a Panda's DataFrame. \n",
    "\n",
    "We imported the data into a panda's dataframe from a CSV file to allow for easy\n",
    "analysis of a dataset of this size."
   ]
  },
  {
   "cell_type": "code",
   "execution_count": 4,
   "metadata": {},
   "outputs": [
    {
     "data": {
      "text/html": [
       "<div>\n",
       "<style scoped>\n",
       "    .dataframe tbody tr th:only-of-type {\n",
       "        vertical-align: middle;\n",
       "    }\n",
       "\n",
       "    .dataframe tbody tr th {\n",
       "        vertical-align: top;\n",
       "    }\n",
       "\n",
       "    .dataframe thead th {\n",
       "        text-align: right;\n",
       "    }\n",
       "</style>\n",
       "<table border=\"1\" class=\"dataframe\">\n",
       "  <thead>\n",
       "    <tr style=\"text-align: right;\">\n",
       "      <th></th>\n",
       "      <th>iso_code</th>\n",
       "      <th>location</th>\n",
       "      <th>date</th>\n",
       "      <th>total_cases</th>\n",
       "      <th>new_cases</th>\n",
       "      <th>total_deaths</th>\n",
       "      <th>new_deaths</th>\n",
       "      <th>total_cases_per_million</th>\n",
       "      <th>new_cases_per_million</th>\n",
       "      <th>total_deaths_per_million</th>\n",
       "      <th>new_deaths_per_million</th>\n",
       "      <th>total_tests</th>\n",
       "      <th>new_tests</th>\n",
       "      <th>total_tests_per_thousand</th>\n",
       "      <th>new_tests_per_thousand</th>\n",
       "      <th>tests_units</th>\n",
       "    </tr>\n",
       "  </thead>\n",
       "  <tbody>\n",
       "    <tr>\n",
       "      <th>0</th>\n",
       "      <td>ABW</td>\n",
       "      <td>Aruba</td>\n",
       "      <td>2020-03-13</td>\n",
       "      <td>2</td>\n",
       "      <td>2</td>\n",
       "      <td>0</td>\n",
       "      <td>0</td>\n",
       "      <td>18.733</td>\n",
       "      <td>18.733</td>\n",
       "      <td>0.0</td>\n",
       "      <td>0.0</td>\n",
       "      <td>NaN</td>\n",
       "      <td>NaN</td>\n",
       "      <td>NaN</td>\n",
       "      <td>NaN</td>\n",
       "      <td>NaN</td>\n",
       "    </tr>\n",
       "    <tr>\n",
       "      <th>1</th>\n",
       "      <td>ABW</td>\n",
       "      <td>Aruba</td>\n",
       "      <td>2020-03-20</td>\n",
       "      <td>4</td>\n",
       "      <td>2</td>\n",
       "      <td>0</td>\n",
       "      <td>0</td>\n",
       "      <td>37.465</td>\n",
       "      <td>18.733</td>\n",
       "      <td>0.0</td>\n",
       "      <td>0.0</td>\n",
       "      <td>NaN</td>\n",
       "      <td>NaN</td>\n",
       "      <td>NaN</td>\n",
       "      <td>NaN</td>\n",
       "      <td>NaN</td>\n",
       "    </tr>\n",
       "    <tr>\n",
       "      <th>2</th>\n",
       "      <td>ABW</td>\n",
       "      <td>Aruba</td>\n",
       "      <td>2020-03-24</td>\n",
       "      <td>12</td>\n",
       "      <td>8</td>\n",
       "      <td>0</td>\n",
       "      <td>0</td>\n",
       "      <td>112.395</td>\n",
       "      <td>74.930</td>\n",
       "      <td>0.0</td>\n",
       "      <td>0.0</td>\n",
       "      <td>NaN</td>\n",
       "      <td>NaN</td>\n",
       "      <td>NaN</td>\n",
       "      <td>NaN</td>\n",
       "      <td>NaN</td>\n",
       "    </tr>\n",
       "    <tr>\n",
       "      <th>3</th>\n",
       "      <td>ABW</td>\n",
       "      <td>Aruba</td>\n",
       "      <td>2020-03-25</td>\n",
       "      <td>17</td>\n",
       "      <td>5</td>\n",
       "      <td>0</td>\n",
       "      <td>0</td>\n",
       "      <td>159.227</td>\n",
       "      <td>46.831</td>\n",
       "      <td>0.0</td>\n",
       "      <td>0.0</td>\n",
       "      <td>NaN</td>\n",
       "      <td>NaN</td>\n",
       "      <td>NaN</td>\n",
       "      <td>NaN</td>\n",
       "      <td>NaN</td>\n",
       "    </tr>\n",
       "    <tr>\n",
       "      <th>4</th>\n",
       "      <td>ABW</td>\n",
       "      <td>Aruba</td>\n",
       "      <td>2020-03-26</td>\n",
       "      <td>19</td>\n",
       "      <td>2</td>\n",
       "      <td>0</td>\n",
       "      <td>0</td>\n",
       "      <td>177.959</td>\n",
       "      <td>18.733</td>\n",
       "      <td>0.0</td>\n",
       "      <td>0.0</td>\n",
       "      <td>NaN</td>\n",
       "      <td>NaN</td>\n",
       "      <td>NaN</td>\n",
       "      <td>NaN</td>\n",
       "      <td>NaN</td>\n",
       "    </tr>\n",
       "  </tbody>\n",
       "</table>\n",
       "</div>"
      ],
      "text/plain": [
       "  iso_code location        date  total_cases  new_cases  total_deaths  \\\n",
       "0      ABW    Aruba  2020-03-13            2          2             0   \n",
       "1      ABW    Aruba  2020-03-20            4          2             0   \n",
       "2      ABW    Aruba  2020-03-24           12          8             0   \n",
       "3      ABW    Aruba  2020-03-25           17          5             0   \n",
       "4      ABW    Aruba  2020-03-26           19          2             0   \n",
       "\n",
       "   new_deaths  total_cases_per_million  new_cases_per_million  \\\n",
       "0           0                   18.733                 18.733   \n",
       "1           0                   37.465                 18.733   \n",
       "2           0                  112.395                 74.930   \n",
       "3           0                  159.227                 46.831   \n",
       "4           0                  177.959                 18.733   \n",
       "\n",
       "   total_deaths_per_million  new_deaths_per_million  total_tests  new_tests  \\\n",
       "0                       0.0                     0.0          NaN        NaN   \n",
       "1                       0.0                     0.0          NaN        NaN   \n",
       "2                       0.0                     0.0          NaN        NaN   \n",
       "3                       0.0                     0.0          NaN        NaN   \n",
       "4                       0.0                     0.0          NaN        NaN   \n",
       "\n",
       "   total_tests_per_thousand  new_tests_per_thousand tests_units  \n",
       "0                       NaN                     NaN         NaN  \n",
       "1                       NaN                     NaN         NaN  \n",
       "2                       NaN                     NaN         NaN  \n",
       "3                       NaN                     NaN         NaN  \n",
       "4                       NaN                     NaN         NaN  "
      ]
     },
     "execution_count": 4,
     "metadata": {},
     "output_type": "execute_result"
    }
   ],
   "source": [
    "df.head()"
   ]
  },
  {
   "cell_type": "markdown",
   "metadata": {},
   "source": [
    "### We used .describe() to get an overview of the data. \n",
    "\n",
    "We also used describe to determine if there were any strange or outlier results. Existing NaN's or NULL values do not modify our analysis."
   ]
  },
  {
   "cell_type": "code",
   "execution_count": 5,
   "metadata": {},
   "outputs": [
    {
     "data": {
      "text/html": [
       "<div>\n",
       "<style scoped>\n",
       "    .dataframe tbody tr th:only-of-type {\n",
       "        vertical-align: middle;\n",
       "    }\n",
       "\n",
       "    .dataframe tbody tr th {\n",
       "        vertical-align: top;\n",
       "    }\n",
       "\n",
       "    .dataframe thead th {\n",
       "        text-align: right;\n",
       "    }\n",
       "</style>\n",
       "<table border=\"1\" class=\"dataframe\">\n",
       "  <thead>\n",
       "    <tr style=\"text-align: right;\">\n",
       "      <th></th>\n",
       "      <th>total_cases</th>\n",
       "      <th>new_cases</th>\n",
       "      <th>total_deaths</th>\n",
       "      <th>new_deaths</th>\n",
       "      <th>total_cases_per_million</th>\n",
       "      <th>new_cases_per_million</th>\n",
       "      <th>total_deaths_per_million</th>\n",
       "      <th>new_deaths_per_million</th>\n",
       "      <th>total_tests</th>\n",
       "      <th>new_tests</th>\n",
       "      <th>total_tests_per_thousand</th>\n",
       "      <th>new_tests_per_thousand</th>\n",
       "    </tr>\n",
       "  </thead>\n",
       "  <tbody>\n",
       "    <tr>\n",
       "      <th>count</th>\n",
       "      <td>11401.000000</td>\n",
       "      <td>11401.000000</td>\n",
       "      <td>11401.000000</td>\n",
       "      <td>11401.000000</td>\n",
       "      <td>11236.000000</td>\n",
       "      <td>11236.000000</td>\n",
       "      <td>11236.000000</td>\n",
       "      <td>11236.000000</td>\n",
       "      <td>2.083000e+03</td>\n",
       "      <td>1822.000000</td>\n",
       "      <td>2083.000000</td>\n",
       "      <td>1823.000000</td>\n",
       "    </tr>\n",
       "    <tr>\n",
       "      <th>mean</th>\n",
       "      <td>3064.109552</td>\n",
       "      <td>185.384879</td>\n",
       "      <td>167.676520</td>\n",
       "      <td>12.730199</td>\n",
       "      <td>194.333601</td>\n",
       "      <td>11.608349</td>\n",
       "      <td>7.105144</td>\n",
       "      <td>0.505230</td>\n",
       "      <td>8.091202e+04</td>\n",
       "      <td>5798.558727</td>\n",
       "      <td>4.303788</td>\n",
       "      <td>0.265041</td>\n",
       "    </tr>\n",
       "    <tr>\n",
       "      <th>std</th>\n",
       "      <td>21704.677850</td>\n",
       "      <td>1382.745007</td>\n",
       "      <td>1330.798624</td>\n",
       "      <td>105.329207</td>\n",
       "      <td>785.818422</td>\n",
       "      <td>70.616721</td>\n",
       "      <td>50.888747</td>\n",
       "      <td>3.859358</td>\n",
       "      <td>2.434716e+05</td>\n",
       "      <td>17458.515803</td>\n",
       "      <td>9.845400</td>\n",
       "      <td>0.544606</td>\n",
       "    </tr>\n",
       "    <tr>\n",
       "      <th>min</th>\n",
       "      <td>0.000000</td>\n",
       "      <td>0.000000</td>\n",
       "      <td>0.000000</td>\n",
       "      <td>0.000000</td>\n",
       "      <td>0.000000</td>\n",
       "      <td>0.000000</td>\n",
       "      <td>0.000000</td>\n",
       "      <td>0.000000</td>\n",
       "      <td>1.000000e+00</td>\n",
       "      <td>1.000000</td>\n",
       "      <td>0.000000</td>\n",
       "      <td>0.000000</td>\n",
       "    </tr>\n",
       "    <tr>\n",
       "      <th>25%</th>\n",
       "      <td>0.000000</td>\n",
       "      <td>0.000000</td>\n",
       "      <td>0.000000</td>\n",
       "      <td>0.000000</td>\n",
       "      <td>0.000000</td>\n",
       "      <td>0.000000</td>\n",
       "      <td>0.000000</td>\n",
       "      <td>0.000000</td>\n",
       "      <td>2.407000e+03</td>\n",
       "      <td>276.500000</td>\n",
       "      <td>0.111000</td>\n",
       "      <td>0.015000</td>\n",
       "    </tr>\n",
       "    <tr>\n",
       "      <th>50%</th>\n",
       "      <td>14.000000</td>\n",
       "      <td>1.000000</td>\n",
       "      <td>0.000000</td>\n",
       "      <td>0.000000</td>\n",
       "      <td>2.097000</td>\n",
       "      <td>0.030000</td>\n",
       "      <td>0.000000</td>\n",
       "      <td>0.000000</td>\n",
       "      <td>1.558400e+04</td>\n",
       "      <td>1198.500000</td>\n",
       "      <td>0.796000</td>\n",
       "      <td>0.080000</td>\n",
       "    </tr>\n",
       "    <tr>\n",
       "      <th>75%</th>\n",
       "      <td>233.000000</td>\n",
       "      <td>20.000000</td>\n",
       "      <td>3.000000</td>\n",
       "      <td>0.000000</td>\n",
       "      <td>55.169000</td>\n",
       "      <td>2.684250</td>\n",
       "      <td>0.392000</td>\n",
       "      <td>0.000000</td>\n",
       "      <td>5.520350e+04</td>\n",
       "      <td>4115.000000</td>\n",
       "      <td>4.278000</td>\n",
       "      <td>0.321000</td>\n",
       "    </tr>\n",
       "    <tr>\n",
       "      <th>max</th>\n",
       "      <td>671331.000000</td>\n",
       "      <td>35527.000000</td>\n",
       "      <td>33284.000000</td>\n",
       "      <td>4928.000000</td>\n",
       "      <td>12552.301000</td>\n",
       "      <td>4944.376000</td>\n",
       "      <td>1119.689000</td>\n",
       "      <td>176.793000</td>\n",
       "      <td>3.242755e+06</td>\n",
       "      <td>229268.000000</td>\n",
       "      <td>111.308000</td>\n",
       "      <td>7.243000</td>\n",
       "    </tr>\n",
       "  </tbody>\n",
       "</table>\n",
       "</div>"
      ],
      "text/plain": [
       "         total_cases     new_cases  total_deaths    new_deaths  \\\n",
       "count   11401.000000  11401.000000  11401.000000  11401.000000   \n",
       "mean     3064.109552    185.384879    167.676520     12.730199   \n",
       "std     21704.677850   1382.745007   1330.798624    105.329207   \n",
       "min         0.000000      0.000000      0.000000      0.000000   \n",
       "25%         0.000000      0.000000      0.000000      0.000000   \n",
       "50%        14.000000      1.000000      0.000000      0.000000   \n",
       "75%       233.000000     20.000000      3.000000      0.000000   \n",
       "max    671331.000000  35527.000000  33284.000000   4928.000000   \n",
       "\n",
       "       total_cases_per_million  new_cases_per_million  \\\n",
       "count             11236.000000           11236.000000   \n",
       "mean                194.333601              11.608349   \n",
       "std                 785.818422              70.616721   \n",
       "min                   0.000000               0.000000   \n",
       "25%                   0.000000               0.000000   \n",
       "50%                   2.097000               0.030000   \n",
       "75%                  55.169000               2.684250   \n",
       "max               12552.301000            4944.376000   \n",
       "\n",
       "       total_deaths_per_million  new_deaths_per_million   total_tests  \\\n",
       "count              11236.000000            11236.000000  2.083000e+03   \n",
       "mean                   7.105144                0.505230  8.091202e+04   \n",
       "std                   50.888747                3.859358  2.434716e+05   \n",
       "min                    0.000000                0.000000  1.000000e+00   \n",
       "25%                    0.000000                0.000000  2.407000e+03   \n",
       "50%                    0.000000                0.000000  1.558400e+04   \n",
       "75%                    0.392000                0.000000  5.520350e+04   \n",
       "max                 1119.689000              176.793000  3.242755e+06   \n",
       "\n",
       "           new_tests  total_tests_per_thousand  new_tests_per_thousand  \n",
       "count    1822.000000               2083.000000             1823.000000  \n",
       "mean     5798.558727                  4.303788                0.265041  \n",
       "std     17458.515803                  9.845400                0.544606  \n",
       "min         1.000000                  0.000000                0.000000  \n",
       "25%       276.500000                  0.111000                0.015000  \n",
       "50%      1198.500000                  0.796000                0.080000  \n",
       "75%      4115.000000                  4.278000                0.321000  \n",
       "max    229268.000000                111.308000                7.243000  "
      ]
     },
     "execution_count": 5,
     "metadata": {},
     "output_type": "execute_result"
    }
   ],
   "source": [
    "df.describe()"
   ]
  },
  {
   "cell_type": "markdown",
   "metadata": {},
   "source": [
    "### For example we utilised the dataframe to 'count' the number of countries within our database, which was 206.\n"
   ]
  },
  {
   "cell_type": "code",
   "execution_count": 6,
   "metadata": {},
   "outputs": [
    {
     "data": {
      "text/plain": [
       "206"
      ]
     },
     "execution_count": 6,
     "metadata": {},
     "output_type": "execute_result"
    }
   ],
   "source": [
    "df['iso_code'].unique().size"
   ]
  },
  {
   "cell_type": "markdown",
   "metadata": {},
   "source": [
    "### Stock Market data source is Yahoo Finance."
   ]
  },
  {
   "cell_type": "markdown",
   "metadata": {},
   "source": [
    "It is accessed from Pandas remotely using `pandas_datareader` library, which in turn requires the `requests` package. For example, we show below a data request about Spanish stock index *IBEX 35* from `start_date` to `end_date`."
   ]
  },
  {
   "cell_type": "code",
   "execution_count": 7,
   "metadata": {},
   "outputs": [],
   "source": [
    "start_date = '2020-02-01'\n",
    "end_date = '2020-04-17'\n",
    "panel_data = data.DataReader('^IBEX', 'yahoo', start_date, end_date)"
   ]
  },
  {
   "cell_type": "markdown",
   "metadata": {},
   "source": [
    "This is how the requested *IBEX 35* information looks inside a Panda's DataFrame:"
   ]
  },
  {
   "cell_type": "code",
   "execution_count": 8,
   "metadata": {},
   "outputs": [
    {
     "data": {
      "text/html": [
       "<div>\n",
       "<style scoped>\n",
       "    .dataframe tbody tr th:only-of-type {\n",
       "        vertical-align: middle;\n",
       "    }\n",
       "\n",
       "    .dataframe tbody tr th {\n",
       "        vertical-align: top;\n",
       "    }\n",
       "\n",
       "    .dataframe thead th {\n",
       "        text-align: right;\n",
       "    }\n",
       "</style>\n",
       "<table border=\"1\" class=\"dataframe\">\n",
       "  <thead>\n",
       "    <tr style=\"text-align: right;\">\n",
       "      <th></th>\n",
       "      <th>High</th>\n",
       "      <th>Low</th>\n",
       "      <th>Open</th>\n",
       "      <th>Close</th>\n",
       "      <th>Volume</th>\n",
       "      <th>Adj Close</th>\n",
       "    </tr>\n",
       "    <tr>\n",
       "      <th>Date</th>\n",
       "      <th></th>\n",
       "      <th></th>\n",
       "      <th></th>\n",
       "      <th></th>\n",
       "      <th></th>\n",
       "      <th></th>\n",
       "    </tr>\n",
       "  </thead>\n",
       "  <tbody>\n",
       "    <tr>\n",
       "      <th>2020-02-03</th>\n",
       "      <td>9431.599609</td>\n",
       "      <td>9361.500000</td>\n",
       "      <td>9404.400391</td>\n",
       "      <td>9404.700195</td>\n",
       "      <td>168665700</td>\n",
       "      <td>9404.700195</td>\n",
       "    </tr>\n",
       "    <tr>\n",
       "      <th>2020-02-04</th>\n",
       "      <td>9577.299805</td>\n",
       "      <td>9462.400391</td>\n",
       "      <td>9465.900391</td>\n",
       "      <td>9562.900391</td>\n",
       "      <td>174133900</td>\n",
       "      <td>9562.900391</td>\n",
       "    </tr>\n",
       "    <tr>\n",
       "      <th>2020-02-05</th>\n",
       "      <td>9721.900391</td>\n",
       "      <td>9540.200195</td>\n",
       "      <td>9553.400391</td>\n",
       "      <td>9717.799805</td>\n",
       "      <td>221922900</td>\n",
       "      <td>9717.799805</td>\n",
       "    </tr>\n",
       "    <tr>\n",
       "      <th>2020-02-06</th>\n",
       "      <td>9816.200195</td>\n",
       "      <td>9757.000000</td>\n",
       "      <td>9767.099609</td>\n",
       "      <td>9811.299805</td>\n",
       "      <td>248416700</td>\n",
       "      <td>9811.299805</td>\n",
       "    </tr>\n",
       "    <tr>\n",
       "      <th>2020-02-07</th>\n",
       "      <td>9816.200195</td>\n",
       "      <td>9761.799805</td>\n",
       "      <td>9789.299805</td>\n",
       "      <td>9811.000000</td>\n",
       "      <td>179586900</td>\n",
       "      <td>9811.000000</td>\n",
       "    </tr>\n",
       "  </tbody>\n",
       "</table>\n",
       "</div>"
      ],
      "text/plain": [
       "                   High          Low         Open        Close     Volume  \\\n",
       "Date                                                                        \n",
       "2020-02-03  9431.599609  9361.500000  9404.400391  9404.700195  168665700   \n",
       "2020-02-04  9577.299805  9462.400391  9465.900391  9562.900391  174133900   \n",
       "2020-02-05  9721.900391  9540.200195  9553.400391  9717.799805  221922900   \n",
       "2020-02-06  9816.200195  9757.000000  9767.099609  9811.299805  248416700   \n",
       "2020-02-07  9816.200195  9761.799805  9789.299805  9811.000000  179586900   \n",
       "\n",
       "              Adj Close  \n",
       "Date                     \n",
       "2020-02-03  9404.700195  \n",
       "2020-02-04  9562.900391  \n",
       "2020-02-05  9717.799805  \n",
       "2020-02-06  9811.299805  \n",
       "2020-02-07  9811.000000  "
      ]
     },
     "execution_count": 8,
     "metadata": {},
     "output_type": "execute_result"
    }
   ],
   "source": [
    "panel_data.head()"
   ]
  },
  {
   "cell_type": "markdown",
   "metadata": {},
   "source": [
    "We observe that stock market information is not provided for weekends (e.g. see above that `start_date = '2020-02-01'`, while the actual data reported begins **2020-02-03**)."
   ]
  },
  {
   "cell_type": "markdown",
   "metadata": {},
   "source": [
    "# Data Cleaning"
   ]
  },
  {
   "cell_type": "markdown",
   "metadata": {},
   "source": [
    "Thankfully the WHO dataset NaN or NULL values do not affect our analysis. The only 'cleaning' required was altering the datatype of the date column from an object type to a datetime type. For example we do that below for a subsetting of Spain from the COVID-19 Panda's DataFrame:"
   ]
  },
  {
   "cell_type": "code",
   "execution_count": 9,
   "metadata": {},
   "outputs": [
    {
     "data": {
      "text/plain": [
       "iso_code                            object\n",
       "location                            object\n",
       "date                        datetime64[ns]\n",
       "total_cases                          int64\n",
       "new_cases                            int64\n",
       "total_deaths                         int64\n",
       "new_deaths                           int64\n",
       "total_cases_per_million            float64\n",
       "new_cases_per_million              float64\n",
       "total_deaths_per_million           float64\n",
       "new_deaths_per_million             float64\n",
       "total_tests                        float64\n",
       "new_tests                          float64\n",
       "total_tests_per_thousand           float64\n",
       "new_tests_per_thousand             float64\n",
       "tests_units                         object\n",
       "dtype: object"
      ]
     },
     "execution_count": 9,
     "metadata": {},
     "output_type": "execute_result"
    }
   ],
   "source": [
    "spain = df[df['location'] == 'Spain'].copy()\n",
    "spain['date'] = pd.to_datetime(spain['date'])\n",
    "spain.dtypes"
   ]
  },
  {
   "cell_type": "markdown",
   "metadata": {},
   "source": [
    "We will export our data from Pandas into Excel format, to use it in the Flourish webpage (data storytelling). For example, below we transpose Panda's DataFrame (swap the rows and columns) and then export this to an Excel."
   ]
  },
  {
   "cell_type": "code",
   "execution_count": 10,
   "metadata": {},
   "outputs": [],
   "source": [
    "transposed_df = spain.T\n",
    "transposed_df.to_excel('spain_dataset.xlsx')"
   ]
  },
  {
   "cell_type": "markdown",
   "metadata": {},
   "source": [
    "## Matching COVID-19 and Stock Market Data"
   ]
  },
  {
   "cell_type": "markdown",
   "metadata": {},
   "source": [
    "In the following, we show how we match our two different data sources by dates. We do it below, beginning by extracting from Spanish COVID-19 DataFrame, `date` and `total_cases` from the moment the infected were detected for the first time:"
   ]
  },
  {
   "cell_type": "code",
   "execution_count": 11,
   "metadata": {},
   "outputs": [],
   "source": [
    "# subset Spain total cases against market!\n",
    "spaTotCases = df[['date','total_cases']][df['location'] == 'Spain']\n",
    "spaTotCases = spaTotCases[spaTotCases.total_cases > 0].reset_index()"
   ]
  },
  {
   "cell_type": "markdown",
   "metadata": {},
   "source": [
    "We observe in the following that the first official detected cases in Spain has been reported since **2020-02-01** and our COVID-19 data source is updated until **2020-04-17**:\n",
    "\n"
   ]
  },
  {
   "cell_type": "code",
   "execution_count": 12,
   "metadata": {},
   "outputs": [
    {
     "name": "stdout",
     "output_type": "stream",
     "text": [
      "First reported date in Spain and number of infected people:\n",
      "          date  total_cases\n",
      "0  2020-02-01            1\n",
      " Last date in our data source and number of cases:\n",
      "           date  total_cases\n",
      "76  2020-04-17       182816\n"
     ]
    }
   ],
   "source": [
    "print(f\"First reported date in Spain and number of infected people:\\n \\\n",
    "{spaTotCases[['date','total_cases']].head(1)}\\n \\\n",
    "Last date in our data source and number of cases:\\n \\\n",
    "{spaTotCases[['date','total_cases']].tail(1)}\")"
   ]
  },
  {
   "cell_type": "markdown",
   "metadata": {},
   "source": [
    "The match between dates from COVID-19 and Yahoo Finance data sources is not straightforward considering stocks market info is not reported for weekends or holidays. Thus we build a boolean variable `boolDate` to match them properly:"
   ]
  },
  {
   "cell_type": "code",
   "execution_count": 13,
   "metadata": {},
   "outputs": [],
   "source": [
    "# stock prices doesn't have w-ends!\n",
    "boolDate  = spaTotCases.date == panel_data.index[0]\n",
    "for date in panel_data.index:\n",
    "    boolDate = boolDate | (pd.to_datetime(spaTotCases.date) == date)"
   ]
  },
  {
   "cell_type": "markdown",
   "metadata": {},
   "source": [
    "Now we use `boolDate` to fill `spaTotCases` DataFrame with a new column `'stock'`, where we place the closing values per day obtained from Yahoo Finance for Spain (*IBEX 35* stock market index):"
   ]
  },
  {
   "cell_type": "code",
   "execution_count": 14,
   "metadata": {},
   "outputs": [
    {
     "name": "stderr",
     "output_type": "stream",
     "text": [
      "C:\\Users\\beto\\anaconda3\\lib\\site-packages\\pandas\\core\\indexing.py:670: SettingWithCopyWarning: \n",
      "A value is trying to be set on a copy of a slice from a DataFrame\n",
      "\n",
      "See the caveats in the documentation: https://pandas.pydata.org/pandas-docs/stable/user_guide/indexing.html#returning-a-view-versus-a-copy\n",
      "  self._setitem_with_indexer(indexer, value)\n"
     ]
    }
   ],
   "source": [
    "# Close values of IBEX 35 per day\n",
    "stockClose = panel_data.Close\n",
    "# initialize stock column first\n",
    "spaTotCases['stock'] = stockClose\n",
    "# then properly place stockClose val|ues\n",
    "spaTotCases['stock'].loc[boolDate] = stockClose.values"
   ]
  },
  {
   "cell_type": "markdown",
   "metadata": {},
   "source": [
    "This is `spaTotCases` DataFrame with the new column `'stock'` added. Note that stock market information has not been provided during Easter time (from **2020-04-10** to **2020-04-13**)."
   ]
  },
  {
   "cell_type": "code",
   "execution_count": 15,
   "metadata": {},
   "outputs": [
    {
     "data": {
      "text/html": [
       "<div>\n",
       "<style scoped>\n",
       "    .dataframe tbody tr th:only-of-type {\n",
       "        vertical-align: middle;\n",
       "    }\n",
       "\n",
       "    .dataframe tbody tr th {\n",
       "        vertical-align: top;\n",
       "    }\n",
       "\n",
       "    .dataframe thead th {\n",
       "        text-align: right;\n",
       "    }\n",
       "</style>\n",
       "<table border=\"1\" class=\"dataframe\">\n",
       "  <thead>\n",
       "    <tr style=\"text-align: right;\">\n",
       "      <th></th>\n",
       "      <th>index</th>\n",
       "      <th>date</th>\n",
       "      <th>total_cases</th>\n",
       "      <th>stock</th>\n",
       "    </tr>\n",
       "  </thead>\n",
       "  <tbody>\n",
       "    <tr>\n",
       "      <th>67</th>\n",
       "      <td>3419</td>\n",
       "      <td>2020-04-08</td>\n",
       "      <td>140510</td>\n",
       "      <td>6951.799805</td>\n",
       "    </tr>\n",
       "    <tr>\n",
       "      <th>68</th>\n",
       "      <td>3420</td>\n",
       "      <td>2020-04-09</td>\n",
       "      <td>146690</td>\n",
       "      <td>7070.600098</td>\n",
       "    </tr>\n",
       "    <tr>\n",
       "      <th>69</th>\n",
       "      <td>3421</td>\n",
       "      <td>2020-04-10</td>\n",
       "      <td>152446</td>\n",
       "      <td>NaN</td>\n",
       "    </tr>\n",
       "    <tr>\n",
       "      <th>70</th>\n",
       "      <td>3422</td>\n",
       "      <td>2020-04-11</td>\n",
       "      <td>157022</td>\n",
       "      <td>NaN</td>\n",
       "    </tr>\n",
       "    <tr>\n",
       "      <th>71</th>\n",
       "      <td>3423</td>\n",
       "      <td>2020-04-12</td>\n",
       "      <td>161852</td>\n",
       "      <td>NaN</td>\n",
       "    </tr>\n",
       "    <tr>\n",
       "      <th>72</th>\n",
       "      <td>3424</td>\n",
       "      <td>2020-04-13</td>\n",
       "      <td>166019</td>\n",
       "      <td>NaN</td>\n",
       "    </tr>\n",
       "    <tr>\n",
       "      <th>73</th>\n",
       "      <td>3425</td>\n",
       "      <td>2020-04-14</td>\n",
       "      <td>169496</td>\n",
       "      <td>7108.600098</td>\n",
       "    </tr>\n",
       "    <tr>\n",
       "      <th>74</th>\n",
       "      <td>3426</td>\n",
       "      <td>2020-04-15</td>\n",
       "      <td>172541</td>\n",
       "      <td>6839.500000</td>\n",
       "    </tr>\n",
       "    <tr>\n",
       "      <th>75</th>\n",
       "      <td>3427</td>\n",
       "      <td>2020-04-16</td>\n",
       "      <td>177633</td>\n",
       "      <td>6763.399902</td>\n",
       "    </tr>\n",
       "    <tr>\n",
       "      <th>76</th>\n",
       "      <td>3428</td>\n",
       "      <td>2020-04-17</td>\n",
       "      <td>182816</td>\n",
       "      <td>6875.799805</td>\n",
       "    </tr>\n",
       "  </tbody>\n",
       "</table>\n",
       "</div>"
      ],
      "text/plain": [
       "    index        date  total_cases        stock\n",
       "67   3419  2020-04-08       140510  6951.799805\n",
       "68   3420  2020-04-09       146690  7070.600098\n",
       "69   3421  2020-04-10       152446          NaN\n",
       "70   3422  2020-04-11       157022          NaN\n",
       "71   3423  2020-04-12       161852          NaN\n",
       "72   3424  2020-04-13       166019          NaN\n",
       "73   3425  2020-04-14       169496  7108.600098\n",
       "74   3426  2020-04-15       172541  6839.500000\n",
       "75   3427  2020-04-16       177633  6763.399902\n",
       "76   3428  2020-04-17       182816  6875.799805"
      ]
     },
     "execution_count": 15,
     "metadata": {},
     "output_type": "execute_result"
    }
   ],
   "source": [
    "# write pandas DataFrame spaTotCases to csv file\n",
    "spaTotCases.to_csv('spainTotCaseStock.csv')\n",
    "spaTotCases.tail(10)"
   ]
  },
  {
   "cell_type": "markdown",
   "metadata": {},
   "source": [
    "# Questions and Answers "
   ]
  },
  {
   "cell_type": "markdown",
   "metadata": {},
   "source": [
    "### What are the countries that are most affected by Coronavirus in terms of New Deaths, Total Deaths and Total Cases?"
   ]
  },
  {
   "cell_type": "code",
   "execution_count": 16,
   "metadata": {},
   "outputs": [
    {
     "data": {
      "text/html": [
       "<div>\n",
       "<style scoped>\n",
       "    .dataframe tbody tr th:only-of-type {\n",
       "        vertical-align: middle;\n",
       "    }\n",
       "\n",
       "    .dataframe tbody tr th {\n",
       "        vertical-align: top;\n",
       "    }\n",
       "\n",
       "    .dataframe thead th {\n",
       "        text-align: right;\n",
       "    }\n",
       "</style>\n",
       "<table border=\"1\" class=\"dataframe\">\n",
       "  <thead>\n",
       "    <tr style=\"text-align: right;\">\n",
       "      <th></th>\n",
       "      <th>location</th>\n",
       "      <th>new_deaths</th>\n",
       "    </tr>\n",
       "  </thead>\n",
       "  <tbody>\n",
       "    <tr>\n",
       "      <th>11001</th>\n",
       "      <td>United States</td>\n",
       "      <td>4928</td>\n",
       "    </tr>\n",
       "  </tbody>\n",
       "</table>\n",
       "</div>"
      ],
      "text/plain": [
       "            location  new_deaths\n",
       "11001  United States        4928"
      ]
     },
     "execution_count": 16,
     "metadata": {},
     "output_type": "execute_result"
    }
   ],
   "source": [
    "idx = df['new_deaths'] == df['new_deaths'].max()\n",
    "df[['location','new_deaths']][idx]"
   ]
  },
  {
   "cell_type": "code",
   "execution_count": 17,
   "metadata": {},
   "outputs": [
    {
     "data": {
      "text/html": [
       "<div>\n",
       "<style scoped>\n",
       "    .dataframe tbody tr th:only-of-type {\n",
       "        vertical-align: middle;\n",
       "    }\n",
       "\n",
       "    .dataframe tbody tr th {\n",
       "        vertical-align: top;\n",
       "    }\n",
       "\n",
       "    .dataframe thead th {\n",
       "        text-align: right;\n",
       "    }\n",
       "</style>\n",
       "<table border=\"1\" class=\"dataframe\">\n",
       "  <thead>\n",
       "    <tr style=\"text-align: right;\">\n",
       "      <th></th>\n",
       "      <th>location</th>\n",
       "      <th>total_deaths</th>\n",
       "    </tr>\n",
       "  </thead>\n",
       "  <tbody>\n",
       "    <tr>\n",
       "      <th>11002</th>\n",
       "      <td>United States</td>\n",
       "      <td>33284</td>\n",
       "    </tr>\n",
       "  </tbody>\n",
       "</table>\n",
       "</div>"
      ],
      "text/plain": [
       "            location  total_deaths\n",
       "11002  United States         33284"
      ]
     },
     "execution_count": 17,
     "metadata": {},
     "output_type": "execute_result"
    }
   ],
   "source": [
    "idx = df['total_deaths'] == df['total_deaths'].max()\n",
    "df[['location','total_deaths']][idx]"
   ]
  },
  {
   "cell_type": "code",
   "execution_count": 18,
   "metadata": {},
   "outputs": [
    {
     "data": {
      "text/html": [
       "<div>\n",
       "<style scoped>\n",
       "    .dataframe tbody tr th:only-of-type {\n",
       "        vertical-align: middle;\n",
       "    }\n",
       "\n",
       "    .dataframe tbody tr th {\n",
       "        vertical-align: top;\n",
       "    }\n",
       "\n",
       "    .dataframe thead th {\n",
       "        text-align: right;\n",
       "    }\n",
       "</style>\n",
       "<table border=\"1\" class=\"dataframe\">\n",
       "  <thead>\n",
       "    <tr style=\"text-align: right;\">\n",
       "      <th></th>\n",
       "      <th>location</th>\n",
       "      <th>total_cases</th>\n",
       "    </tr>\n",
       "  </thead>\n",
       "  <tbody>\n",
       "    <tr>\n",
       "      <th>11002</th>\n",
       "      <td>United States</td>\n",
       "      <td>671331</td>\n",
       "    </tr>\n",
       "  </tbody>\n",
       "</table>\n",
       "</div>"
      ],
      "text/plain": [
       "            location  total_cases\n",
       "11002  United States       671331"
      ]
     },
     "execution_count": 18,
     "metadata": {},
     "output_type": "execute_result"
    }
   ],
   "source": [
    "idx = df['total_cases'] == df['total_cases'].max()\n",
    "df[['location','total_cases']][idx]"
   ]
  },
  {
   "cell_type": "markdown",
   "metadata": {},
   "source": [
    "### How has Coronavirus affected countries globally? How have the number of cases increased with time in our chosen 15 countries?"
   ]
  },
  {
   "cell_type": "markdown",
   "metadata": {},
   "source": [
    "In order to analyse our dataset more specifically, we chose 15 countries in order to determine how Coronavirus has affected them overtime. The 15 countries were selected based on their number of cases.\n",
    "As the dataset is large and the data is sometimes inconsistent with respect to their start date, we chose 6 specific time points in order to observe the evolution of the virus."
   ]
  },
  {
   "cell_type": "code",
   "execution_count": 19,
   "metadata": {},
   "outputs": [],
   "source": [
    "select15 = df[(df['location'] == 'United States') |\n",
    "               (df['location'] == 'Spain') |\n",
    "               (df['location'] == 'Italy') |\n",
    "               (df['location'] == 'Germany') |\n",
    "                (df['location'] == 'France') |\n",
    "                (df['location'] == 'United Kingdom') |\n",
    "                (df['location'] == 'China') |\n",
    "                (df['location'] == 'Iran') |\n",
    "                (df['location'] == 'Turkey') |\n",
    "                (df['location'] == 'Belgium') |\n",
    "                (df['location'] == 'Brazil') |\n",
    "                (df['location'] == 'Canada') |\n",
    "                (df['location'] == 'Netherlands') |\n",
    "                (df['location'] == 'Russia') |\n",
    "                (df['location'] == 'Switzerland')]"
   ]
  },
  {
   "cell_type": "code",
   "execution_count": 20,
   "metadata": {},
   "outputs": [],
   "source": [
    "select15_time = select15[((select15['date'] == '2020-01-31')\n",
    "                   | (select15['date'] == '2020-02-29')\n",
    "                   | (select15['date'] == '2020-03-16')\n",
    "                    | (select15['date'] == '2020-03-31')\n",
    "                   | (select15['date'] == '2020-04-08')\n",
    "                   | (select15['date'] == '2020-04-17'))]"
   ]
  },
  {
   "cell_type": "markdown",
   "metadata": {},
   "source": [
    "### Answer\n",
    "\n",
    "As you can see from the plot below, the greatest number of total coronavirus cases is in the USA, with China, Italy also affected. By utilising the above datasets, we have plotted the evolution of the virus in each of these countries with time. For brevity and to keep the audience interest, instead of showing each image seperately, we exported a PNG file of the graph at each time point, then using a basic movie making software, we constructed a video. "
   ]
  },
  {
   "cell_type": "code",
   "execution_count": 21,
   "metadata": {},
   "outputs": [
    {
     "data": {
      "image/png": "[encoded data removed]",
      "text/plain": [
       "<Figure size 720x360 with 1 Axes>"
      ]
     },
     "metadata": {
      "needs_background": "light"
     },
     "output_type": "display_data"
    }
   ],
   "source": [
    "sort = df.sort_values(by = 'total_cases', ascending = False)\n",
    "aprilend_top10 = sort[sort['date'] == '2020-04-17'].head(10)\n",
    "aprilend_top10.plot(x = 'location', y = 'total_cases', kind = 'bar', legend = None, color=['black','red','gold','royalblue','deepskyblue','peru','orangered','lime','cyan','indigo','orchid','maroon','oldlace','g','forestgreen'])\n",
    "plt.gca().invert_xaxis()\n",
    "plt.rc('font', size= 15) \n",
    "plt.title(\"Total Coronavirus Cases as of 2020-04-17\")\n",
    "plt.ylabel(\"Cases\")\n",
    "plt.gcf().set_size_inches(10,5)\n",
    "plt.savefig('Top 15 2020-04-17.png', bbox_inches='tight')\n",
    "plt.show()"
   ]
  },
  {
   "cell_type": "markdown",
   "metadata": {},
   "source": [
    "The resulting video is attached in the following [link](https://drive.google.com/open?id=1uYf_BTOa8BModt2vM9xS9CMGENrgRzYI)"
   ]
  },
  {
   "cell_type": "markdown",
   "metadata": {},
   "source": [
    "###  How has Coronavirus in Spain evolved over time? Is our data source reliable?"
   ]
  },
  {
   "cell_type": "markdown",
   "metadata": {},
   "source": [
    "We are particularly interested in how the number of deaths in Spain has progressed with time and wherever they are inline with the expectation of services such as MOMO. MOMO is the Mortality Monitoring System of Spain who makes predictions with regards to the number of daily deaths on average in Spain. During COVID-19 the deaths have increased dramatically from the baseline, and the values reported to WHO are different from those reported by MOMO.\n",
    "This suggests that there is discrepancy or a delay possibly in reporting of the COVID-19 to WHO."
   ]
  },
  {
   "cell_type": "markdown",
   "metadata": {},
   "source": [
    "In order to plot the data, we utilised Matplotplib. The resulting line graph demonstrates a significant uptick in the number of deaths as a result of COVID-19 beginning in March and finally plateauing in mid-April."
   ]
  },
  {
   "cell_type": "code",
   "execution_count": 22,
   "metadata": {},
   "outputs": [
    {
     "data": {
      "image/png": "[encoded data removed]",
      "text/plain": [
       "<Figure size 720x360 with 1 Axes>"
      ]
     },
     "metadata": {
      "needs_background": "light"
     },
     "output_type": "display_data"
    }
   ],
   "source": [
    "plt.plot(spain['date'], spain['new_deaths'])\n",
    "plt.title(\"COVID-19 New Deaths in Spain Reported by WHO\")\n",
    "plt.xlabel('\\nDate')\n",
    "plt.gca().xaxis.set_major_locator(DayLocator(interval = 14))\n",
    "plt.xticks(rotation = 90)\n",
    "plt.ylabel('# of cases')\n",
    "plt.gcf().set_size_inches(10,5)\n",
    "plt.savefig('Spain NewCasesNewDeaths', bbox_inches='tight')"
   ]
  },
  {
   "cell_type": "markdown",
   "metadata": {},
   "source": [
    "The MOMO database, which estimates the amount of deaths per day in Spain since 2008, has displayed an increase in deaths above the typical average mortality rate."
   ]
  },
  {
   "cell_type": "markdown",
   "metadata": {},
   "source": [
    "![](images/momo.PNG)"
   ]
  },
  {
   "cell_type": "markdown",
   "metadata": {},
   "source": [
    "As previously mentioned, we also used Flourish in order to visualize our data. This allowed us to see a rolling bar chart of the data subset from Spain withtime. The visualization is viewable below."
   ]
  },
  {
   "cell_type": "markdown",
   "metadata": {},
   "source": [
    "#### https://public.flourish.studio/visualisation/2021252/"
   ]
  },
  {
   "cell_type": "markdown",
   "metadata": {},
   "source": [
    "### How has Coronavirus in Spain evolved over time compared to its stock market?"
   ]
  },
  {
   "cell_type": "markdown",
   "metadata": {},
   "source": [
    "In this part we compare the evolution of the total cases in Spain against its stock market index named *IBEX 35*. The resulting plot is performed in the following figure, which contains two scales in the y-axis (left for total cases, right for *IBEX 35*):"
   ]
  },
  {
   "cell_type": "markdown",
   "metadata": {},
   "source": [
    "![spainIbex](images/spainIbexG.png)"
   ]
  },
  {
   "cell_type": "markdown",
   "metadata": {},
   "source": [
    "From the plot above we get the following data insights. Tipping point (date) for COVID: <span style=\"color:blue\"> March 09 </span>, tipping point (date starting decay) for *IBEX 35*: <span style=\"color:blue\"> February 19 </span>, date where *IBEX 35* recovery trend begins: <span style=\"color:blue\"> March 16 </span>, *IBEX 35* relative decay: <span style=\"color:red\"> 39.5 % </span> and *IBEX 35* relative recovery: <span style=\"color:red\"> 13.7 % </span>."
   ]
  },
  {
   "cell_type": "markdown",
   "metadata": {},
   "source": [
    "The main ingredients to get the plot above are shown in the Matlab&reg; code below. We will soon update this post to reproduce the same Figure using Python matplotlib library instead!"
   ]
  },
  {
   "cell_type": "markdown",
   "metadata": {},
   "source": [
    "```Matlab\n",
    "% read pandas DataFrame spaTotCases from csv\n",
    "B = readtable('spainTotCaseStock.csv');\n",
    "% equivalent to numpy array from one to len(spaTotCases.total_cases)\n",
    "x = 1:size(B{:,4},1);\n",
    "% equivalent to pandas spaTotCases.stock\n",
    "y = B{:,5};\n",
    "% interpolate linearly the NaN values from stock market array 'y'\n",
    "xs = x(~isnan(y));\n",
    "ys = y(~isnan(y));\n",
    "yi = interp1(xs, ys, x, 'Linear');\n",
    "% define x array with dates from pandas spaTotCases.date\n",
    "startdate = datetime(B{1,3});\n",
    "enddate = datetime(B{end,3});\n",
    "x = startdate:enddate;\n",
    "% equivalent to pandas spaTotCases.total_cases\n",
    "y1 = B{:,4};\n",
    "% plot using two scales in y-axis (left: spaTotCases.total_cases) - (right: spaTotCases.stock with NaN interpolated)\n",
    "[hAx,hLine1,hLine2] = plotyy(x,y1,x,yi);\n",
    "```"
   ]
  },
  {
   "cell_type": "markdown",
   "metadata": {},
   "source": [
    "The main ingredient is to replace NaN values from the stock market (that is weekends or holidays) with linearly interpolated values from the reported data available. Using the same workflow we could extract information about how COVID-19 in other countries such as Germany (see figure below)."
   ]
  },
  {
   "cell_type": "markdown",
   "metadata": {},
   "source": [
    "\n",
    "![germanyGDAXI](images/germanyGDAXI_g.png)\n"
   ]
  },
  {
   "cell_type": "markdown",
   "metadata": {},
   "source": [
    "## Conclusions "
   ]
  },
  {
   "cell_type": "markdown",
   "metadata": {},
   "source": [
    "### What did we learn from our findings and data analysis?\n",
    "\n",
    "- Finding a comprehensive and good API is hard to find! We're often limited by the number of calls the API allows us to do everyday. However, it appears that Yahoo allows for large number of calls.\n",
    "- It's important to compare different sources of data. For example; the discrepancy between WHO and MOMO highlights different reporting methods. \n",
    "- Being realistic with our data sources and our expectation. We determined that analysing the whole dataset for every single day would not help our narrative.\n",
    "- Based on our data anlysis, we reported the following results in the stock markets (refer to our presentation [here](https://docs.google.com/presentation/d/1BTXM-IvcF2lO5uZjeCRaDrxv3b4xxCChFT3GSv59iKY/edit#slide=id.g731ddd128b_1_18) to see all our data visualizations):\n",
    "    - The highest stock market drop during COVID-19 among our analyzed countries has been registered in Italy (<span style=\"color:red\"> 42 % </span>).\n",
    "    - The highest stock market recovery during COVID-19 among our analyzed countries has been registered in USA (<span style=\"color:red\"> 29 % </span>).\n",
    "    - Western stock markets decays started on <span style=\"color:blue\"> February 19 </span> for all our analyzed countries."
   ]
  },
  {
   "cell_type": "markdown",
   "metadata": {},
   "source": [
    "## Further Work"
   ]
  },
  {
   "cell_type": "markdown",
   "metadata": {},
   "source": [
    "- Investigate more datasets and utilise functions which would automatically update our data and generate images periodically. \n",
    "- Utilize Matplotlib to construct animations / videos instead of using external sources.\n",
    "- Dig deeper on the following question: why all western countries stock markets decay started in <span style=\"color:blue\"> February 19 </span>, independently on the actual number of COVID-19 reported cases.\n",
    "- Measure the impact of the first COVID-19 outbreack (China) in the western stock markets."
   ]
  }
 ],
 "metadata": {
  "kernelspec": {
   "display_name": "Python 3",
   "language": "python",
   "name": "python3"
  },
  "language_info": {
   "codemirror_mode": {
    "name": "ipython",
    "version": 3
   },
   "file_extension": ".py",
   "mimetype": "text/x-python",
   "name": "python",
   "nbconvert_exporter": "python",
   "pygments_lexer": "ipython3",
   "version": "3.7.6"
  }
 },
 "nbformat": 4,
 "nbformat_minor": 4
}
