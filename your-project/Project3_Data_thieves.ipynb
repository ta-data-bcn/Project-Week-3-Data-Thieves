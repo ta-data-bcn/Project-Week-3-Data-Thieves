{
 "cells": [
  {
   "cell_type": "markdown",
   "metadata": {},
   "source": [
    "### Project instructions\n",
    "\n",
    "Your paper will be a Jupyter notebook with a combination of plots and analysis. All the plots will need to be created in Tableau.\n",
    "\n",
    "The structure should be:\n",
    "\n",
    "- Title of the project.\n",
    "- Introduction to the analysis.\n",
    "- Data used (sources, limitations, cleaning, etc...)\n",
    "- Questions you want to answer. Each question should include a graph and an answer to that question.\n",
    "- Insights derived from your analysis.\n",
    "- Possible further questions and improvements.\n",
    "- You can find some paper examples in the Resources section."
   ]
  },
  {
   "cell_type": "markdown",
   "metadata": {},
   "source": [
    "# Trumponomics?"
   ]
  },
  {
   "cell_type": "markdown",
   "metadata": {},
   "source": [
    "### Briefing (Introduction to the analysis)\n",
    "\n",
    "We are interested in understanding the influence of Western governments in international finance and public opinion. Who is more influenced nowadays? Do they affect each other? Since this is a wide and complex topic, we narrow it down to an observation of the characters that have caused great global turnmoil in the last decade: Wall Street & Trump. \n",
    "\n",
    "For this, we detect the points of stronger correlation between the Dow Jones and Trump's popularity index. Then we analyse Trump's tweets on those dates to try to understand whether there is a clear relation or just a random similar move."
   ]
  },
  {
   "cell_type": "markdown",
   "metadata": {},
   "source": [
    "### Data\n",
    "\n",
    "Since the datasets used compile commonly used indicators and come from widely known sources, they were quite clean. We did not implemented many adjustments aside from some manipulation to adjust formats in order to be able to make calculations.\n",
    "\n",
    "The datasets used are the following: \n",
    "\n",
    "**Dow Jones index**\n",
    "- 1. Period: Jan 2017-June 2020\n",
    "- 2. Source: Yahoo finance\n",
    "- 3. Format: csv\n",
    "\n",
    "**Trump's popularity index (approvals and disapprovals)**\n",
    "- 1. Period: Jan 2017-June 2020\n",
    "- 2. Source: \"How popular is Donald Trump?\", fivethirtyeight.com (https://projects.fivethirtyeight.com/trump-approval-ratings/?ex_cid=rrpromo)\n",
    "- 3. Format: webscrapping, JSON files\n",
    "\n",
    "**Trump tweets (csv)**\n",
    "- 1. Period: Jan 2017-June 2020\n",
    "- 2. Source: https://www.kaggle.com/austinreese/trump-tweets?select=realdonaldtrump.csv\n",
    "- 3. Format: csv"
   ]
  },
  {
   "cell_type": "markdown",
   "metadata": {},
   "source": [
    "### Questions\n",
    "\n",
    "- How does Wall Street affect Trump's popularity (and what does he have to say about it)?\n",
    "- How do Trump's tweets affect Wall Street?"
   ]
  },
  {
   "cell_type": "markdown",
   "metadata": {},
   "source": [
    "### Insights\n",
    "\n",
    "**Evolution of Dow Jones and Trump's popularity between 2017 and 2020**\n",
    "\n",
    "- **Dow Jones**\n",
    "\n",
    "The Dow Jones selected metric shows the closing price of the index daily for the period.\n",
    "\n",
    "![DOWJ.png](gif/DOWJ.png)\n",
    "\n",
    "The general trend of the index between 2017 and 2020 is ascending, with some pronounced drops at the end of 2018 (when tensions regarding trade wars between the US and China accumulated and investors feared an economic recession) and beginning of 2020 (related to the COVID pandemic).\n",
    "\n",
    "- **Popularity Index (Trump)**\n",
    "\n",
    "The popularity index shows the approval and disapproval rating of the Administration's actions. \n",
    "\n",
    "We analyse three measures of it in order to understand possible source biases that we should need to take into account: polls coming from voters, from adults and an aggregate of all polls. We find that the results are very similar in all cases. Therefore, no further adjustments are required.\n",
    "\n",
    "![Pop_index.png](gif/Pop_index.png)\n",
    "\n",
    "The popularity index shows that the disapproval rates are higher than the approval rates throughout the whole period. \n",
    "\n",
    "As for the behaviour of the curves, both indicators mirror each other, which signals a clear division game between Trump's supporters and the opposition. Likewise, both tend to be quite flat throughout the period, with three key increases corresponding to the beginning of Trump's government in 2017 (especially related to the tensions with North Korea), the federal government shutdown and the Russia Gate at the end of 2018 (which coincided with the escalating tensions with China's trade war), and the handling of the COVID situation in 2020 (when the US President widely provided uninformed health advice).\n",
    "\n",
    "- **Correlations**\n",
    "\n",
    "When we calculate the correlation of the datasets for the whole period, we do not find any correlation. However, when we dive deeper, we find several months when the correlations between the popularity index and the Dow Jones is strong (close to +/-1).\n",
    "\n",
    "![Pop_DOWJ_related.png](gif/Pop_DOWJ_related.png)\n",
    "\n",
    "![CORR_POP_DOWJ.png](gif/CORR_POP_DOWJ.png)\n",
    "\n",
    "We have analysed Trump's tweets and financial analysis on the months where high correlation is found (correlation +/-0,8). We found the following:\n",
    "\n",
    "*February 2017*\n",
    "Stronger than expected employment report makes Dow-Jones increase significantly.\n",
    "Trump threats with declaring the war to Iran and disapproval rate increases significantly. \n",
    "Strong correlation is random.\n",
    "\n",
    "*September 2017*\n",
    "Dow Jones rally up related to expansive fiscal policy (less taxes, more government spending).\n",
    "Approval rate increases due to Trump's fiscal policy.\n",
    "Strong correlation derived from Trump's Administration action.\n",
    "\n",
    "*January-February 2019*\n",
    "Strong drop in Dow Jones during December 2018, followed by a slow recovery during January and February. This drop is related to investors fearing an economic slowdown linked to the increasing tensions between US and China regarding the trade war, which softened in February.\n",
    "\n",
    "Disapproval rate increased during this period coinciding with the China trade war and the Government shutdown, which ended towards the end of January.\n",
    "Strong correlation derived from economic indicators affected by Trump's international policy.\n",
    "\n",
    "*April-May 2020*\n",
    "Strong drop in Dow Jones related to the expected economic impact of the COVID pandemic as well as the rising tensions between China and Trump.\n",
    "\n",
    "Disapproval rate increased (and approval rate decreased, hence converging instead of mirroring for once) due to the handling of the COVID health crisis.\n",
    "\n",
    "Strong correlation derived from the same critical event.\n",
    "\n",
    "**Conclusion**\n",
    "Trump actions have an effect in Wall Street whenever they have a direct impact in the economic indicators. Wall Street does not seem to care about other political issues.\n",
    "The popularity index, however, is more affected by what Trump says and fluctuates more with his speech."
   ]
  },
  {
   "cell_type": "markdown",
   "metadata": {},
   "source": [
    "### Further questions and improvements"
   ]
  },
  {
   "cell_type": "markdown",
   "metadata": {},
   "source": [
    "- Check whether there is any relationship between stock highs and lows and his tweeting activity (shock doctrine)\n",
    "- Engagement evolution of the public with his tweets since he was elected (impact in public opinion)\n",
    "- Sentiment analysis of Trump's tweets"
   ]
  }
 ],
 "metadata": {
  "kernelspec": {
   "display_name": "Python 3",
   "language": "python",
   "name": "python3"
  },
  "language_info": {
   "codemirror_mode": {
    "name": "ipython",
    "version": 3
   },
   "file_extension": ".py",
   "mimetype": "text/x-python",
   "name": "python",
   "nbconvert_exporter": "python",
   "pygments_lexer": "ipython3",
   "version": "3.8.3"
  }
 },
 "nbformat": 4,
 "nbformat_minor": 4
}
