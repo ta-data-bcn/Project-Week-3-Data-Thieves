{
 "cells": [
  {
   "cell_type": "code",
   "execution_count": 6,
   "metadata": {},
   "outputs": [
    {
     "name": "stdout",
     "output_type": "stream",
     "text": [
      "please enter a finale name for your CSV : listingtest\n",
      "today we are going to extract one year of BCN AirBnb data !\n",
      "hello mates\n"
     ]
    },
    {
     "name": "stderr",
     "output_type": "stream",
     "text": [
      "<ipython-input-6-13b3e061cdde>:29: SettingWithCopyWarning: \n",
      "A value is trying to be set on a copy of a slice from a DataFrame.\n",
      "Try using .loc[row_indexer,col_indexer] = value instead\n",
      "\n",
      "See the caveats in the documentation: http://pandas.pydata.org/pandas-docs/stable/user_guide/indexing.html#returning-a-view-versus-a-copy\n",
      "  table_neighborhoods['price_x']  = table_neighborhoods['price_x'].str.replace('$','')\n",
      "<ipython-input-6-13b3e061cdde>:30: SettingWithCopyWarning: \n",
      "A value is trying to be set on a copy of a slice from a DataFrame.\n",
      "Try using .loc[row_indexer,col_indexer] = value instead\n",
      "\n",
      "See the caveats in the documentation: http://pandas.pydata.org/pandas-docs/stable/user_guide/indexing.html#returning-a-view-versus-a-copy\n",
      "  table_neighborhoods['price_x']  = table_neighborhoods['price_x'].str.replace(',','')\n",
      "<ipython-input-6-13b3e061cdde>:31: SettingWithCopyWarning: \n",
      "A value is trying to be set on a copy of a slice from a DataFrame.\n",
      "Try using .loc[row_indexer,col_indexer] = value instead\n",
      "\n",
      "See the caveats in the documentation: http://pandas.pydata.org/pandas-docs/stable/user_guide/indexing.html#returning-a-view-versus-a-copy\n",
      "  table_neighborhoods['price_x'] = table_neighborhoods['price_x'].astype(float)\n"
     ]
    },
    {
     "name": "stdout",
     "output_type": "stream",
     "text": [
      "the merged & cleansed table has been created, now we need to save it in a .csv\n",
      "Data pipeline completed, have a nice day.\n"
     ]
    }
   ],
   "source": [
    "import pandas as pd\n",
    "\n",
    "def acquire_calendar(url_calendar):\n",
    "    \"\"\"\n",
    "    Input : give url for calendar & host listings\n",
    "    Output : return raw data frame for calendar & host listings to be cleansed\n",
    "    \"\"\"\n",
    "    airbnb_calendar = pd.read_csv(url_calendar)\n",
    "    return airbnb_calendar\n",
    "\n",
    "def acquire_listing(url_listing):\n",
    "    \"\"\"\n",
    "    Input : give url for calendar & host listings\n",
    "    Output : return raw data frame for calendar & host listings to be cleansed\n",
    "    \"\"\"\n",
    "    airbnb_listing = pd.read_csv(url_listing)\n",
    "    return airbnb_listing\n",
    "\n",
    "def wrangle(airbnb_calendar, airbnb_listing):\n",
    "    \"\"\"\n",
    "    Input : give two df airbnb_listing & airbnb_calendar\n",
    "    Output : return cleansed merged data frame\n",
    "    \"\"\"\n",
    "    #merging tables together\n",
    "    table_neighborhood_raw = pd.DataFrame.merge(airbnb_calendar, airbnb_listing, left_on = 'listing_id', right_on = 'id')\n",
    "    #keeping only interesting columns\n",
    "    table_neighborhoods = table_neighborhood_raw[['listing_id', 'date', 'available', 'price_x',  'neighbourhood_group','latitude', 'longitude', 'room_type']]\n",
    "    #transforming string columns 'price' into float type column\n",
    "    table_neighborhoods['price_x']  = table_neighborhoods['price_x'].str.replace('$','')\n",
    "    table_neighborhoods['price_x']  = table_neighborhoods['price_x'].str.replace(',','')\n",
    "    table_neighborhoods['price_x'] = table_neighborhoods['price_x'].astype(float)\n",
    "    #creating filter to keep only 'Entire Home' room type\n",
    "    filter_entire_home = table_neighborhoods['room_type'].str.contains('Entire home')\n",
    "    table_neighborhoods = table_neighborhoods.loc[filter_entire_home ]\n",
    "    return table_neighborhoods\n",
    "\n",
    "def analyze(table_neighborhoods):\n",
    "    \"\"\"\n",
    "    Input : give table to analyze\n",
    "    Output : return light version of the table with only 'Entire home' room type\n",
    "    \"\"\"   \n",
    "    #droping useless column room_type\n",
    "    table_neighborhoods.drop(columns=['room_type'], inplace = True)\n",
    "    table_neighborhoods_3000 = table_neighborhoods.loc[table_neighborhoods[\"price_x\"] < 3000]\n",
    "    return table_neighborhoods_3000\n",
    "\n",
    "# def report(result, year):\n",
    "#     fig, ax = plt.subplots(figsize=(15,8))\n",
    "#     barchart = sns.barplot(data=result, x='Make', y='City MPG')\n",
    "#     plt.title(f'Top 10 fuel efficient Makes in {year}', fontsize=16)\n",
    "#     return barchart\n",
    "\n",
    "def save_report(table_neighborhoods_3000, file_name):\n",
    "    print('the merged & cleansed table has been created, now we need to save it in a .csv')\n",
    "    \n",
    "    table_neighborhoods_3000.to_csv('r' + file_name +'.csv')\n",
    "\n",
    "\n",
    "#Please enter your variables = URLs & file name\n",
    "\n",
    "url_listing =  'http://data.insideairbnb.com/spain/catalonia/barcelona/2018-11-07/visualisations/listings.csv'\n",
    "url_calendar = 'http://data.insideairbnb.com/spain/catalonia/barcelona/2018-11-07/data/calendar.csv.gz'\n",
    "\n",
    "file_name = input('please enter a finale name for your CSV : ')\n",
    "\n",
    "if __name__ == '__main__':\n",
    "    print('today we are going to extract one year of BCN AirBnb data !')\n",
    "    print('hello mates')\n",
    "\n",
    "    airbnb_calendar = acquire_calendar(url_calendar)\n",
    "    airbnb_listing = acquire_listing(url_listing)\n",
    "    #Wrangling\n",
    "    table_neighborhood_filtered = wrangle(airbnb_calendar, airbnb_listing)\n",
    "\n",
    "    #Analysis\n",
    "    table_neighborhood_clean = analyze(table_neighborhood_filtered)\n",
    "\n",
    "    #reporting\n",
    "    save_report(table_neighborhood_clean, file_name)\n",
    "    \n",
    "    print('Data pipeline completed, have a nice day.')\n"
   ]
  },
  {
   "cell_type": "code",
   "execution_count": null,
   "metadata": {},
   "outputs": [],
   "source": []
  }
 ],
 "metadata": {
  "kernelspec": {
   "display_name": "Python 3.8.0 64-bit",
   "language": "python",
   "name": "python38064bitd0769e4d01074ad79ec9961b00779271"
  },
  "language_info": {
   "codemirror_mode": {
    "name": "ipython",
    "version": 3
   },
   "file_extension": ".py",
   "mimetype": "text/x-python",
   "name": "python",
   "nbconvert_exporter": "python",
   "pygments_lexer": "ipython3",
   "version": "3.8.0"
  }
 },
 "nbformat": 4,
 "nbformat_minor": 4
}
